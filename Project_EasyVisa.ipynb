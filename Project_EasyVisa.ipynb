{
 "cells": [
  {
   "cell_type": "markdown",
   "id": "AT5OogJVFbwu",
   "metadata": {
    "id": "AT5OogJVFbwu"
   },
   "source": [
    "# EasyVisa Project\n",
    "\n",
    "## Context:\n",
    "\n",
    "Business communities in the United States are facing high demand for human resources, but one of the constant challenges is identifying and attracting the right talent, which is perhaps the most important element in remaining competitive. Companies in the United States look for hard-working, talented, and qualified individuals both locally as well as abroad.\n",
    "\n",
    "The Immigration and Nationality Act (INA) of the US permits foreign workers to come to the United States to work on either a temporary or permanent basis. The act also protects US workers against adverse impacts on their wages or working conditions by ensuring US employers' compliance with statutory requirements when they hire foreign workers to fill workforce shortages. The immigration programs are administered by the Office of Foreign Labor Certification (OFLC).\n",
    "\n",
    "OFLC processes job certification applications for employers seeking to bring foreign workers into the United States and grants certifications in those cases where employers can demonstrate that there are not sufficient US workers available to perform the work at wages that meet or exceed the wage paid for the occupation in the area of intended employment.\n",
    "\n",
    "## Objective:\n",
    "\n",
    "In FY 2016, the OFLC processed 775,979 employer applications for 1,699,957 positions for temporary and permanent labor certifications. This was a nine percent increase in the overall number of processed applications from the previous year. The process of reviewing every case is becoming a tedious task as the number of applicants is increasing every year.\n",
    "\n",
    "The increasing number of applicants every year calls for a Machine Learning based solution that can help in shortlisting the candidates having higher chances of VISA approval. OFLC has hired your firm EasyVisa for data-driven solutions. You as a data scientist have to analyze the data provided and, with the help of a classification model:\n",
    "\n",
    "* Facilitate the process of visa approvals.\n",
    "* Recommend a suitable profile for the applicants for whom the visa should be certified or denied based on the drivers that significantly influence the case status. \n",
    "\n",
    "\n",
    "## Data Description\n",
    "\n",
    "The data contains the different attributes of the employee and the employer. The detailed data dictionary is given below.\n",
    "\n",
    "* case_id: ID of each visa application\n",
    "* continent: Information of continent the employee\n",
    "* education_of_employee: Information of education of the employee\n",
    "* has_job_experience: Does the employee has any job experience? Y= Yes; N = No\n",
    "* requires_job_training: Does the employee require any job training? Y = Yes; N = No \n",
    "* no_of_employees: Number of employees in the employer's company\n",
    "* yr_of_estab: Year in which the employer's company was established\n",
    "* region_of_employment: Information of foreign worker's intended region of employment in the US.\n",
    "* prevailing_wage:  Average wage paid to similarly employed workers in a specific occupation in the area of intended employment. The purpose of the prevailing wage is to ensure that the foreign worker is not underpaid compared to other workers offering the same or similar service in the same area of employment. \n",
    "* unit_of_wage: Unit of prevailing wage. Values include Hourly, Weekly, Monthly, and Yearly.\n",
    "* full_time_position: Is the position of work full-time? Y = Full Time Position; N = Part Time Position\n",
    "* case_status:  Flag indicating if the Visa was certified or denied"
   ]
  },
  {
   "cell_type": "markdown",
   "id": "dirty-island",
   "metadata": {
    "id": "dirty-island"
   },
   "source": [
    "## Importing necessary libraries and data"
   ]
  },
  {
   "cell_type": "code",
   "execution_count": 1,
   "id": "statewide-still",
   "metadata": {
    "id": "statewide-still"
   },
   "outputs": [
    {
     "data": {
      "application/javascript": [
       "\n",
       "            setTimeout(function() {\n",
       "                var nbb_cell_id = 1;\n",
       "                var nbb_unformatted_code = \"# this will help in making the Python code more structured automatically (good coding practice)\\n%load_ext nb_black\\n\\n# Library to suppress warnings or deprecation notes\\nimport warnings\\n\\nwarnings.filterwarnings(\\\"ignore\\\")\\n\\n# Libraries to help with reading and manipulating data\\n\\nimport pandas as pd\\nimport numpy as np\\n\\n# libaries to help with data visualization\\nimport matplotlib.pyplot as plt\\nimport seaborn as sns\\n\\n# Library to split data\\nfrom sklearn.model_selection import train_test_split\\n\\n# Libraries to build decision tree classifier\\nfrom sklearn.tree import DecisionTreeClassifier\\nfrom sklearn import tree\\n\\n# Libraries to build ensemble models\\nfrom sklearn.ensemble import (\\n    BaggingClassifier,\\n    RandomForestClassifier,\\n    GradientBoostingClassifier,\\n    AdaBoostClassifier,\\n    StackingClassifier,\\n)\\nfrom xgboost import XGBClassifier\\n\\n# To tune different models\\nfrom sklearn.model_selection import GridSearchCV\\n\\n# To get diferent metric scores\\nfrom sklearn.metrics import (\\n    f1_score,\\n    accuracy_score,\\n    recall_score,\\n    precision_score,\\n    confusion_matrix,\\n    plot_confusion_matrix,\\n    make_scorer,\\n    roc_auc_score,\\n    precision_recall_curve,\\n    roc_curve,\\n)\";\n",
       "                var nbb_formatted_code = \"# this will help in making the Python code more structured automatically (good coding practice)\\n%load_ext nb_black\\n\\n# Library to suppress warnings or deprecation notes\\nimport warnings\\n\\nwarnings.filterwarnings(\\\"ignore\\\")\\n\\n# Libraries to help with reading and manipulating data\\n\\nimport pandas as pd\\nimport numpy as np\\n\\n# libaries to help with data visualization\\nimport matplotlib.pyplot as plt\\nimport seaborn as sns\\n\\n# Library to split data\\nfrom sklearn.model_selection import train_test_split\\n\\n# Libraries to build decision tree classifier\\nfrom sklearn.tree import DecisionTreeClassifier\\nfrom sklearn import tree\\n\\n# Libraries to build ensemble models\\nfrom sklearn.ensemble import (\\n    BaggingClassifier,\\n    RandomForestClassifier,\\n    GradientBoostingClassifier,\\n    AdaBoostClassifier,\\n    StackingClassifier,\\n)\\nfrom xgboost import XGBClassifier\\n\\n# To tune different models\\nfrom sklearn.model_selection import GridSearchCV\\n\\n# To get diferent metric scores\\nfrom sklearn.metrics import (\\n    f1_score,\\n    accuracy_score,\\n    recall_score,\\n    precision_score,\\n    confusion_matrix,\\n    plot_confusion_matrix,\\n    make_scorer,\\n    roc_auc_score,\\n    precision_recall_curve,\\n    roc_curve,\\n)\";\n",
       "                var nbb_cells = Jupyter.notebook.get_cells();\n",
       "                for (var i = 0; i < nbb_cells.length; ++i) {\n",
       "                    if (nbb_cells[i].input_prompt_number == nbb_cell_id) {\n",
       "                        if (nbb_cells[i].get_text() == nbb_unformatted_code) {\n",
       "                             nbb_cells[i].set_text(nbb_formatted_code);\n",
       "                        }\n",
       "                        break;\n",
       "                    }\n",
       "                }\n",
       "            }, 500);\n",
       "            "
      ],
      "text/plain": [
       "<IPython.core.display.Javascript object>"
      ]
     },
     "metadata": {},
     "output_type": "display_data"
    }
   ],
   "source": [
    "# this will help in making the Python code more structured automatically (good coding practice)\n",
    "%load_ext nb_black\n",
    "\n",
    "# Library to suppress warnings or deprecation notes\n",
    "import warnings\n",
    "\n",
    "warnings.filterwarnings(\"ignore\")\n",
    "\n",
    "# Libraries to help with reading and manipulating data\n",
    "\n",
    "import pandas as pd\n",
    "import numpy as np\n",
    "\n",
    "# libaries to help with data visualization\n",
    "import matplotlib.pyplot as plt\n",
    "import seaborn as sns\n",
    "\n",
    "# Library to split data\n",
    "from sklearn.model_selection import train_test_split\n",
    "\n",
    "# Libraries to build decision tree classifier\n",
    "from sklearn.tree import DecisionTreeClassifier\n",
    "from sklearn import tree\n",
    "\n",
    "# Libraries to build ensemble models\n",
    "from sklearn.ensemble import (\n",
    "    BaggingClassifier,\n",
    "    RandomForestClassifier,\n",
    "    GradientBoostingClassifier,\n",
    "    AdaBoostClassifier,\n",
    "    StackingClassifier,\n",
    ")\n",
    "from xgboost import XGBClassifier\n",
    "\n",
    "# To tune different models\n",
    "from sklearn.model_selection import GridSearchCV\n",
    "\n",
    "# To get diferent metric scores\n",
    "from sklearn.metrics import (\n",
    "    f1_score,\n",
    "    accuracy_score,\n",
    "    recall_score,\n",
    "    precision_score,\n",
    "    confusion_matrix,\n",
    "    plot_confusion_matrix,\n",
    "    make_scorer,\n",
    "    roc_auc_score,\n",
    "    precision_recall_curve,\n",
    "    roc_curve,\n",
    ")"
   ]
  },
  {
   "cell_type": "markdown",
   "id": "desperate-infection",
   "metadata": {
    "id": "desperate-infection"
   },
   "source": [
    "## Data Overview"
   ]
  },
  {
   "cell_type": "markdown",
   "id": "246dc262",
   "metadata": {},
   "source": [
    "### Reading and Understanding Data"
   ]
  },
  {
   "cell_type": "code",
   "execution_count": 2,
   "id": "persistent-juice",
   "metadata": {
    "id": "persistent-juice"
   },
   "outputs": [
    {
     "data": {
      "application/javascript": [
       "\n",
       "            setTimeout(function() {\n",
       "                var nbb_cell_id = 2;\n",
       "                var nbb_unformatted_code = \"# loading the dataset\\ndata = pd.read_csv(\\\"EasyVisa.csv\\\")\";\n",
       "                var nbb_formatted_code = \"# loading the dataset\\ndata = pd.read_csv(\\\"EasyVisa.csv\\\")\";\n",
       "                var nbb_cells = Jupyter.notebook.get_cells();\n",
       "                for (var i = 0; i < nbb_cells.length; ++i) {\n",
       "                    if (nbb_cells[i].input_prompt_number == nbb_cell_id) {\n",
       "                        if (nbb_cells[i].get_text() == nbb_unformatted_code) {\n",
       "                             nbb_cells[i].set_text(nbb_formatted_code);\n",
       "                        }\n",
       "                        break;\n",
       "                    }\n",
       "                }\n",
       "            }, 500);\n",
       "            "
      ],
      "text/plain": [
       "<IPython.core.display.Javascript object>"
      ]
     },
     "metadata": {},
     "output_type": "display_data"
    }
   ],
   "source": [
    "# loading the dataset\n",
    "data = pd.read_csv(\"EasyVisa.csv\")"
   ]
  },
  {
   "cell_type": "code",
   "execution_count": 3,
   "id": "44a81448",
   "metadata": {},
   "outputs": [
    {
     "data": {
      "text/html": [
       "<div>\n",
       "<style scoped>\n",
       "    .dataframe tbody tr th:only-of-type {\n",
       "        vertical-align: middle;\n",
       "    }\n",
       "\n",
       "    .dataframe tbody tr th {\n",
       "        vertical-align: top;\n",
       "    }\n",
       "\n",
       "    .dataframe thead th {\n",
       "        text-align: right;\n",
       "    }\n",
       "</style>\n",
       "<table border=\"1\" class=\"dataframe\">\n",
       "  <thead>\n",
       "    <tr style=\"text-align: right;\">\n",
       "      <th></th>\n",
       "      <th>case_id</th>\n",
       "      <th>continent</th>\n",
       "      <th>education_of_employee</th>\n",
       "      <th>has_job_experience</th>\n",
       "      <th>requires_job_training</th>\n",
       "      <th>no_of_employees</th>\n",
       "      <th>yr_of_estab</th>\n",
       "      <th>region_of_employment</th>\n",
       "      <th>prevailing_wage</th>\n",
       "      <th>unit_of_wage</th>\n",
       "      <th>full_time_position</th>\n",
       "      <th>case_status</th>\n",
       "    </tr>\n",
       "  </thead>\n",
       "  <tbody>\n",
       "    <tr>\n",
       "      <th>17639</th>\n",
       "      <td>EZYV17640</td>\n",
       "      <td>Asia</td>\n",
       "      <td>Bachelor's</td>\n",
       "      <td>Y</td>\n",
       "      <td>N</td>\n",
       "      <td>567</td>\n",
       "      <td>1992</td>\n",
       "      <td>Midwest</td>\n",
       "      <td>26842.9100</td>\n",
       "      <td>Year</td>\n",
       "      <td>Y</td>\n",
       "      <td>Certified</td>\n",
       "    </tr>\n",
       "    <tr>\n",
       "      <th>23951</th>\n",
       "      <td>EZYV23952</td>\n",
       "      <td>Oceania</td>\n",
       "      <td>Bachelor's</td>\n",
       "      <td>N</td>\n",
       "      <td>N</td>\n",
       "      <td>619</td>\n",
       "      <td>1938</td>\n",
       "      <td>Midwest</td>\n",
       "      <td>66419.9800</td>\n",
       "      <td>Year</td>\n",
       "      <td>Y</td>\n",
       "      <td>Certified</td>\n",
       "    </tr>\n",
       "    <tr>\n",
       "      <th>8625</th>\n",
       "      <td>EZYV8626</td>\n",
       "      <td>Asia</td>\n",
       "      <td>Master's</td>\n",
       "      <td>N</td>\n",
       "      <td>N</td>\n",
       "      <td>2635</td>\n",
       "      <td>2005</td>\n",
       "      <td>South</td>\n",
       "      <td>887.2921</td>\n",
       "      <td>Hour</td>\n",
       "      <td>Y</td>\n",
       "      <td>Certified</td>\n",
       "    </tr>\n",
       "    <tr>\n",
       "      <th>20206</th>\n",
       "      <td>EZYV20207</td>\n",
       "      <td>Asia</td>\n",
       "      <td>Bachelor's</td>\n",
       "      <td>Y</td>\n",
       "      <td>Y</td>\n",
       "      <td>3184</td>\n",
       "      <td>1986</td>\n",
       "      <td>Northeast</td>\n",
       "      <td>49435.8000</td>\n",
       "      <td>Year</td>\n",
       "      <td>Y</td>\n",
       "      <td>Certified</td>\n",
       "    </tr>\n",
       "    <tr>\n",
       "      <th>7471</th>\n",
       "      <td>EZYV7472</td>\n",
       "      <td>Europe</td>\n",
       "      <td>Bachelor's</td>\n",
       "      <td>Y</td>\n",
       "      <td>N</td>\n",
       "      <td>4681</td>\n",
       "      <td>1928</td>\n",
       "      <td>West</td>\n",
       "      <td>49865.1900</td>\n",
       "      <td>Year</td>\n",
       "      <td>Y</td>\n",
       "      <td>Denied</td>\n",
       "    </tr>\n",
       "    <tr>\n",
       "      <th>3433</th>\n",
       "      <td>EZYV3434</td>\n",
       "      <td>Asia</td>\n",
       "      <td>Bachelor's</td>\n",
       "      <td>Y</td>\n",
       "      <td>N</td>\n",
       "      <td>222</td>\n",
       "      <td>1989</td>\n",
       "      <td>South</td>\n",
       "      <td>813.7261</td>\n",
       "      <td>Hour</td>\n",
       "      <td>Y</td>\n",
       "      <td>Certified</td>\n",
       "    </tr>\n",
       "    <tr>\n",
       "      <th>24440</th>\n",
       "      <td>EZYV24441</td>\n",
       "      <td>Europe</td>\n",
       "      <td>High School</td>\n",
       "      <td>N</td>\n",
       "      <td>Y</td>\n",
       "      <td>3278</td>\n",
       "      <td>1994</td>\n",
       "      <td>South</td>\n",
       "      <td>204948.3900</td>\n",
       "      <td>Year</td>\n",
       "      <td>Y</td>\n",
       "      <td>Denied</td>\n",
       "    </tr>\n",
       "    <tr>\n",
       "      <th>12104</th>\n",
       "      <td>EZYV12105</td>\n",
       "      <td>Asia</td>\n",
       "      <td>Master's</td>\n",
       "      <td>Y</td>\n",
       "      <td>N</td>\n",
       "      <td>1359</td>\n",
       "      <td>1997</td>\n",
       "      <td>West</td>\n",
       "      <td>202237.0400</td>\n",
       "      <td>Year</td>\n",
       "      <td>N</td>\n",
       "      <td>Certified</td>\n",
       "    </tr>\n",
       "    <tr>\n",
       "      <th>15656</th>\n",
       "      <td>EZYV15657</td>\n",
       "      <td>Asia</td>\n",
       "      <td>Bachelor's</td>\n",
       "      <td>N</td>\n",
       "      <td>N</td>\n",
       "      <td>2081</td>\n",
       "      <td>2003</td>\n",
       "      <td>West</td>\n",
       "      <td>111713.0200</td>\n",
       "      <td>Year</td>\n",
       "      <td>Y</td>\n",
       "      <td>Denied</td>\n",
       "    </tr>\n",
       "    <tr>\n",
       "      <th>23110</th>\n",
       "      <td>EZYV23111</td>\n",
       "      <td>North America</td>\n",
       "      <td>Bachelor's</td>\n",
       "      <td>Y</td>\n",
       "      <td>N</td>\n",
       "      <td>854</td>\n",
       "      <td>1998</td>\n",
       "      <td>Northeast</td>\n",
       "      <td>444.8257</td>\n",
       "      <td>Hour</td>\n",
       "      <td>Y</td>\n",
       "      <td>Denied</td>\n",
       "    </tr>\n",
       "  </tbody>\n",
       "</table>\n",
       "</div>"
      ],
      "text/plain": [
       "         case_id      continent education_of_employee has_job_experience  \\\n",
       "17639  EZYV17640           Asia            Bachelor's                  Y   \n",
       "23951  EZYV23952        Oceania            Bachelor's                  N   \n",
       "8625    EZYV8626           Asia              Master's                  N   \n",
       "20206  EZYV20207           Asia            Bachelor's                  Y   \n",
       "7471    EZYV7472         Europe            Bachelor's                  Y   \n",
       "3433    EZYV3434           Asia            Bachelor's                  Y   \n",
       "24440  EZYV24441         Europe           High School                  N   \n",
       "12104  EZYV12105           Asia              Master's                  Y   \n",
       "15656  EZYV15657           Asia            Bachelor's                  N   \n",
       "23110  EZYV23111  North America            Bachelor's                  Y   \n",
       "\n",
       "      requires_job_training  no_of_employees  yr_of_estab  \\\n",
       "17639                     N              567         1992   \n",
       "23951                     N              619         1938   \n",
       "8625                      N             2635         2005   \n",
       "20206                     Y             3184         1986   \n",
       "7471                      N             4681         1928   \n",
       "3433                      N              222         1989   \n",
       "24440                     Y             3278         1994   \n",
       "12104                     N             1359         1997   \n",
       "15656                     N             2081         2003   \n",
       "23110                     N              854         1998   \n",
       "\n",
       "      region_of_employment  prevailing_wage unit_of_wage full_time_position  \\\n",
       "17639              Midwest       26842.9100         Year                  Y   \n",
       "23951              Midwest       66419.9800         Year                  Y   \n",
       "8625                 South         887.2921         Hour                  Y   \n",
       "20206            Northeast       49435.8000         Year                  Y   \n",
       "7471                  West       49865.1900         Year                  Y   \n",
       "3433                 South         813.7261         Hour                  Y   \n",
       "24440                South      204948.3900         Year                  Y   \n",
       "12104                 West      202237.0400         Year                  N   \n",
       "15656                 West      111713.0200         Year                  Y   \n",
       "23110            Northeast         444.8257         Hour                  Y   \n",
       "\n",
       "      case_status  \n",
       "17639   Certified  \n",
       "23951   Certified  \n",
       "8625    Certified  \n",
       "20206   Certified  \n",
       "7471       Denied  \n",
       "3433    Certified  \n",
       "24440      Denied  \n",
       "12104   Certified  \n",
       "15656      Denied  \n",
       "23110      Denied  "
      ]
     },
     "execution_count": 3,
     "metadata": {},
     "output_type": "execute_result"
    },
    {
     "data": {
      "application/javascript": [
       "\n",
       "            setTimeout(function() {\n",
       "                var nbb_cell_id = 3;\n",
       "                var nbb_unformatted_code = \"# check the sample of data\\ndata.sample(n=10, random_state=1)\";\n",
       "                var nbb_formatted_code = \"# check the sample of data\\ndata.sample(n=10, random_state=1)\";\n",
       "                var nbb_cells = Jupyter.notebook.get_cells();\n",
       "                for (var i = 0; i < nbb_cells.length; ++i) {\n",
       "                    if (nbb_cells[i].input_prompt_number == nbb_cell_id) {\n",
       "                        if (nbb_cells[i].get_text() == nbb_unformatted_code) {\n",
       "                             nbb_cells[i].set_text(nbb_formatted_code);\n",
       "                        }\n",
       "                        break;\n",
       "                    }\n",
       "                }\n",
       "            }, 500);\n",
       "            "
      ],
      "text/plain": [
       "<IPython.core.display.Javascript object>"
      ]
     },
     "metadata": {},
     "output_type": "display_data"
    }
   ],
   "source": [
    "# check the sample of data\n",
    "data.sample(n=10, random_state=1)"
   ]
  },
  {
   "cell_type": "markdown",
   "id": "39b1cc28",
   "metadata": {},
   "source": [
    "#### Observations:\n",
    "* Each row in the data has details about a particular case ID.\n",
    "* There are 12 variables giving information about each case ID."
   ]
  },
  {
   "cell_type": "code",
   "execution_count": 4,
   "id": "acb0f378",
   "metadata": {},
   "outputs": [
    {
     "data": {
      "text/plain": [
       "(25480, 12)"
      ]
     },
     "execution_count": 4,
     "metadata": {},
     "output_type": "execute_result"
    },
    {
     "data": {
      "application/javascript": [
       "\n",
       "            setTimeout(function() {\n",
       "                var nbb_cell_id = 4;\n",
       "                var nbb_unformatted_code = \"# check number of rows and columns\\ndata.shape\";\n",
       "                var nbb_formatted_code = \"# check number of rows and columns\\ndata.shape\";\n",
       "                var nbb_cells = Jupyter.notebook.get_cells();\n",
       "                for (var i = 0; i < nbb_cells.length; ++i) {\n",
       "                    if (nbb_cells[i].input_prompt_number == nbb_cell_id) {\n",
       "                        if (nbb_cells[i].get_text() == nbb_unformatted_code) {\n",
       "                             nbb_cells[i].set_text(nbb_formatted_code);\n",
       "                        }\n",
       "                        break;\n",
       "                    }\n",
       "                }\n",
       "            }, 500);\n",
       "            "
      ],
      "text/plain": [
       "<IPython.core.display.Javascript object>"
      ]
     },
     "metadata": {},
     "output_type": "display_data"
    }
   ],
   "source": [
    "# check number of rows and columns\n",
    "data.shape"
   ]
  },
  {
   "cell_type": "markdown",
   "id": "05d1f180",
   "metadata": {},
   "source": [
    "#### Observations:\n",
    "* There are 25480 rows and 12 columns in the data."
   ]
  },
  {
   "cell_type": "code",
   "execution_count": 5,
   "id": "a66d78f0",
   "metadata": {},
   "outputs": [
    {
     "name": "stdout",
     "output_type": "stream",
     "text": [
      "<class 'pandas.core.frame.DataFrame'>\n",
      "RangeIndex: 25480 entries, 0 to 25479\n",
      "Data columns (total 12 columns):\n",
      " #   Column                 Non-Null Count  Dtype  \n",
      "---  ------                 --------------  -----  \n",
      " 0   case_id                25480 non-null  object \n",
      " 1   continent              25480 non-null  object \n",
      " 2   education_of_employee  25480 non-null  object \n",
      " 3   has_job_experience     25480 non-null  object \n",
      " 4   requires_job_training  25480 non-null  object \n",
      " 5   no_of_employees        25480 non-null  int64  \n",
      " 6   yr_of_estab            25480 non-null  int64  \n",
      " 7   region_of_employment   25480 non-null  object \n",
      " 8   prevailing_wage        25480 non-null  float64\n",
      " 9   unit_of_wage           25480 non-null  object \n",
      " 10  full_time_position     25480 non-null  object \n",
      " 11  case_status            25480 non-null  object \n",
      "dtypes: float64(1), int64(2), object(9)\n",
      "memory usage: 2.3+ MB\n"
     ]
    },
    {
     "data": {
      "application/javascript": [
       "\n",
       "            setTimeout(function() {\n",
       "                var nbb_cell_id = 5;\n",
       "                var nbb_unformatted_code = \"# checking column datatypes and number of non-null values\\ndata.info()\";\n",
       "                var nbb_formatted_code = \"# checking column datatypes and number of non-null values\\ndata.info()\";\n",
       "                var nbb_cells = Jupyter.notebook.get_cells();\n",
       "                for (var i = 0; i < nbb_cells.length; ++i) {\n",
       "                    if (nbb_cells[i].input_prompt_number == nbb_cell_id) {\n",
       "                        if (nbb_cells[i].get_text() == nbb_unformatted_code) {\n",
       "                             nbb_cells[i].set_text(nbb_formatted_code);\n",
       "                        }\n",
       "                        break;\n",
       "                    }\n",
       "                }\n",
       "            }, 500);\n",
       "            "
      ],
      "text/plain": [
       "<IPython.core.display.Javascript object>"
      ]
     },
     "metadata": {},
     "output_type": "display_data"
    }
   ],
   "source": [
    "# checking column datatypes and number of non-null values\n",
    "data.info()"
   ]
  },
  {
   "cell_type": "markdown",
   "id": "f1726cc8",
   "metadata": {},
   "source": [
    "#### Observations:\n",
    "* There are 2 int64, 1 float and all other variables of object data types.\n",
    "* There are no missing values in any columns."
   ]
  },
  {
   "cell_type": "code",
   "execution_count": 6,
   "id": "6851d485",
   "metadata": {},
   "outputs": [
    {
     "data": {
      "application/javascript": [
       "\n",
       "            setTimeout(function() {\n",
       "                var nbb_cell_id = 6;\n",
       "                var nbb_unformatted_code = \"# let's create a copy of the data to avoid any changes to original data\\ndf = data.copy()\";\n",
       "                var nbb_formatted_code = \"# let's create a copy of the data to avoid any changes to original data\\ndf = data.copy()\";\n",
       "                var nbb_cells = Jupyter.notebook.get_cells();\n",
       "                for (var i = 0; i < nbb_cells.length; ++i) {\n",
       "                    if (nbb_cells[i].input_prompt_number == nbb_cell_id) {\n",
       "                        if (nbb_cells[i].get_text() == nbb_unformatted_code) {\n",
       "                             nbb_cells[i].set_text(nbb_formatted_code);\n",
       "                        }\n",
       "                        break;\n",
       "                    }\n",
       "                }\n",
       "            }, 500);\n",
       "            "
      ],
      "text/plain": [
       "<IPython.core.display.Javascript object>"
      ]
     },
     "metadata": {},
     "output_type": "display_data"
    }
   ],
   "source": [
    "# let's create a copy of the data to avoid any changes to original data\n",
    "df = data.copy()"
   ]
  },
  {
   "cell_type": "markdown",
   "id": "4ed24b6e",
   "metadata": {},
   "source": [
    "### Fixing the data types"
   ]
  },
  {
   "cell_type": "code",
   "execution_count": 7,
   "id": "3b75e670",
   "metadata": {},
   "outputs": [
    {
     "data": {
      "application/javascript": [
       "\n",
       "            setTimeout(function() {\n",
       "                var nbb_cell_id = 7;\n",
       "                var nbb_unformatted_code = \"# Converting object type variables to category type\\ncols = df.select_dtypes([\\\"object\\\"])\\nfor i in cols.columns:\\n    df[i] = df[i].astype(\\\"category\\\")\";\n",
       "                var nbb_formatted_code = \"# Converting object type variables to category type\\ncols = df.select_dtypes([\\\"object\\\"])\\nfor i in cols.columns:\\n    df[i] = df[i].astype(\\\"category\\\")\";\n",
       "                var nbb_cells = Jupyter.notebook.get_cells();\n",
       "                for (var i = 0; i < nbb_cells.length; ++i) {\n",
       "                    if (nbb_cells[i].input_prompt_number == nbb_cell_id) {\n",
       "                        if (nbb_cells[i].get_text() == nbb_unformatted_code) {\n",
       "                             nbb_cells[i].set_text(nbb_formatted_code);\n",
       "                        }\n",
       "                        break;\n",
       "                    }\n",
       "                }\n",
       "            }, 500);\n",
       "            "
      ],
      "text/plain": [
       "<IPython.core.display.Javascript object>"
      ]
     },
     "metadata": {},
     "output_type": "display_data"
    }
   ],
   "source": [
    "# Converting object type variables to category type\n",
    "cols = df.select_dtypes([\"object\"])\n",
    "for i in cols.columns:\n",
    "    df[i] = df[i].astype(\"category\")"
   ]
  },
  {
   "cell_type": "code",
   "execution_count": 8,
   "id": "689bf7e1",
   "metadata": {},
   "outputs": [
    {
     "name": "stdout",
     "output_type": "stream",
     "text": [
      "<class 'pandas.core.frame.DataFrame'>\n",
      "RangeIndex: 25480 entries, 0 to 25479\n",
      "Data columns (total 12 columns):\n",
      " #   Column                 Non-Null Count  Dtype   \n",
      "---  ------                 --------------  -----   \n",
      " 0   case_id                25480 non-null  category\n",
      " 1   continent              25480 non-null  category\n",
      " 2   education_of_employee  25480 non-null  category\n",
      " 3   has_job_experience     25480 non-null  category\n",
      " 4   requires_job_training  25480 non-null  category\n",
      " 5   no_of_employees        25480 non-null  int64   \n",
      " 6   yr_of_estab            25480 non-null  int64   \n",
      " 7   region_of_employment   25480 non-null  category\n",
      " 8   prevailing_wage        25480 non-null  float64 \n",
      " 9   unit_of_wage           25480 non-null  category\n",
      " 10  full_time_position     25480 non-null  category\n",
      " 11  case_status            25480 non-null  category\n",
      "dtypes: category(9), float64(1), int64(2)\n",
      "memory usage: 2.0 MB\n"
     ]
    },
    {
     "data": {
      "application/javascript": [
       "\n",
       "            setTimeout(function() {\n",
       "                var nbb_cell_id = 8;\n",
       "                var nbb_unformatted_code = \"df.info()\";\n",
       "                var nbb_formatted_code = \"df.info()\";\n",
       "                var nbb_cells = Jupyter.notebook.get_cells();\n",
       "                for (var i = 0; i < nbb_cells.length; ++i) {\n",
       "                    if (nbb_cells[i].input_prompt_number == nbb_cell_id) {\n",
       "                        if (nbb_cells[i].get_text() == nbb_unformatted_code) {\n",
       "                             nbb_cells[i].set_text(nbb_formatted_code);\n",
       "                        }\n",
       "                        break;\n",
       "                    }\n",
       "                }\n",
       "            }, 500);\n",
       "            "
      ],
      "text/plain": [
       "<IPython.core.display.Javascript object>"
      ]
     },
     "metadata": {},
     "output_type": "display_data"
    }
   ],
   "source": [
    "df.info()"
   ]
  },
  {
   "cell_type": "code",
   "execution_count": 9,
   "id": "f1be1253",
   "metadata": {},
   "outputs": [
    {
     "data": {
      "text/plain": [
       "case_id                  0\n",
       "continent                0\n",
       "education_of_employee    0\n",
       "has_job_experience       0\n",
       "requires_job_training    0\n",
       "no_of_employees          0\n",
       "yr_of_estab              0\n",
       "region_of_employment     0\n",
       "prevailing_wage          0\n",
       "unit_of_wage             0\n",
       "full_time_position       0\n",
       "case_status              0\n",
       "dtype: int64"
      ]
     },
     "execution_count": 9,
     "metadata": {},
     "output_type": "execute_result"
    },
    {
     "data": {
      "application/javascript": [
       "\n",
       "            setTimeout(function() {\n",
       "                var nbb_cell_id = 9;\n",
       "                var nbb_unformatted_code = \"df[df.duplicated()].count()\";\n",
       "                var nbb_formatted_code = \"df[df.duplicated()].count()\";\n",
       "                var nbb_cells = Jupyter.notebook.get_cells();\n",
       "                for (var i = 0; i < nbb_cells.length; ++i) {\n",
       "                    if (nbb_cells[i].input_prompt_number == nbb_cell_id) {\n",
       "                        if (nbb_cells[i].get_text() == nbb_unformatted_code) {\n",
       "                             nbb_cells[i].set_text(nbb_formatted_code);\n",
       "                        }\n",
       "                        break;\n",
       "                    }\n",
       "                }\n",
       "            }, 500);\n",
       "            "
      ],
      "text/plain": [
       "<IPython.core.display.Javascript object>"
      ]
     },
     "metadata": {},
     "output_type": "display_data"
    }
   ],
   "source": [
    "# Check for duplicated values in the data\n",
    "df[df.duplicated()].count()"
   ]
  },
  {
   "cell_type": "markdown",
   "id": "3ed22842",
   "metadata": {},
   "source": [
    "* There are no duplicate values in the data."
   ]
  },
  {
   "cell_type": "code",
   "execution_count": 10,
   "id": "01f9e442",
   "metadata": {},
   "outputs": [
    {
     "data": {
      "text/html": [
       "<div>\n",
       "<style scoped>\n",
       "    .dataframe tbody tr th:only-of-type {\n",
       "        vertical-align: middle;\n",
       "    }\n",
       "\n",
       "    .dataframe tbody tr th {\n",
       "        vertical-align: top;\n",
       "    }\n",
       "\n",
       "    .dataframe thead th {\n",
       "        text-align: right;\n",
       "    }\n",
       "</style>\n",
       "<table border=\"1\" class=\"dataframe\">\n",
       "  <thead>\n",
       "    <tr style=\"text-align: right;\">\n",
       "      <th></th>\n",
       "      <th>count</th>\n",
       "      <th>mean</th>\n",
       "      <th>std</th>\n",
       "      <th>min</th>\n",
       "      <th>25%</th>\n",
       "      <th>50%</th>\n",
       "      <th>75%</th>\n",
       "      <th>max</th>\n",
       "    </tr>\n",
       "  </thead>\n",
       "  <tbody>\n",
       "    <tr>\n",
       "      <th>no_of_employees</th>\n",
       "      <td>25480.0</td>\n",
       "      <td>5667.043210</td>\n",
       "      <td>22877.928848</td>\n",
       "      <td>-26.0000</td>\n",
       "      <td>1022.00</td>\n",
       "      <td>2109.00</td>\n",
       "      <td>3504.0000</td>\n",
       "      <td>602069.00</td>\n",
       "    </tr>\n",
       "    <tr>\n",
       "      <th>yr_of_estab</th>\n",
       "      <td>25480.0</td>\n",
       "      <td>1979.409929</td>\n",
       "      <td>42.366929</td>\n",
       "      <td>1800.0000</td>\n",
       "      <td>1976.00</td>\n",
       "      <td>1997.00</td>\n",
       "      <td>2005.0000</td>\n",
       "      <td>2016.00</td>\n",
       "    </tr>\n",
       "    <tr>\n",
       "      <th>prevailing_wage</th>\n",
       "      <td>25480.0</td>\n",
       "      <td>74455.814592</td>\n",
       "      <td>52815.942327</td>\n",
       "      <td>2.1367</td>\n",
       "      <td>34015.48</td>\n",
       "      <td>70308.21</td>\n",
       "      <td>107735.5125</td>\n",
       "      <td>319210.27</td>\n",
       "    </tr>\n",
       "  </tbody>\n",
       "</table>\n",
       "</div>"
      ],
      "text/plain": [
       "                   count          mean           std        min       25%  \\\n",
       "no_of_employees  25480.0   5667.043210  22877.928848   -26.0000   1022.00   \n",
       "yr_of_estab      25480.0   1979.409929     42.366929  1800.0000   1976.00   \n",
       "prevailing_wage  25480.0  74455.814592  52815.942327     2.1367  34015.48   \n",
       "\n",
       "                      50%          75%        max  \n",
       "no_of_employees   2109.00    3504.0000  602069.00  \n",
       "yr_of_estab       1997.00    2005.0000    2016.00  \n",
       "prevailing_wage  70308.21  107735.5125  319210.27  "
      ]
     },
     "execution_count": 10,
     "metadata": {},
     "output_type": "execute_result"
    },
    {
     "data": {
      "application/javascript": [
       "\n",
       "            setTimeout(function() {\n",
       "                var nbb_cell_id = 10;\n",
       "                var nbb_unformatted_code = \"# Let's look at the statistical summary of the numerical variables\\n\\ndata.describe().T\";\n",
       "                var nbb_formatted_code = \"# Let's look at the statistical summary of the numerical variables\\n\\ndata.describe().T\";\n",
       "                var nbb_cells = Jupyter.notebook.get_cells();\n",
       "                for (var i = 0; i < nbb_cells.length; ++i) {\n",
       "                    if (nbb_cells[i].input_prompt_number == nbb_cell_id) {\n",
       "                        if (nbb_cells[i].get_text() == nbb_unformatted_code) {\n",
       "                             nbb_cells[i].set_text(nbb_formatted_code);\n",
       "                        }\n",
       "                        break;\n",
       "                    }\n",
       "                }\n",
       "            }, 500);\n",
       "            "
      ],
      "text/plain": [
       "<IPython.core.display.Javascript object>"
      ]
     },
     "metadata": {},
     "output_type": "display_data"
    }
   ],
   "source": [
    "# Let's look at the statistical summary of the numerical variables\n",
    "\n",
    "data.describe().T"
   ]
  },
  {
   "cell_type": "markdown",
   "id": "50593216",
   "metadata": {},
   "source": [
    "#### Observations:\n",
    "* no_of_employees has a huge range. The maximum value is 602069. but 75% of the value is around 3500.\n",
    "* There are companies which are established in 1800 to 2016.\n",
    "* There are employees who recieve a minimum of 2 dollars to a maximum of 319210 dollars. This variation can also be due to the difference in hourly and yearly wages."
   ]
  },
  {
   "cell_type": "code",
   "execution_count": 11,
   "id": "12670a22",
   "metadata": {},
   "outputs": [
    {
     "data": {
      "text/html": [
       "<div>\n",
       "<style scoped>\n",
       "    .dataframe tbody tr th:only-of-type {\n",
       "        vertical-align: middle;\n",
       "    }\n",
       "\n",
       "    .dataframe tbody tr th {\n",
       "        vertical-align: top;\n",
       "    }\n",
       "\n",
       "    .dataframe thead th {\n",
       "        text-align: right;\n",
       "    }\n",
       "</style>\n",
       "<table border=\"1\" class=\"dataframe\">\n",
       "  <thead>\n",
       "    <tr style=\"text-align: right;\">\n",
       "      <th></th>\n",
       "      <th>count</th>\n",
       "      <th>unique</th>\n",
       "      <th>top</th>\n",
       "      <th>freq</th>\n",
       "    </tr>\n",
       "  </thead>\n",
       "  <tbody>\n",
       "    <tr>\n",
       "      <th>case_id</th>\n",
       "      <td>25480</td>\n",
       "      <td>25480</td>\n",
       "      <td>EZYV01</td>\n",
       "      <td>1</td>\n",
       "    </tr>\n",
       "    <tr>\n",
       "      <th>continent</th>\n",
       "      <td>25480</td>\n",
       "      <td>6</td>\n",
       "      <td>Asia</td>\n",
       "      <td>16861</td>\n",
       "    </tr>\n",
       "    <tr>\n",
       "      <th>education_of_employee</th>\n",
       "      <td>25480</td>\n",
       "      <td>4</td>\n",
       "      <td>Bachelor's</td>\n",
       "      <td>10234</td>\n",
       "    </tr>\n",
       "    <tr>\n",
       "      <th>has_job_experience</th>\n",
       "      <td>25480</td>\n",
       "      <td>2</td>\n",
       "      <td>Y</td>\n",
       "      <td>14802</td>\n",
       "    </tr>\n",
       "    <tr>\n",
       "      <th>requires_job_training</th>\n",
       "      <td>25480</td>\n",
       "      <td>2</td>\n",
       "      <td>N</td>\n",
       "      <td>22525</td>\n",
       "    </tr>\n",
       "    <tr>\n",
       "      <th>region_of_employment</th>\n",
       "      <td>25480</td>\n",
       "      <td>5</td>\n",
       "      <td>Northeast</td>\n",
       "      <td>7195</td>\n",
       "    </tr>\n",
       "    <tr>\n",
       "      <th>unit_of_wage</th>\n",
       "      <td>25480</td>\n",
       "      <td>4</td>\n",
       "      <td>Year</td>\n",
       "      <td>22962</td>\n",
       "    </tr>\n",
       "    <tr>\n",
       "      <th>full_time_position</th>\n",
       "      <td>25480</td>\n",
       "      <td>2</td>\n",
       "      <td>Y</td>\n",
       "      <td>22773</td>\n",
       "    </tr>\n",
       "    <tr>\n",
       "      <th>case_status</th>\n",
       "      <td>25480</td>\n",
       "      <td>2</td>\n",
       "      <td>Certified</td>\n",
       "      <td>17018</td>\n",
       "    </tr>\n",
       "  </tbody>\n",
       "</table>\n",
       "</div>"
      ],
      "text/plain": [
       "                       count unique         top   freq\n",
       "case_id                25480  25480      EZYV01      1\n",
       "continent              25480      6        Asia  16861\n",
       "education_of_employee  25480      4  Bachelor's  10234\n",
       "has_job_experience     25480      2           Y  14802\n",
       "requires_job_training  25480      2           N  22525\n",
       "region_of_employment   25480      5   Northeast   7195\n",
       "unit_of_wage           25480      4        Year  22962\n",
       "full_time_position     25480      2           Y  22773\n",
       "case_status            25480      2   Certified  17018"
      ]
     },
     "execution_count": 11,
     "metadata": {},
     "output_type": "execute_result"
    },
    {
     "data": {
      "application/javascript": [
       "\n",
       "            setTimeout(function() {\n",
       "                var nbb_cell_id = 11;\n",
       "                var nbb_unformatted_code = \"# Let's look at the statistical summary of the categorical variables\\n\\ndf.describe(include=[\\\"category\\\"]).T\";\n",
       "                var nbb_formatted_code = \"# Let's look at the statistical summary of the categorical variables\\n\\ndf.describe(include=[\\\"category\\\"]).T\";\n",
       "                var nbb_cells = Jupyter.notebook.get_cells();\n",
       "                for (var i = 0; i < nbb_cells.length; ++i) {\n",
       "                    if (nbb_cells[i].input_prompt_number == nbb_cell_id) {\n",
       "                        if (nbb_cells[i].get_text() == nbb_unformatted_code) {\n",
       "                             nbb_cells[i].set_text(nbb_formatted_code);\n",
       "                        }\n",
       "                        break;\n",
       "                    }\n",
       "                }\n",
       "            }, 500);\n",
       "            "
      ],
      "text/plain": [
       "<IPython.core.display.Javascript object>"
      ]
     },
     "metadata": {},
     "output_type": "display_data"
    }
   ],
   "source": [
    "# Let's look at the statistical summary of the categorical variables\n",
    "\n",
    "df.describe(include=[\"category\"]).T"
   ]
  },
  {
   "cell_type": "markdown",
   "id": "0258cb0f",
   "metadata": {},
   "source": [
    "#### Observations:\n",
    "* case_id is an ID variable and not useful for predictive modelling.\n",
    "* There are cases from 6 continents. 16861 cases are applicants from Asia.\n",
    "* There are 4 unique values for education and more than 10000 applicants have bachelor's education.\n",
    "* More than 50% of the applicants have previous job experience.\n",
    "* Most of the cases don't require job training.\n",
    "* There are 5 unique values for region_of_employment and Northeast being the region with more employment options.\n",
    "* There are 4 unique values for unit_of_wage and most of the employees have Yearly unit of wage.\n",
    "* 66% of the visas are certified."
   ]
  },
  {
   "cell_type": "markdown",
   "id": "9ce6df00",
   "metadata": {},
   "source": [
    "**Dropping case_id column which is not adding any information.**"
   ]
  },
  {
   "cell_type": "code",
   "execution_count": 12,
   "id": "b9bef6e1",
   "metadata": {},
   "outputs": [
    {
     "data": {
      "text/html": [
       "<div>\n",
       "<style scoped>\n",
       "    .dataframe tbody tr th:only-of-type {\n",
       "        vertical-align: middle;\n",
       "    }\n",
       "\n",
       "    .dataframe tbody tr th {\n",
       "        vertical-align: top;\n",
       "    }\n",
       "\n",
       "    .dataframe thead th {\n",
       "        text-align: right;\n",
       "    }\n",
       "</style>\n",
       "<table border=\"1\" class=\"dataframe\">\n",
       "  <thead>\n",
       "    <tr style=\"text-align: right;\">\n",
       "      <th></th>\n",
       "      <th>continent</th>\n",
       "      <th>education_of_employee</th>\n",
       "      <th>has_job_experience</th>\n",
       "      <th>requires_job_training</th>\n",
       "      <th>no_of_employees</th>\n",
       "      <th>yr_of_estab</th>\n",
       "      <th>region_of_employment</th>\n",
       "      <th>prevailing_wage</th>\n",
       "      <th>unit_of_wage</th>\n",
       "      <th>full_time_position</th>\n",
       "      <th>case_status</th>\n",
       "    </tr>\n",
       "  </thead>\n",
       "  <tbody>\n",
       "    <tr>\n",
       "      <th>0</th>\n",
       "      <td>Asia</td>\n",
       "      <td>High School</td>\n",
       "      <td>N</td>\n",
       "      <td>N</td>\n",
       "      <td>14513</td>\n",
       "      <td>2007</td>\n",
       "      <td>West</td>\n",
       "      <td>592.2029</td>\n",
       "      <td>Hour</td>\n",
       "      <td>Y</td>\n",
       "      <td>Denied</td>\n",
       "    </tr>\n",
       "    <tr>\n",
       "      <th>1</th>\n",
       "      <td>Asia</td>\n",
       "      <td>Master's</td>\n",
       "      <td>Y</td>\n",
       "      <td>N</td>\n",
       "      <td>2412</td>\n",
       "      <td>2002</td>\n",
       "      <td>Northeast</td>\n",
       "      <td>83425.6500</td>\n",
       "      <td>Year</td>\n",
       "      <td>Y</td>\n",
       "      <td>Certified</td>\n",
       "    </tr>\n",
       "    <tr>\n",
       "      <th>2</th>\n",
       "      <td>Asia</td>\n",
       "      <td>Bachelor's</td>\n",
       "      <td>N</td>\n",
       "      <td>Y</td>\n",
       "      <td>44444</td>\n",
       "      <td>2008</td>\n",
       "      <td>West</td>\n",
       "      <td>122996.8600</td>\n",
       "      <td>Year</td>\n",
       "      <td>Y</td>\n",
       "      <td>Denied</td>\n",
       "    </tr>\n",
       "    <tr>\n",
       "      <th>3</th>\n",
       "      <td>Asia</td>\n",
       "      <td>Bachelor's</td>\n",
       "      <td>N</td>\n",
       "      <td>N</td>\n",
       "      <td>98</td>\n",
       "      <td>1897</td>\n",
       "      <td>West</td>\n",
       "      <td>83434.0300</td>\n",
       "      <td>Year</td>\n",
       "      <td>Y</td>\n",
       "      <td>Denied</td>\n",
       "    </tr>\n",
       "    <tr>\n",
       "      <th>4</th>\n",
       "      <td>Africa</td>\n",
       "      <td>Master's</td>\n",
       "      <td>Y</td>\n",
       "      <td>N</td>\n",
       "      <td>1082</td>\n",
       "      <td>2005</td>\n",
       "      <td>South</td>\n",
       "      <td>149907.3900</td>\n",
       "      <td>Year</td>\n",
       "      <td>Y</td>\n",
       "      <td>Certified</td>\n",
       "    </tr>\n",
       "  </tbody>\n",
       "</table>\n",
       "</div>"
      ],
      "text/plain": [
       "  continent education_of_employee has_job_experience requires_job_training  \\\n",
       "0      Asia           High School                  N                     N   \n",
       "1      Asia              Master's                  Y                     N   \n",
       "2      Asia            Bachelor's                  N                     Y   \n",
       "3      Asia            Bachelor's                  N                     N   \n",
       "4    Africa              Master's                  Y                     N   \n",
       "\n",
       "   no_of_employees  yr_of_estab region_of_employment  prevailing_wage  \\\n",
       "0            14513         2007                 West         592.2029   \n",
       "1             2412         2002            Northeast       83425.6500   \n",
       "2            44444         2008                 West      122996.8600   \n",
       "3               98         1897                 West       83434.0300   \n",
       "4             1082         2005                South      149907.3900   \n",
       "\n",
       "  unit_of_wage full_time_position case_status  \n",
       "0         Hour                  Y      Denied  \n",
       "1         Year                  Y   Certified  \n",
       "2         Year                  Y      Denied  \n",
       "3         Year                  Y      Denied  \n",
       "4         Year                  Y   Certified  "
      ]
     },
     "execution_count": 12,
     "metadata": {},
     "output_type": "execute_result"
    },
    {
     "data": {
      "application/javascript": [
       "\n",
       "            setTimeout(function() {\n",
       "                var nbb_cell_id = 12;\n",
       "                var nbb_unformatted_code = \"df.drop(\\\"case_id\\\", axis=1, inplace=True)\\ndf.head()\";\n",
       "                var nbb_formatted_code = \"df.drop(\\\"case_id\\\", axis=1, inplace=True)\\ndf.head()\";\n",
       "                var nbb_cells = Jupyter.notebook.get_cells();\n",
       "                for (var i = 0; i < nbb_cells.length; ++i) {\n",
       "                    if (nbb_cells[i].input_prompt_number == nbb_cell_id) {\n",
       "                        if (nbb_cells[i].get_text() == nbb_unformatted_code) {\n",
       "                             nbb_cells[i].set_text(nbb_formatted_code);\n",
       "                        }\n",
       "                        break;\n",
       "                    }\n",
       "                }\n",
       "            }, 500);\n",
       "            "
      ],
      "text/plain": [
       "<IPython.core.display.Javascript object>"
      ]
     },
     "metadata": {},
     "output_type": "display_data"
    }
   ],
   "source": [
    "df.drop(\"case_id\", axis=1, inplace=True)\n",
    "df.head()"
   ]
  },
  {
   "cell_type": "markdown",
   "id": "f2d2f02a",
   "metadata": {},
   "source": [
    "**Let's look at the unique values of all the categories**"
   ]
  },
  {
   "cell_type": "code",
   "execution_count": 13,
   "id": "376a01a1",
   "metadata": {},
   "outputs": [
    {
     "name": "stdout",
     "output_type": "stream",
     "text": [
      "Unique values in continent are :\n",
      "Asia             16861\n",
      "Europe            3732\n",
      "North America     3292\n",
      "South America      852\n",
      "Africa             551\n",
      "Oceania            192\n",
      "Name: continent, dtype: int64\n",
      "**************************************************\n",
      "Unique values in education_of_employee are :\n",
      "Bachelor's     10234\n",
      "Master's        9634\n",
      "High School     3420\n",
      "Doctorate       2192\n",
      "Name: education_of_employee, dtype: int64\n",
      "**************************************************\n",
      "Unique values in has_job_experience are :\n",
      "Y    14802\n",
      "N    10678\n",
      "Name: has_job_experience, dtype: int64\n",
      "**************************************************\n",
      "Unique values in requires_job_training are :\n",
      "N    22525\n",
      "Y     2955\n",
      "Name: requires_job_training, dtype: int64\n",
      "**************************************************\n",
      "Unique values in region_of_employment are :\n",
      "Northeast    7195\n",
      "South        7017\n",
      "West         6586\n",
      "Midwest      4307\n",
      "Island        375\n",
      "Name: region_of_employment, dtype: int64\n",
      "**************************************************\n",
      "Unique values in unit_of_wage are :\n",
      "Year     22962\n",
      "Hour      2157\n",
      "Week       272\n",
      "Month       89\n",
      "Name: unit_of_wage, dtype: int64\n",
      "**************************************************\n",
      "Unique values in full_time_position are :\n",
      "Y    22773\n",
      "N     2707\n",
      "Name: full_time_position, dtype: int64\n",
      "**************************************************\n",
      "Unique values in case_status are :\n",
      "Certified    17018\n",
      "Denied        8462\n",
      "Name: case_status, dtype: int64\n",
      "**************************************************\n"
     ]
    },
    {
     "data": {
      "application/javascript": [
       "\n",
       "            setTimeout(function() {\n",
       "                var nbb_cell_id = 13;\n",
       "                var nbb_unformatted_code = \"cols_cat = df.select_dtypes([\\\"category\\\"])\\n\\nfor i in cols_cat.columns:\\n    print(\\\"Unique values in\\\", i, \\\"are :\\\")\\n    print(cols_cat[i].value_counts())\\n    print(\\\"*\\\" * 50)\";\n",
       "                var nbb_formatted_code = \"cols_cat = df.select_dtypes([\\\"category\\\"])\\n\\nfor i in cols_cat.columns:\\n    print(\\\"Unique values in\\\", i, \\\"are :\\\")\\n    print(cols_cat[i].value_counts())\\n    print(\\\"*\\\" * 50)\";\n",
       "                var nbb_cells = Jupyter.notebook.get_cells();\n",
       "                for (var i = 0; i < nbb_cells.length; ++i) {\n",
       "                    if (nbb_cells[i].input_prompt_number == nbb_cell_id) {\n",
       "                        if (nbb_cells[i].get_text() == nbb_unformatted_code) {\n",
       "                             nbb_cells[i].set_text(nbb_formatted_code);\n",
       "                        }\n",
       "                        break;\n",
       "                    }\n",
       "                }\n",
       "            }, 500);\n",
       "            "
      ],
      "text/plain": [
       "<IPython.core.display.Javascript object>"
      ]
     },
     "metadata": {},
     "output_type": "display_data"
    }
   ],
   "source": [
    "cols_cat = df.select_dtypes([\"category\"])\n",
    "\n",
    "for i in cols_cat.columns:\n",
    "    print(\"Unique values in\", i, \"are :\")\n",
    "    print(cols_cat[i].value_counts())\n",
    "    print(\"*\" * 50)"
   ]
  },
  {
   "cell_type": "markdown",
   "id": "edfa6a38",
   "metadata": {},
   "source": [
    "* Asia has the highest count of cases whereas Oceania has the least count.\n",
    "* Bachelor's education has the highest number of cases whereas Doctorate has the least.\n",
    "* There are more number of applicants with job experience.\n",
    "* Most of the applicants do not require job training.\n",
    "* Island region has very less number of cases.\n",
    "* Most of the application are for Yearly unit of wage. Very few applicants have Monthly unit of wage.\n",
    "* Most of the applications are for full time position.\n",
    "* There are more number of certified cases than denied cases."
   ]
  },
  {
   "cell_type": "markdown",
   "id": "seasonal-calibration",
   "metadata": {
    "id": "seasonal-calibration"
   },
   "source": [
    "## Exploratory Data Analysis (EDA)"
   ]
  },
  {
   "cell_type": "code",
   "execution_count": 14,
   "id": "be5a4e12",
   "metadata": {},
   "outputs": [
    {
     "data": {
      "application/javascript": [
       "\n",
       "            setTimeout(function() {\n",
       "                var nbb_cell_id = 14;\n",
       "                var nbb_unformatted_code = \"# function to plot a boxplot and a histogram along the same scale.\\n\\n\\ndef histogram_boxplot(data, feature, figsize=(12, 7), kde=False, bins=None):\\n    \\\"\\\"\\\"\\n    Boxplot and histogram combined\\n\\n    data: dataframe\\n    feature: dataframe column\\n    figsize: size of figure (default (12,7))\\n    kde: whether to show the density curve (default False)\\n    bins: number of bins for histogram (default None)\\n    \\\"\\\"\\\"\\n    f2, (ax_box2, ax_hist2) = plt.subplots(\\n        nrows=2,  # Number of rows of the subplot grid= 2\\n        sharex=True,  # x-axis will be shared among all subplots\\n        gridspec_kw={\\\"height_ratios\\\": (0.25, 0.75)},\\n        figsize=figsize,\\n    )  # creating the 2 subplots\\n    sns.boxplot(\\n        data=data, x=feature, ax=ax_box2, showmeans=True, color=\\\"violet\\\"\\n    )  # boxplot will be created and a star will indicate the mean value of the column\\n    sns.histplot(\\n        data=data, x=feature, kde=kde, ax=ax_hist2, bins=bins, palette=\\\"winter\\\"\\n    ) if bins else sns.histplot(\\n        data=data, x=feature, kde=kde, ax=ax_hist2\\n    )  # For histogram\\n    ax_hist2.axvline(\\n        data[feature].mean(), color=\\\"green\\\", linestyle=\\\"--\\\"\\n    )  # Add mean to the histogram\\n    ax_hist2.axvline(\\n        data[feature].median(), color=\\\"black\\\", linestyle=\\\"-\\\"\\n    )  # Add median to the histogram\";\n",
       "                var nbb_formatted_code = \"# function to plot a boxplot and a histogram along the same scale.\\n\\n\\ndef histogram_boxplot(data, feature, figsize=(12, 7), kde=False, bins=None):\\n    \\\"\\\"\\\"\\n    Boxplot and histogram combined\\n\\n    data: dataframe\\n    feature: dataframe column\\n    figsize: size of figure (default (12,7))\\n    kde: whether to show the density curve (default False)\\n    bins: number of bins for histogram (default None)\\n    \\\"\\\"\\\"\\n    f2, (ax_box2, ax_hist2) = plt.subplots(\\n        nrows=2,  # Number of rows of the subplot grid= 2\\n        sharex=True,  # x-axis will be shared among all subplots\\n        gridspec_kw={\\\"height_ratios\\\": (0.25, 0.75)},\\n        figsize=figsize,\\n    )  # creating the 2 subplots\\n    sns.boxplot(\\n        data=data, x=feature, ax=ax_box2, showmeans=True, color=\\\"violet\\\"\\n    )  # boxplot will be created and a star will indicate the mean value of the column\\n    sns.histplot(\\n        data=data, x=feature, kde=kde, ax=ax_hist2, bins=bins, palette=\\\"winter\\\"\\n    ) if bins else sns.histplot(\\n        data=data, x=feature, kde=kde, ax=ax_hist2\\n    )  # For histogram\\n    ax_hist2.axvline(\\n        data[feature].mean(), color=\\\"green\\\", linestyle=\\\"--\\\"\\n    )  # Add mean to the histogram\\n    ax_hist2.axvline(\\n        data[feature].median(), color=\\\"black\\\", linestyle=\\\"-\\\"\\n    )  # Add median to the histogram\";\n",
       "                var nbb_cells = Jupyter.notebook.get_cells();\n",
       "                for (var i = 0; i < nbb_cells.length; ++i) {\n",
       "                    if (nbb_cells[i].input_prompt_number == nbb_cell_id) {\n",
       "                        if (nbb_cells[i].get_text() == nbb_unformatted_code) {\n",
       "                             nbb_cells[i].set_text(nbb_formatted_code);\n",
       "                        }\n",
       "                        break;\n",
       "                    }\n",
       "                }\n",
       "            }, 500);\n",
       "            "
      ],
      "text/plain": [
       "<IPython.core.display.Javascript object>"
      ]
     },
     "metadata": {},
     "output_type": "display_data"
    }
   ],
   "source": [
    "# function to plot a boxplot and a histogram along the same scale.\n",
    "\n",
    "\n",
    "def histogram_boxplot(data, feature, figsize=(12, 7), kde=False, bins=None):\n",
    "    \"\"\"\n",
    "    Boxplot and histogram combined\n",
    "\n",
    "    data: dataframe\n",
    "    feature: dataframe column\n",
    "    figsize: size of figure (default (12,7))\n",
    "    kde: whether to show the density curve (default False)\n",
    "    bins: number of bins for histogram (default None)\n",
    "    \"\"\"\n",
    "    f2, (ax_box2, ax_hist2) = plt.subplots(\n",
    "        nrows=2,  # Number of rows of the subplot grid= 2\n",
    "        sharex=True,  # x-axis will be shared among all subplots\n",
    "        gridspec_kw={\"height_ratios\": (0.25, 0.75)},\n",
    "        figsize=figsize,\n",
    "    )  # creating the 2 subplots\n",
    "    sns.boxplot(\n",
    "        data=data, x=feature, ax=ax_box2, showmeans=True, color=\"violet\"\n",
    "    )  # boxplot will be created and a star will indicate the mean value of the column\n",
    "    sns.histplot(\n",
    "        data=data, x=feature, kde=kde, ax=ax_hist2, bins=bins, palette=\"winter\"\n",
    "    ) if bins else sns.histplot(\n",
    "        data=data, x=feature, kde=kde, ax=ax_hist2\n",
    "    )  # For histogram\n",
    "    ax_hist2.axvline(\n",
    "        data[feature].mean(), color=\"green\", linestyle=\"--\"\n",
    "    )  # Add mean to the histogram\n",
    "    ax_hist2.axvline(\n",
    "        data[feature].median(), color=\"black\", linestyle=\"-\"\n",
    "    )  # Add median to the histogram"
   ]
  },
  {
   "cell_type": "code",
   "execution_count": 15,
   "id": "eb93db05",
   "metadata": {},
   "outputs": [
    {
     "data": {
      "application/javascript": [
       "\n",
       "            setTimeout(function() {\n",
       "                var nbb_cell_id = 15;\n",
       "                var nbb_unformatted_code = \"# function to create labeled barplots\\n\\n\\ndef labeled_barplot(data, feature, perc=True, n=None):\\n    \\\"\\\"\\\"\\n    Barplot with percentage at the top\\n\\n    data: dataframe\\n    feature: dataframe column\\n    perc: whether to display percentages instead of count (default is False)\\n    n: displays the top n category levels (default is None, i.e., display all levels)\\n    \\\"\\\"\\\"\\n\\n    total = len(data[feature])  # length of the column\\n    count = data[feature].nunique()\\n    if n is None:\\n        plt.figure(figsize=(count + 1, 5))\\n    else:\\n        plt.figure(figsize=(n + 1, 5))\\n\\n    plt.xticks(rotation=90, fontsize=15)\\n    plt.xlabel(feature, fontsize=15)\\n    plt.ylabel(\\\"Count\\\", fontsize=15)\\n    ax = sns.countplot(\\n        data=data,\\n        x=feature,\\n        palette=\\\"Paired\\\",\\n        order=data[feature].value_counts().index[:n].sort_values(),\\n    )\\n\\n    for p in ax.patches:\\n        if perc == True:\\n            label = \\\"{:.1f}%\\\".format(\\n                100 * p.get_height() / total\\n            )  # percentage of each class of the category\\n        else:\\n            label = p.get_height()  # count of each level of the category\\n\\n        x = p.get_x() + p.get_width() / 2  # width of the plot\\n        y = p.get_height()  # height of the plot\\n\\n        ax.annotate(\\n            label,\\n            (x, y),\\n            ha=\\\"center\\\",\\n            va=\\\"center\\\",\\n            size=12,\\n            xytext=(0, 5),\\n            textcoords=\\\"offset points\\\",\\n        )  # annotate the percentage\\n\\n    plt.show()  # show the plot\";\n",
       "                var nbb_formatted_code = \"# function to create labeled barplots\\n\\n\\ndef labeled_barplot(data, feature, perc=True, n=None):\\n    \\\"\\\"\\\"\\n    Barplot with percentage at the top\\n\\n    data: dataframe\\n    feature: dataframe column\\n    perc: whether to display percentages instead of count (default is False)\\n    n: displays the top n category levels (default is None, i.e., display all levels)\\n    \\\"\\\"\\\"\\n\\n    total = len(data[feature])  # length of the column\\n    count = data[feature].nunique()\\n    if n is None:\\n        plt.figure(figsize=(count + 1, 5))\\n    else:\\n        plt.figure(figsize=(n + 1, 5))\\n\\n    plt.xticks(rotation=90, fontsize=15)\\n    plt.xlabel(feature, fontsize=15)\\n    plt.ylabel(\\\"Count\\\", fontsize=15)\\n    ax = sns.countplot(\\n        data=data,\\n        x=feature,\\n        palette=\\\"Paired\\\",\\n        order=data[feature].value_counts().index[:n].sort_values(),\\n    )\\n\\n    for p in ax.patches:\\n        if perc == True:\\n            label = \\\"{:.1f}%\\\".format(\\n                100 * p.get_height() / total\\n            )  # percentage of each class of the category\\n        else:\\n            label = p.get_height()  # count of each level of the category\\n\\n        x = p.get_x() + p.get_width() / 2  # width of the plot\\n        y = p.get_height()  # height of the plot\\n\\n        ax.annotate(\\n            label,\\n            (x, y),\\n            ha=\\\"center\\\",\\n            va=\\\"center\\\",\\n            size=12,\\n            xytext=(0, 5),\\n            textcoords=\\\"offset points\\\",\\n        )  # annotate the percentage\\n\\n    plt.show()  # show the plot\";\n",
       "                var nbb_cells = Jupyter.notebook.get_cells();\n",
       "                for (var i = 0; i < nbb_cells.length; ++i) {\n",
       "                    if (nbb_cells[i].input_prompt_number == nbb_cell_id) {\n",
       "                        if (nbb_cells[i].get_text() == nbb_unformatted_code) {\n",
       "                             nbb_cells[i].set_text(nbb_formatted_code);\n",
       "                        }\n",
       "                        break;\n",
       "                    }\n",
       "                }\n",
       "            }, 500);\n",
       "            "
      ],
      "text/plain": [
       "<IPython.core.display.Javascript object>"
      ]
     },
     "metadata": {},
     "output_type": "display_data"
    }
   ],
   "source": [
    "# function to create labeled barplots\n",
    "\n",
    "\n",
    "def labeled_barplot(data, feature, perc=True, n=None):\n",
    "    \"\"\"\n",
    "    Barplot with percentage at the top\n",
    "\n",
    "    data: dataframe\n",
    "    feature: dataframe column\n",
    "    perc: whether to display percentages instead of count (default is False)\n",
    "    n: displays the top n category levels (default is None, i.e., display all levels)\n",
    "    \"\"\"\n",
    "\n",
    "    total = len(data[feature])  # length of the column\n",
    "    count = data[feature].nunique()\n",
    "    if n is None:\n",
    "        plt.figure(figsize=(count + 1, 5))\n",
    "    else:\n",
    "        plt.figure(figsize=(n + 1, 5))\n",
    "\n",
    "    plt.xticks(rotation=90, fontsize=15)\n",
    "    plt.xlabel(feature, fontsize=15)\n",
    "    plt.ylabel(\"Count\", fontsize=15)\n",
    "    ax = sns.countplot(\n",
    "        data=data,\n",
    "        x=feature,\n",
    "        palette=\"Paired\",\n",
    "        order=data[feature].value_counts().index[:n].sort_values(),\n",
    "    )\n",
    "\n",
    "    for p in ax.patches:\n",
    "        if perc == True:\n",
    "            label = \"{:.1f}%\".format(\n",
    "                100 * p.get_height() / total\n",
    "            )  # percentage of each class of the category\n",
    "        else:\n",
    "            label = p.get_height()  # count of each level of the category\n",
    "\n",
    "        x = p.get_x() + p.get_width() / 2  # width of the plot\n",
    "        y = p.get_height()  # height of the plot\n",
    "\n",
    "        ax.annotate(\n",
    "            label,\n",
    "            (x, y),\n",
    "            ha=\"center\",\n",
    "            va=\"center\",\n",
    "            size=12,\n",
    "            xytext=(0, 5),\n",
    "            textcoords=\"offset points\",\n",
    "        )  # annotate the percentage\n",
    "\n",
    "    plt.show()  # show the plot"
   ]
  },
  {
   "cell_type": "code",
   "execution_count": 16,
   "id": "b8216326",
   "metadata": {},
   "outputs": [
    {
     "data": {
      "application/javascript": [
       "\n",
       "            setTimeout(function() {\n",
       "                var nbb_cell_id = 16;\n",
       "                var nbb_unformatted_code = \"# function to plot stacked bar chart\\n\\n\\ndef stacked_barplot(data, predictor, target):\\n    \\\"\\\"\\\"\\n    Print the category counts and plot a stacked bar chart\\n\\n    data: dataframe\\n    predictor: independent variable\\n    target: target variable\\n    \\\"\\\"\\\"\\n    count = data[predictor].nunique()\\n    sorter = data[target].value_counts().index[-1]\\n    tab1 = pd.crosstab(data[predictor], data[target], margins=True).sort_values(\\n        by=sorter, ascending=False\\n    )\\n    print(tab1)\\n    print(\\\"-\\\" * 120)\\n    tab = pd.crosstab(data[predictor], data[target], normalize=\\\"index\\\").sort_values(\\n        by=sorter, ascending=False\\n    )\\n    tab.plot(kind=\\\"bar\\\", stacked=True, figsize=(count + 5, 6))\\n    plt.legend(\\n        loc=\\\"lower left\\\", frameon=False,\\n    )\\n    plt.legend(loc=\\\"upper left\\\", bbox_to_anchor=(1, 1))\\n    plt.xlabel(predictor, fontsize=13)\\n    plt.show()\";\n",
       "                var nbb_formatted_code = \"# function to plot stacked bar chart\\n\\n\\ndef stacked_barplot(data, predictor, target):\\n    \\\"\\\"\\\"\\n    Print the category counts and plot a stacked bar chart\\n\\n    data: dataframe\\n    predictor: independent variable\\n    target: target variable\\n    \\\"\\\"\\\"\\n    count = data[predictor].nunique()\\n    sorter = data[target].value_counts().index[-1]\\n    tab1 = pd.crosstab(data[predictor], data[target], margins=True).sort_values(\\n        by=sorter, ascending=False\\n    )\\n    print(tab1)\\n    print(\\\"-\\\" * 120)\\n    tab = pd.crosstab(data[predictor], data[target], normalize=\\\"index\\\").sort_values(\\n        by=sorter, ascending=False\\n    )\\n    tab.plot(kind=\\\"bar\\\", stacked=True, figsize=(count + 5, 6))\\n    plt.legend(\\n        loc=\\\"lower left\\\", frameon=False,\\n    )\\n    plt.legend(loc=\\\"upper left\\\", bbox_to_anchor=(1, 1))\\n    plt.xlabel(predictor, fontsize=13)\\n    plt.show()\";\n",
       "                var nbb_cells = Jupyter.notebook.get_cells();\n",
       "                for (var i = 0; i < nbb_cells.length; ++i) {\n",
       "                    if (nbb_cells[i].input_prompt_number == nbb_cell_id) {\n",
       "                        if (nbb_cells[i].get_text() == nbb_unformatted_code) {\n",
       "                             nbb_cells[i].set_text(nbb_formatted_code);\n",
       "                        }\n",
       "                        break;\n",
       "                    }\n",
       "                }\n",
       "            }, 500);\n",
       "            "
      ],
      "text/plain": [
       "<IPython.core.display.Javascript object>"
      ]
     },
     "metadata": {},
     "output_type": "display_data"
    }
   ],
   "source": [
    "# function to plot stacked bar chart\n",
    "\n",
    "\n",
    "def stacked_barplot(data, predictor, target):\n",
    "    \"\"\"\n",
    "    Print the category counts and plot a stacked bar chart\n",
    "\n",
    "    data: dataframe\n",
    "    predictor: independent variable\n",
    "    target: target variable\n",
    "    \"\"\"\n",
    "    count = data[predictor].nunique()\n",
    "    sorter = data[target].value_counts().index[-1]\n",
    "    tab1 = pd.crosstab(data[predictor], data[target], margins=True).sort_values(\n",
    "        by=sorter, ascending=False\n",
    "    )\n",
    "    print(tab1)\n",
    "    print(\"-\" * 120)\n",
    "    tab = pd.crosstab(data[predictor], data[target], normalize=\"index\").sort_values(\n",
    "        by=sorter, ascending=False\n",
    "    )\n",
    "    tab.plot(kind=\"bar\", stacked=True, figsize=(count + 5, 6))\n",
    "    plt.legend(\n",
    "        loc=\"lower left\", frameon=False,\n",
    "    )\n",
    "    plt.legend(loc=\"upper left\", bbox_to_anchor=(1, 1))\n",
    "    plt.xlabel(predictor, fontsize=13)\n",
    "    plt.show()"
   ]
  },
  {
   "cell_type": "markdown",
   "id": "c5323fe8",
   "metadata": {},
   "source": [
    "#### 1. Those with higher education may want to travel abroad for a well-paid job. Does education play a role in Visa certification? "
   ]
  },
  {
   "cell_type": "code",
   "execution_count": 17,
   "id": "7c48c6d5",
   "metadata": {},
   "outputs": [
    {
     "name": "stdout",
     "output_type": "stream",
     "text": [
      "case_status            Certified  Denied    All\n",
      "education_of_employee                          \n",
      "All                        17018    8462  25480\n",
      "Bachelor's                  6367    3867  10234\n",
      "High School                 1164    2256   3420\n",
      "Master's                    7575    2059   9634\n",
      "Doctorate                   1912     280   2192\n",
      "------------------------------------------------------------------------------------------------------------------------\n"
     ]
    },
    {
     "data": {
      "image/png": "[encoded data removed]",
      "text/plain": [
       "<Figure size 648x432 with 1 Axes>"
      ]
     },
     "metadata": {
      "needs_background": "light"
     },
     "output_type": "display_data"
    },
    {
     "data": {
      "application/javascript": [
       "\n",
       "            setTimeout(function() {\n",
       "                var nbb_cell_id = 17;\n",
       "                var nbb_unformatted_code = \"stacked_barplot(df, \\\"education_of_employee\\\", \\\"case_status\\\")\";\n",
       "                var nbb_formatted_code = \"stacked_barplot(df, \\\"education_of_employee\\\", \\\"case_status\\\")\";\n",
       "                var nbb_cells = Jupyter.notebook.get_cells();\n",
       "                for (var i = 0; i < nbb_cells.length; ++i) {\n",
       "                    if (nbb_cells[i].input_prompt_number == nbb_cell_id) {\n",
       "                        if (nbb_cells[i].get_text() == nbb_unformatted_code) {\n",
       "                             nbb_cells[i].set_text(nbb_formatted_code);\n",
       "                        }\n",
       "                        break;\n",
       "                    }\n",
       "                }\n",
       "            }, 500);\n",
       "            "
      ],
      "text/plain": [
       "<IPython.core.display.Javascript object>"
      ]
     },
     "metadata": {},
     "output_type": "display_data"
    }
   ],
   "source": [
    "stacked_barplot(df, \"education_of_employee\", \"case_status\")"
   ]
  },
  {
   "cell_type": "markdown",
   "id": "1ce00f36",
   "metadata": {},
   "source": [
    "* Higher the education, more the chance of visa getting certified.\n",
    "* The applicants with only high school education are facing more denial of visas. \n",
    "* 1912 out of 2192 of visa cases were certified for applicants with Doctorate education.\n",
    "* More than 10000 applicants have Bachelor's degree."
   ]
  },
  {
   "cell_type": "markdown",
   "id": "24cfcda0",
   "metadata": {},
   "source": [
    "#### 2. How does the visa status vary across different continents?"
   ]
  },
  {
   "cell_type": "code",
   "execution_count": 18,
   "id": "001b681d",
   "metadata": {},
   "outputs": [
    {
     "name": "stdout",
     "output_type": "stream",
     "text": [
      "case_status    Certified  Denied    All\n",
      "continent                              \n",
      "All                17018    8462  25480\n",
      "Asia               11012    5849  16861\n",
      "North America       2037    1255   3292\n",
      "Europe              2957     775   3732\n",
      "South America        493     359    852\n",
      "Africa               397     154    551\n",
      "Oceania              122      70    192\n",
      "------------------------------------------------------------------------------------------------------------------------\n"
     ]
    },
    {
     "data": {
      "image/png": "[encoded data removed]",
      "text/plain": [
       "<Figure size 792x432 with 1 Axes>"
      ]
     },
     "metadata": {
      "needs_background": "light"
     },
     "output_type": "display_data"
    },
    {
     "data": {
      "application/javascript": [
       "\n",
       "            setTimeout(function() {\n",
       "                var nbb_cell_id = 18;\n",
       "                var nbb_unformatted_code = \"stacked_barplot(df, \\\"continent\\\", \\\"case_status\\\")\";\n",
       "                var nbb_formatted_code = \"stacked_barplot(df, \\\"continent\\\", \\\"case_status\\\")\";\n",
       "                var nbb_cells = Jupyter.notebook.get_cells();\n",
       "                for (var i = 0; i < nbb_cells.length; ++i) {\n",
       "                    if (nbb_cells[i].input_prompt_number == nbb_cell_id) {\n",
       "                        if (nbb_cells[i].get_text() == nbb_unformatted_code) {\n",
       "                             nbb_cells[i].set_text(nbb_formatted_code);\n",
       "                        }\n",
       "                        break;\n",
       "                    }\n",
       "                }\n",
       "            }, 500);\n",
       "            "
      ],
      "text/plain": [
       "<IPython.core.display.Javascript object>"
      ]
     },
     "metadata": {},
     "output_type": "display_data"
    }
   ],
   "source": [
    "stacked_barplot(df, \"continent\", \"case_status\")"
   ]
  },
  {
   "cell_type": "markdown",
   "id": "2b1e8746",
   "metadata": {},
   "source": [
    "* Europe has higher rate of visas getting certified followed by Africa and Asia.\n",
    "* There are more number of applicants from Asia whereas Oceania has the least number of visa applications.\n",
    "* The rate of denial of visas are more for the applicants from South America."
   ]
  },
  {
   "cell_type": "markdown",
   "id": "78418733",
   "metadata": {},
   "source": [
    "#### 3. Experienced professionals might look abroad for opportunities to improve their lifestyles and career development. Does work experience influence visa status?"
   ]
  },
  {
   "cell_type": "code",
   "execution_count": 19,
   "id": "dddfc6c4",
   "metadata": {},
   "outputs": [
    {
     "name": "stdout",
     "output_type": "stream",
     "text": [
      "case_status         Certified  Denied    All\n",
      "has_job_experience                          \n",
      "All                     17018    8462  25480\n",
      "N                        5994    4684  10678\n",
      "Y                       11024    3778  14802\n",
      "------------------------------------------------------------------------------------------------------------------------\n"
     ]
    },
    {
     "data": {
      "image/png": "[encoded data removed]",
      "text/plain": [
       "<Figure size 504x432 with 1 Axes>"
      ]
     },
     "metadata": {
      "needs_background": "light"
     },
     "output_type": "display_data"
    },
    {
     "data": {
      "application/javascript": [
       "\n",
       "            setTimeout(function() {\n",
       "                var nbb_cell_id = 19;\n",
       "                var nbb_unformatted_code = \"stacked_barplot(df, \\\"has_job_experience\\\", \\\"case_status\\\")\";\n",
       "                var nbb_formatted_code = \"stacked_barplot(df, \\\"has_job_experience\\\", \\\"case_status\\\")\";\n",
       "                var nbb_cells = Jupyter.notebook.get_cells();\n",
       "                for (var i = 0; i < nbb_cells.length; ++i) {\n",
       "                    if (nbb_cells[i].input_prompt_number == nbb_cell_id) {\n",
       "                        if (nbb_cells[i].get_text() == nbb_unformatted_code) {\n",
       "                             nbb_cells[i].set_text(nbb_formatted_code);\n",
       "                        }\n",
       "                        break;\n",
       "                    }\n",
       "                }\n",
       "            }, 500);\n",
       "            "
      ],
      "text/plain": [
       "<IPython.core.display.Javascript object>"
      ]
     },
     "metadata": {},
     "output_type": "display_data"
    }
   ],
   "source": [
    "stacked_barplot(df, \"has_job_experience\", \"case_status\")"
   ]
  },
  {
   "cell_type": "markdown",
   "id": "0d6d0e41",
   "metadata": {},
   "source": [
    "* The rate of visas getting certified is more in the case for applicants with job experience(~70%).\n",
    "* 14802 applicants are with previous job experience. This comprises more than 50% of the total number of cases."
   ]
  },
  {
   "cell_type": "markdown",
   "id": "0fb1ef7d",
   "metadata": {},
   "source": [
    "#### 4. In the United States, employees are paid at different intervals. Which pay unit is most likely to be certified for a visa?"
   ]
  },
  {
   "cell_type": "code",
   "execution_count": 20,
   "id": "749c237c",
   "metadata": {},
   "outputs": [
    {
     "name": "stdout",
     "output_type": "stream",
     "text": [
      "case_status   Certified  Denied    All\n",
      "unit_of_wage                          \n",
      "All               17018    8462  25480\n",
      "Year              16047    6915  22962\n",
      "Hour                747    1410   2157\n",
      "Week                169     103    272\n",
      "Month                55      34     89\n",
      "------------------------------------------------------------------------------------------------------------------------\n"
     ]
    },
    {
     "data": {
      "image/png": "[encoded data removed]",
      "text/plain": [
       "<Figure size 648x432 with 1 Axes>"
      ]
     },
     "metadata": {
      "needs_background": "light"
     },
     "output_type": "display_data"
    },
    {
     "data": {
      "application/javascript": [
       "\n",
       "            setTimeout(function() {\n",
       "                var nbb_cell_id = 20;\n",
       "                var nbb_unformatted_code = \"stacked_barplot(df, \\\"unit_of_wage\\\", \\\"case_status\\\")\";\n",
       "                var nbb_formatted_code = \"stacked_barplot(df, \\\"unit_of_wage\\\", \\\"case_status\\\")\";\n",
       "                var nbb_cells = Jupyter.notebook.get_cells();\n",
       "                for (var i = 0; i < nbb_cells.length; ++i) {\n",
       "                    if (nbb_cells[i].input_prompt_number == nbb_cell_id) {\n",
       "                        if (nbb_cells[i].get_text() == nbb_unformatted_code) {\n",
       "                             nbb_cells[i].set_text(nbb_formatted_code);\n",
       "                        }\n",
       "                        break;\n",
       "                    }\n",
       "                }\n",
       "            }, 500);\n",
       "            "
      ],
      "text/plain": [
       "<IPython.core.display.Javascript object>"
      ]
     },
     "metadata": {},
     "output_type": "display_data"
    }
   ],
   "source": [
    "stacked_barplot(df, \"unit_of_wage\", \"case_status\")"
   ]
  },
  {
   "cell_type": "markdown",
   "id": "cbaff0af",
   "metadata": {},
   "source": [
    "* The denial rate of cases for applicants with hourly unit of wage is more.\n",
    "* Most of the applicants are with Yearly unit of wage and have higher rate of visas getting certified.\n",
    "* Monthly and weekly unit of wage have ~60% of visas getting certified."
   ]
  },
  {
   "cell_type": "markdown",
   "id": "7460bf13",
   "metadata": {},
   "source": [
    "### 5. The US government has established a prevailing wage to protect local talent and foreign workers. How does the visa status change with the prevailing wage?"
   ]
  },
  {
   "cell_type": "code",
   "execution_count": 21,
   "id": "c9ae570d",
   "metadata": {},
   "outputs": [
    {
     "data": {
      "image/png": "[encoded data removed]",
      "text/plain": [
       "<Figure size 720x504 with 1 Axes>"
      ]
     },
     "metadata": {
      "needs_background": "light"
     },
     "output_type": "display_data"
    },
    {
     "data": {
      "application/javascript": [
       "\n",
       "            setTimeout(function() {\n",
       "                var nbb_cell_id = 21;\n",
       "                var nbb_unformatted_code = \"plt.figure(figsize=(10, 7))\\nsns.boxplot(data=df, x=\\\"case_status\\\", y=\\\"prevailing_wage\\\")\\nplt.show()\";\n",
       "                var nbb_formatted_code = \"plt.figure(figsize=(10, 7))\\nsns.boxplot(data=df, x=\\\"case_status\\\", y=\\\"prevailing_wage\\\")\\nplt.show()\";\n",
       "                var nbb_cells = Jupyter.notebook.get_cells();\n",
       "                for (var i = 0; i < nbb_cells.length; ++i) {\n",
       "                    if (nbb_cells[i].input_prompt_number == nbb_cell_id) {\n",
       "                        if (nbb_cells[i].get_text() == nbb_unformatted_code) {\n",
       "                             nbb_cells[i].set_text(nbb_formatted_code);\n",
       "                        }\n",
       "                        break;\n",
       "                    }\n",
       "                }\n",
       "            }, 500);\n",
       "            "
      ],
      "text/plain": [
       "<IPython.core.display.Javascript object>"
      ]
     },
     "metadata": {},
     "output_type": "display_data"
    }
   ],
   "source": [
    "plt.figure(figsize=(10, 7))\n",
    "sns.boxplot(data=df, x=\"case_status\", y=\"prevailing_wage\")\n",
    "plt.show()"
   ]
  },
  {
   "cell_type": "markdown",
   "id": "dbb060bd",
   "metadata": {},
   "source": [
    "* There are many outliers in the data.\n",
    "* The average prevailing_wage for the certified cases is slightly more than that for the denied cases."
   ]
  },
  {
   "cell_type": "markdown",
   "id": "856ee8e9",
   "metadata": {},
   "source": [
    "### Univariate Analysis"
   ]
  },
  {
   "cell_type": "markdown",
   "id": "dfa2d065",
   "metadata": {},
   "source": [
    "**Observations on continent**"
   ]
  },
  {
   "cell_type": "code",
   "execution_count": 22,
   "id": "mechanical-interference",
   "metadata": {
    "id": "mechanical-interference"
   },
   "outputs": [
    {
     "data": {
      "image/png": "[encoded data removed]",
      "text/plain": [
       "<Figure size 504x360 with 1 Axes>"
      ]
     },
     "metadata": {
      "needs_background": "light"
     },
     "output_type": "display_data"
    },
    {
     "data": {
      "application/javascript": [
       "\n",
       "            setTimeout(function() {\n",
       "                var nbb_cell_id = 22;\n",
       "                var nbb_unformatted_code = \"labeled_barplot(df, \\\"continent\\\")\";\n",
       "                var nbb_formatted_code = \"labeled_barplot(df, \\\"continent\\\")\";\n",
       "                var nbb_cells = Jupyter.notebook.get_cells();\n",
       "                for (var i = 0; i < nbb_cells.length; ++i) {\n",
       "                    if (nbb_cells[i].input_prompt_number == nbb_cell_id) {\n",
       "                        if (nbb_cells[i].get_text() == nbb_unformatted_code) {\n",
       "                             nbb_cells[i].set_text(nbb_formatted_code);\n",
       "                        }\n",
       "                        break;\n",
       "                    }\n",
       "                }\n",
       "            }, 500);\n",
       "            "
      ],
      "text/plain": [
       "<IPython.core.display.Javascript object>"
      ]
     },
     "metadata": {},
     "output_type": "display_data"
    }
   ],
   "source": [
    "labeled_barplot(df, \"continent\")"
   ]
  },
  {
   "cell_type": "markdown",
   "id": "975aa608",
   "metadata": {},
   "source": [
    "* The most number of cases(66.2%) are from Asia.\n",
    "* Africa, Oceania and South America together have less than 10% cases."
   ]
  },
  {
   "cell_type": "markdown",
   "id": "c9e7ce23",
   "metadata": {},
   "source": [
    "**Observations on education_of_employee**"
   ]
  },
  {
   "cell_type": "code",
   "execution_count": 23,
   "id": "b8b2a117",
   "metadata": {},
   "outputs": [
    {
     "data": {
      "image/png": "[encoded data removed]",
      "text/plain": [
       "<Figure size 360x360 with 1 Axes>"
      ]
     },
     "metadata": {
      "needs_background": "light"
     },
     "output_type": "display_data"
    },
    {
     "data": {
      "application/javascript": [
       "\n",
       "            setTimeout(function() {\n",
       "                var nbb_cell_id = 23;\n",
       "                var nbb_unformatted_code = \"labeled_barplot(df, \\\"education_of_employee\\\")\";\n",
       "                var nbb_formatted_code = \"labeled_barplot(df, \\\"education_of_employee\\\")\";\n",
       "                var nbb_cells = Jupyter.notebook.get_cells();\n",
       "                for (var i = 0; i < nbb_cells.length; ++i) {\n",
       "                    if (nbb_cells[i].input_prompt_number == nbb_cell_id) {\n",
       "                        if (nbb_cells[i].get_text() == nbb_unformatted_code) {\n",
       "                             nbb_cells[i].set_text(nbb_formatted_code);\n",
       "                        }\n",
       "                        break;\n",
       "                    }\n",
       "                }\n",
       "            }, 500);\n",
       "            "
      ],
      "text/plain": [
       "<IPython.core.display.Javascript object>"
      ]
     },
     "metadata": {},
     "output_type": "display_data"
    }
   ],
   "source": [
    "labeled_barplot(df, \"education_of_employee\")"
   ]
  },
  {
   "cell_type": "markdown",
   "id": "9974f82b",
   "metadata": {},
   "source": [
    "* More number of employees have Bachelor's education. \n",
    "* 8.6% of the employees have doctorate education."
   ]
  },
  {
   "cell_type": "markdown",
   "id": "e5c92721",
   "metadata": {},
   "source": [
    "**Observations on has_job_experience**"
   ]
  },
  {
   "cell_type": "code",
   "execution_count": 24,
   "id": "f8680bd2",
   "metadata": {},
   "outputs": [
    {
     "data": {
      "image/png": "[encoded data removed]",
      "text/plain": [
       "<Figure size 216x360 with 1 Axes>"
      ]
     },
     "metadata": {
      "needs_background": "light"
     },
     "output_type": "display_data"
    },
    {
     "data": {
      "application/javascript": [
       "\n",
       "            setTimeout(function() {\n",
       "                var nbb_cell_id = 24;\n",
       "                var nbb_unformatted_code = \"labeled_barplot(df, \\\"has_job_experience\\\")\";\n",
       "                var nbb_formatted_code = \"labeled_barplot(df, \\\"has_job_experience\\\")\";\n",
       "                var nbb_cells = Jupyter.notebook.get_cells();\n",
       "                for (var i = 0; i < nbb_cells.length; ++i) {\n",
       "                    if (nbb_cells[i].input_prompt_number == nbb_cell_id) {\n",
       "                        if (nbb_cells[i].get_text() == nbb_unformatted_code) {\n",
       "                             nbb_cells[i].set_text(nbb_formatted_code);\n",
       "                        }\n",
       "                        break;\n",
       "                    }\n",
       "                }\n",
       "            }, 500);\n",
       "            "
      ],
      "text/plain": [
       "<IPython.core.display.Javascript object>"
      ]
     },
     "metadata": {},
     "output_type": "display_data"
    }
   ],
   "source": [
    "labeled_barplot(df, \"has_job_experience\")"
   ]
  },
  {
   "cell_type": "markdown",
   "id": "309c98d6",
   "metadata": {},
   "source": [
    "* 58.1% of the emlployees have previous job experience."
   ]
  },
  {
   "cell_type": "markdown",
   "id": "3aeae5f1",
   "metadata": {},
   "source": [
    "**Observations on requires_job_trining**"
   ]
  },
  {
   "cell_type": "code",
   "execution_count": 25,
   "id": "8fa3278d",
   "metadata": {},
   "outputs": [
    {
     "data": {
      "image/png": "[encoded data removed]",
      "text/plain": [
       "<Figure size 216x360 with 1 Axes>"
      ]
     },
     "metadata": {
      "needs_background": "light"
     },
     "output_type": "display_data"
    },
    {
     "data": {
      "application/javascript": [
       "\n",
       "            setTimeout(function() {\n",
       "                var nbb_cell_id = 25;\n",
       "                var nbb_unformatted_code = \"labeled_barplot(df, \\\"requires_job_training\\\")\";\n",
       "                var nbb_formatted_code = \"labeled_barplot(df, \\\"requires_job_training\\\")\";\n",
       "                var nbb_cells = Jupyter.notebook.get_cells();\n",
       "                for (var i = 0; i < nbb_cells.length; ++i) {\n",
       "                    if (nbb_cells[i].input_prompt_number == nbb_cell_id) {\n",
       "                        if (nbb_cells[i].get_text() == nbb_unformatted_code) {\n",
       "                             nbb_cells[i].set_text(nbb_formatted_code);\n",
       "                        }\n",
       "                        break;\n",
       "                    }\n",
       "                }\n",
       "            }, 500);\n",
       "            "
      ],
      "text/plain": [
       "<IPython.core.display.Javascript object>"
      ]
     },
     "metadata": {},
     "output_type": "display_data"
    }
   ],
   "source": [
    "labeled_barplot(df, \"requires_job_training\")"
   ]
  },
  {
   "cell_type": "markdown",
   "id": "366a067d",
   "metadata": {},
   "source": [
    "* 88.4% of the applicants do not require job training."
   ]
  },
  {
   "cell_type": "markdown",
   "id": "c4622f90",
   "metadata": {},
   "source": [
    "**Observations on no_of_employees**"
   ]
  },
  {
   "cell_type": "code",
   "execution_count": 26,
   "id": "1ac8bb42",
   "metadata": {},
   "outputs": [
    {
     "data": {
      "image/png": "[encoded data removed]",
      "text/plain": [
       "<Figure size 864x504 with 2 Axes>"
      ]
     },
     "metadata": {
      "needs_background": "light"
     },
     "output_type": "display_data"
    },
    {
     "data": {
      "application/javascript": [
       "\n",
       "            setTimeout(function() {\n",
       "                var nbb_cell_id = 26;\n",
       "                var nbb_unformatted_code = \"histogram_boxplot(df, \\\"no_of_employees\\\")\";\n",
       "                var nbb_formatted_code = \"histogram_boxplot(df, \\\"no_of_employees\\\")\";\n",
       "                var nbb_cells = Jupyter.notebook.get_cells();\n",
       "                for (var i = 0; i < nbb_cells.length; ++i) {\n",
       "                    if (nbb_cells[i].input_prompt_number == nbb_cell_id) {\n",
       "                        if (nbb_cells[i].get_text() == nbb_unformatted_code) {\n",
       "                             nbb_cells[i].set_text(nbb_formatted_code);\n",
       "                        }\n",
       "                        break;\n",
       "                    }\n",
       "                }\n",
       "            }, 500);\n",
       "            "
      ],
      "text/plain": [
       "<IPython.core.display.Javascript object>"
      ]
     },
     "metadata": {},
     "output_type": "display_data"
    }
   ],
   "source": [
    "histogram_boxplot(df, \"no_of_employees\")"
   ]
  },
  {
   "cell_type": "markdown",
   "id": "a570d359",
   "metadata": {},
   "source": [
    "* no_of_employees column has a highly right skewed distribution with a lot of outliers.\n",
    "* The data has a wide range of values from -26 to 602069. But, most of the values are less than 1000.\n",
    "* We can categorize the number of employees column to classes which represent the size of the company. This will help to create the model without loosing the information. "
   ]
  },
  {
   "cell_type": "code",
   "execution_count": 27,
   "id": "81e77bd6",
   "metadata": {},
   "outputs": [
    {
     "data": {
      "application/javascript": [
       "\n",
       "            setTimeout(function() {\n",
       "                var nbb_cell_id = 27;\n",
       "                var nbb_unformatted_code = \"# Changing the number of employees column to classes\\n\\n# defining bins\\nbins = (-np.inf, 1000, 10000, 100000)\\n\\n# defining labels\\nlabels = [\\\"small\\\", \\\"medium\\\", \\\"large\\\"]\\n\\ndf[\\\"no_of_emp_class\\\"] = pd.cut(x=df[\\\"no_of_employees\\\"], bins=bins, labels=labels)\\n\\ndf.drop(\\\"no_of_employees\\\", axis=1, inplace=True)\";\n",
       "                var nbb_formatted_code = \"# Changing the number of employees column to classes\\n\\n# defining bins\\nbins = (-np.inf, 1000, 10000, 100000)\\n\\n# defining labels\\nlabels = [\\\"small\\\", \\\"medium\\\", \\\"large\\\"]\\n\\ndf[\\\"no_of_emp_class\\\"] = pd.cut(x=df[\\\"no_of_employees\\\"], bins=bins, labels=labels)\\n\\ndf.drop(\\\"no_of_employees\\\", axis=1, inplace=True)\";\n",
       "                var nbb_cells = Jupyter.notebook.get_cells();\n",
       "                for (var i = 0; i < nbb_cells.length; ++i) {\n",
       "                    if (nbb_cells[i].input_prompt_number == nbb_cell_id) {\n",
       "                        if (nbb_cells[i].get_text() == nbb_unformatted_code) {\n",
       "                             nbb_cells[i].set_text(nbb_formatted_code);\n",
       "                        }\n",
       "                        break;\n",
       "                    }\n",
       "                }\n",
       "            }, 500);\n",
       "            "
      ],
      "text/plain": [
       "<IPython.core.display.Javascript object>"
      ]
     },
     "metadata": {},
     "output_type": "display_data"
    }
   ],
   "source": [
    "# Changing the number of employees column to classes\n",
    "\n",
    "# defining bins\n",
    "bins = (-np.inf, 1000, 10000, 100000)\n",
    "\n",
    "# defining labels\n",
    "labels = [\"small\", \"medium\", \"large\"]\n",
    "\n",
    "df[\"no_of_emp_class\"] = pd.cut(x=df[\"no_of_employees\"], bins=bins, labels=labels)\n",
    "\n",
    "df.drop(\"no_of_employees\", axis=1, inplace=True)"
   ]
  },
  {
   "cell_type": "code",
   "execution_count": 28,
   "id": "2c43760b",
   "metadata": {},
   "outputs": [
    {
     "data": {
      "image/png": "[encoded data removed]",
      "text/plain": [
       "<Figure size 288x360 with 1 Axes>"
      ]
     },
     "metadata": {
      "needs_background": "light"
     },
     "output_type": "display_data"
    },
    {
     "data": {
      "application/javascript": [
       "\n",
       "            setTimeout(function() {\n",
       "                var nbb_cell_id = 28;\n",
       "                var nbb_unformatted_code = \"# Lets check the distribution of n0_of_emp_class column\\nlabeled_barplot(df, \\\"no_of_emp_class\\\")\";\n",
       "                var nbb_formatted_code = \"# Lets check the distribution of n0_of_emp_class column\\nlabeled_barplot(df, \\\"no_of_emp_class\\\")\";\n",
       "                var nbb_cells = Jupyter.notebook.get_cells();\n",
       "                for (var i = 0; i < nbb_cells.length; ++i) {\n",
       "                    if (nbb_cells[i].input_prompt_number == nbb_cell_id) {\n",
       "                        if (nbb_cells[i].get_text() == nbb_unformatted_code) {\n",
       "                             nbb_cells[i].set_text(nbb_formatted_code);\n",
       "                        }\n",
       "                        break;\n",
       "                    }\n",
       "                }\n",
       "            }, 500);\n",
       "            "
      ],
      "text/plain": [
       "<IPython.core.display.Javascript object>"
      ]
     },
     "metadata": {},
     "output_type": "display_data"
    }
   ],
   "source": [
    "# Lets check the distribution of n0_of_emp_class column\n",
    "labeled_barplot(df, \"no_of_emp_class\")"
   ]
  },
  {
   "cell_type": "markdown",
   "id": "21a22966",
   "metadata": {},
   "source": [
    "* 66.9% of the companies have employees in the range of 1000-10000. \n",
    "* 4.6% of the companies have more than 10000 employees."
   ]
  },
  {
   "cell_type": "markdown",
   "id": "9fdd7599",
   "metadata": {},
   "source": [
    "**Observations on yr_of_estab**"
   ]
  },
  {
   "cell_type": "code",
   "execution_count": 29,
   "id": "a1d5d18e",
   "metadata": {},
   "outputs": [
    {
     "data": {
      "image/png": "[encoded data removed]",
      "text/plain": [
       "<Figure size 864x504 with 2 Axes>"
      ]
     },
     "metadata": {
      "needs_background": "light"
     },
     "output_type": "display_data"
    },
    {
     "data": {
      "application/javascript": [
       "\n",
       "            setTimeout(function() {\n",
       "                var nbb_cell_id = 29;\n",
       "                var nbb_unformatted_code = \"histogram_boxplot(df, \\\"yr_of_estab\\\")\";\n",
       "                var nbb_formatted_code = \"histogram_boxplot(df, \\\"yr_of_estab\\\")\";\n",
       "                var nbb_cells = Jupyter.notebook.get_cells();\n",
       "                for (var i = 0; i < nbb_cells.length; ++i) {\n",
       "                    if (nbb_cells[i].input_prompt_number == nbb_cell_id) {\n",
       "                        if (nbb_cells[i].get_text() == nbb_unformatted_code) {\n",
       "                             nbb_cells[i].set_text(nbb_formatted_code);\n",
       "                        }\n",
       "                        break;\n",
       "                    }\n",
       "                }\n",
       "            }, 500);\n",
       "            "
      ],
      "text/plain": [
       "<IPython.core.display.Javascript object>"
      ]
     },
     "metadata": {},
     "output_type": "display_data"
    }
   ],
   "source": [
    "histogram_boxplot(df, \"yr_of_estab\")"
   ]
  },
  {
   "cell_type": "markdown",
   "id": "ad236d42",
   "metadata": {},
   "source": [
    "* yr_of_estab has a highly left skewed distribution with 50% of the cases after 1997."
   ]
  },
  {
   "cell_type": "markdown",
   "id": "ecbfac35",
   "metadata": {},
   "source": [
    "**Observations on region_of_employment**"
   ]
  },
  {
   "cell_type": "code",
   "execution_count": 30,
   "id": "f636579b",
   "metadata": {},
   "outputs": [
    {
     "data": {
      "image/png": "[encoded data removed]",
      "text/plain": [
       "<Figure size 432x360 with 1 Axes>"
      ]
     },
     "metadata": {
      "needs_background": "light"
     },
     "output_type": "display_data"
    },
    {
     "data": {
      "application/javascript": [
       "\n",
       "            setTimeout(function() {\n",
       "                var nbb_cell_id = 30;\n",
       "                var nbb_unformatted_code = \"labeled_barplot(df, \\\"region_of_employment\\\")\";\n",
       "                var nbb_formatted_code = \"labeled_barplot(df, \\\"region_of_employment\\\")\";\n",
       "                var nbb_cells = Jupyter.notebook.get_cells();\n",
       "                for (var i = 0; i < nbb_cells.length; ++i) {\n",
       "                    if (nbb_cells[i].input_prompt_number == nbb_cell_id) {\n",
       "                        if (nbb_cells[i].get_text() == nbb_unformatted_code) {\n",
       "                             nbb_cells[i].set_text(nbb_formatted_code);\n",
       "                        }\n",
       "                        break;\n",
       "                    }\n",
       "                }\n",
       "            }, 500);\n",
       "            "
      ],
      "text/plain": [
       "<IPython.core.display.Javascript object>"
      ]
     },
     "metadata": {},
     "output_type": "display_data"
    }
   ],
   "source": [
    "labeled_barplot(df, \"region_of_employment\")"
   ]
  },
  {
   "cell_type": "markdown",
   "id": "613347d4",
   "metadata": {},
   "source": [
    "* Northeast, South and West regions each have similar percentage of cases of more 25%.\n",
    "* Island region has only 1.5% cases."
   ]
  },
  {
   "cell_type": "markdown",
   "id": "da5877a7",
   "metadata": {},
   "source": [
    "**Observations on prevailing_wage**"
   ]
  },
  {
   "cell_type": "code",
   "execution_count": 31,
   "id": "afdb9422",
   "metadata": {},
   "outputs": [
    {
     "data": {
      "image/png": "[encoded data removed]",
      "text/plain": [
       "<Figure size 864x504 with 2 Axes>"
      ]
     },
     "metadata": {
      "needs_background": "light"
     },
     "output_type": "display_data"
    },
    {
     "data": {
      "application/javascript": [
       "\n",
       "            setTimeout(function() {\n",
       "                var nbb_cell_id = 31;\n",
       "                var nbb_unformatted_code = \"histogram_boxplot(df, \\\"prevailing_wage\\\")\";\n",
       "                var nbb_formatted_code = \"histogram_boxplot(df, \\\"prevailing_wage\\\")\";\n",
       "                var nbb_cells = Jupyter.notebook.get_cells();\n",
       "                for (var i = 0; i < nbb_cells.length; ++i) {\n",
       "                    if (nbb_cells[i].input_prompt_number == nbb_cell_id) {\n",
       "                        if (nbb_cells[i].get_text() == nbb_unformatted_code) {\n",
       "                             nbb_cells[i].set_text(nbb_formatted_code);\n",
       "                        }\n",
       "                        break;\n",
       "                    }\n",
       "                }\n",
       "            }, 500);\n",
       "            "
      ],
      "text/plain": [
       "<IPython.core.display.Javascript object>"
      ]
     },
     "metadata": {},
     "output_type": "display_data"
    }
   ],
   "source": [
    "histogram_boxplot(df, \"prevailing_wage\")"
   ]
  },
  {
   "cell_type": "markdown",
   "id": "d7ac3973",
   "metadata": {},
   "source": [
    "* The distribution is slightly right skewed with a spike close to zero.\n",
    "* There are many outliers in the data."
   ]
  },
  {
   "cell_type": "markdown",
   "id": "b839d003",
   "metadata": {},
   "source": [
    "**Observations on unit_of_wage**"
   ]
  },
  {
   "cell_type": "code",
   "execution_count": 32,
   "id": "a7a8bda7",
   "metadata": {},
   "outputs": [
    {
     "data": {
      "image/png": "[encoded data removed]",
      "text/plain": [
       "<Figure size 360x360 with 1 Axes>"
      ]
     },
     "metadata": {
      "needs_background": "light"
     },
     "output_type": "display_data"
    },
    {
     "data": {
      "application/javascript": [
       "\n",
       "            setTimeout(function() {\n",
       "                var nbb_cell_id = 32;\n",
       "                var nbb_unformatted_code = \"labeled_barplot(df, \\\"unit_of_wage\\\")\";\n",
       "                var nbb_formatted_code = \"labeled_barplot(df, \\\"unit_of_wage\\\")\";\n",
       "                var nbb_cells = Jupyter.notebook.get_cells();\n",
       "                for (var i = 0; i < nbb_cells.length; ++i) {\n",
       "                    if (nbb_cells[i].input_prompt_number == nbb_cell_id) {\n",
       "                        if (nbb_cells[i].get_text() == nbb_unformatted_code) {\n",
       "                             nbb_cells[i].set_text(nbb_formatted_code);\n",
       "                        }\n",
       "                        break;\n",
       "                    }\n",
       "                }\n",
       "            }, 500);\n",
       "            "
      ],
      "text/plain": [
       "<IPython.core.display.Javascript object>"
      ]
     },
     "metadata": {},
     "output_type": "display_data"
    }
   ],
   "source": [
    "labeled_barplot(df, \"unit_of_wage\")"
   ]
  },
  {
   "cell_type": "markdown",
   "id": "1291d8f7",
   "metadata": {},
   "source": [
    "* 90.1% of the cases have Hourly unit of wage.\n",
    "* Only 0.3% of cases have monthly unit of wage and 1.1% of the cases have Weekly unit of wage."
   ]
  },
  {
   "cell_type": "markdown",
   "id": "d472d909",
   "metadata": {},
   "source": [
    "**Observations on full_time_position**"
   ]
  },
  {
   "cell_type": "code",
   "execution_count": 33,
   "id": "9f8d3469",
   "metadata": {},
   "outputs": [
    {
     "data": {
      "image/png": "[encoded data removed]",
      "text/plain": [
       "<Figure size 216x360 with 1 Axes>"
      ]
     },
     "metadata": {
      "needs_background": "light"
     },
     "output_type": "display_data"
    },
    {
     "data": {
      "application/javascript": [
       "\n",
       "            setTimeout(function() {\n",
       "                var nbb_cell_id = 33;\n",
       "                var nbb_unformatted_code = \"labeled_barplot(df, \\\"full_time_position\\\")\";\n",
       "                var nbb_formatted_code = \"labeled_barplot(df, \\\"full_time_position\\\")\";\n",
       "                var nbb_cells = Jupyter.notebook.get_cells();\n",
       "                for (var i = 0; i < nbb_cells.length; ++i) {\n",
       "                    if (nbb_cells[i].input_prompt_number == nbb_cell_id) {\n",
       "                        if (nbb_cells[i].get_text() == nbb_unformatted_code) {\n",
       "                             nbb_cells[i].set_text(nbb_formatted_code);\n",
       "                        }\n",
       "                        break;\n",
       "                    }\n",
       "                }\n",
       "            }, 500);\n",
       "            "
      ],
      "text/plain": [
       "<IPython.core.display.Javascript object>"
      ]
     },
     "metadata": {},
     "output_type": "display_data"
    }
   ],
   "source": [
    "labeled_barplot(df, \"full_time_position\")"
   ]
  },
  {
   "cell_type": "markdown",
   "id": "1cf2d6f2",
   "metadata": {},
   "source": [
    "* 89.4% of the cases are for full time position."
   ]
  },
  {
   "cell_type": "markdown",
   "id": "8d761fb7",
   "metadata": {},
   "source": [
    "**Observations on case_status**"
   ]
  },
  {
   "cell_type": "code",
   "execution_count": 34,
   "id": "e3384f71",
   "metadata": {},
   "outputs": [
    {
     "data": {
      "image/png": "[encoded data removed]",
      "text/plain": [
       "<Figure size 216x360 with 1 Axes>"
      ]
     },
     "metadata": {
      "needs_background": "light"
     },
     "output_type": "display_data"
    },
    {
     "data": {
      "application/javascript": [
       "\n",
       "            setTimeout(function() {\n",
       "                var nbb_cell_id = 34;\n",
       "                var nbb_unformatted_code = \"labeled_barplot(df, \\\"case_status\\\")\";\n",
       "                var nbb_formatted_code = \"labeled_barplot(df, \\\"case_status\\\")\";\n",
       "                var nbb_cells = Jupyter.notebook.get_cells();\n",
       "                for (var i = 0; i < nbb_cells.length; ++i) {\n",
       "                    if (nbb_cells[i].input_prompt_number == nbb_cell_id) {\n",
       "                        if (nbb_cells[i].get_text() == nbb_unformatted_code) {\n",
       "                             nbb_cells[i].set_text(nbb_formatted_code);\n",
       "                        }\n",
       "                        break;\n",
       "                    }\n",
       "                }\n",
       "            }, 500);\n",
       "            "
      ],
      "text/plain": [
       "<IPython.core.display.Javascript object>"
      ]
     },
     "metadata": {},
     "output_type": "display_data"
    }
   ],
   "source": [
    "labeled_barplot(df, \"case_status\")"
   ]
  },
  {
   "cell_type": "markdown",
   "id": "a4302e01",
   "metadata": {},
   "source": [
    "* 66.8% of the cases are Certified."
   ]
  },
  {
   "cell_type": "markdown",
   "id": "50589225",
   "metadata": {},
   "source": [
    "### Bivariate Analysis"
   ]
  },
  {
   "cell_type": "code",
   "execution_count": 35,
   "id": "11fcf721",
   "metadata": {},
   "outputs": [
    {
     "data": {
      "image/png": "[encoded data removed]",
      "text/plain": [
       "<Figure size 720x504 with 2 Axes>"
      ]
     },
     "metadata": {
      "needs_background": "light"
     },
     "output_type": "display_data"
    },
    {
     "data": {
      "application/javascript": [
       "\n",
       "            setTimeout(function() {\n",
       "                var nbb_cell_id = 35;\n",
       "                var nbb_unformatted_code = \"plt.figure(figsize=(10, 7))\\nsns.heatmap(df.corr(), annot=True, vmin=-1, vmax=1, fmt=\\\".2f\\\", cmap=\\\"Spectral\\\")\\nplt.show()\";\n",
       "                var nbb_formatted_code = \"plt.figure(figsize=(10, 7))\\nsns.heatmap(df.corr(), annot=True, vmin=-1, vmax=1, fmt=\\\".2f\\\", cmap=\\\"Spectral\\\")\\nplt.show()\";\n",
       "                var nbb_cells = Jupyter.notebook.get_cells();\n",
       "                for (var i = 0; i < nbb_cells.length; ++i) {\n",
       "                    if (nbb_cells[i].input_prompt_number == nbb_cell_id) {\n",
       "                        if (nbb_cells[i].get_text() == nbb_unformatted_code) {\n",
       "                             nbb_cells[i].set_text(nbb_formatted_code);\n",
       "                        }\n",
       "                        break;\n",
       "                    }\n",
       "                }\n",
       "            }, 500);\n",
       "            "
      ],
      "text/plain": [
       "<IPython.core.display.Javascript object>"
      ]
     },
     "metadata": {},
     "output_type": "display_data"
    }
   ],
   "source": [
    "plt.figure(figsize=(10, 7))\n",
    "sns.heatmap(df.corr(), annot=True, vmin=-1, vmax=1, fmt=\".2f\", cmap=\"Spectral\")\n",
    "plt.show()"
   ]
  },
  {
   "cell_type": "markdown",
   "id": "8fb89b2b",
   "metadata": {},
   "source": [
    "* There is no correlation between the variables prevailing_wage and yr_of_estab."
   ]
  },
  {
   "cell_type": "markdown",
   "id": "57a75955",
   "metadata": {},
   "source": [
    "#### requires_job_training vs case_status"
   ]
  },
  {
   "cell_type": "code",
   "execution_count": 36,
   "id": "97182eeb",
   "metadata": {},
   "outputs": [
    {
     "name": "stdout",
     "output_type": "stream",
     "text": [
      "case_status            Certified  Denied    All\n",
      "requires_job_training                          \n",
      "All                        17018    8462  25480\n",
      "N                          15012    7513  22525\n",
      "Y                           2006     949   2955\n",
      "------------------------------------------------------------------------------------------------------------------------\n"
     ]
    },
    {
     "data": {
      "image/png": "[encoded data removed]",
      "text/plain": [
       "<Figure size 504x432 with 1 Axes>"
      ]
     },
     "metadata": {
      "needs_background": "light"
     },
     "output_type": "display_data"
    },
    {
     "data": {
      "application/javascript": [
       "\n",
       "            setTimeout(function() {\n",
       "                var nbb_cell_id = 36;\n",
       "                var nbb_unformatted_code = \"stacked_barplot(df, \\\"requires_job_training\\\", \\\"case_status\\\")\";\n",
       "                var nbb_formatted_code = \"stacked_barplot(df, \\\"requires_job_training\\\", \\\"case_status\\\")\";\n",
       "                var nbb_cells = Jupyter.notebook.get_cells();\n",
       "                for (var i = 0; i < nbb_cells.length; ++i) {\n",
       "                    if (nbb_cells[i].input_prompt_number == nbb_cell_id) {\n",
       "                        if (nbb_cells[i].get_text() == nbb_unformatted_code) {\n",
       "                             nbb_cells[i].set_text(nbb_formatted_code);\n",
       "                        }\n",
       "                        break;\n",
       "                    }\n",
       "                }\n",
       "            }, 500);\n",
       "            "
      ],
      "text/plain": [
       "<IPython.core.display.Javascript object>"
      ]
     },
     "metadata": {},
     "output_type": "display_data"
    }
   ],
   "source": [
    "stacked_barplot(df, \"requires_job_training\", \"case_status\")"
   ]
  },
  {
   "cell_type": "markdown",
   "id": "15951be7",
   "metadata": {},
   "source": [
    "* The number of visas getting certified is almost similar for employees who need job training and who don't need job training."
   ]
  },
  {
   "cell_type": "markdown",
   "id": "620ffb7a",
   "metadata": {},
   "source": [
    "#### no_of_emp_class vs case_status"
   ]
  },
  {
   "cell_type": "code",
   "execution_count": 37,
   "id": "af74f376",
   "metadata": {},
   "outputs": [
    {
     "name": "stdout",
     "output_type": "stream",
     "text": [
      "case_status      Certified  Denied    All\n",
      "no_of_emp_class                          \n",
      "All                  16828    8381  25209\n",
      "medium               11927    5876  17803\n",
      "small                 4108    2133   6241\n",
      "large                  793     372   1165\n",
      "------------------------------------------------------------------------------------------------------------------------\n"
     ]
    },
    {
     "data": {
      "image/png": "[encoded data removed]",
      "text/plain": [
       "<Figure size 576x432 with 1 Axes>"
      ]
     },
     "metadata": {
      "needs_background": "light"
     },
     "output_type": "display_data"
    },
    {
     "data": {
      "application/javascript": [
       "\n",
       "            setTimeout(function() {\n",
       "                var nbb_cell_id = 37;\n",
       "                var nbb_unformatted_code = \"stacked_barplot(df, \\\"no_of_emp_class\\\", \\\"case_status\\\")\";\n",
       "                var nbb_formatted_code = \"stacked_barplot(df, \\\"no_of_emp_class\\\", \\\"case_status\\\")\";\n",
       "                var nbb_cells = Jupyter.notebook.get_cells();\n",
       "                for (var i = 0; i < nbb_cells.length; ++i) {\n",
       "                    if (nbb_cells[i].input_prompt_number == nbb_cell_id) {\n",
       "                        if (nbb_cells[i].get_text() == nbb_unformatted_code) {\n",
       "                             nbb_cells[i].set_text(nbb_formatted_code);\n",
       "                        }\n",
       "                        break;\n",
       "                    }\n",
       "                }\n",
       "            }, 500);\n",
       "            "
      ],
      "text/plain": [
       "<IPython.core.display.Javascript object>"
      ]
     },
     "metadata": {},
     "output_type": "display_data"
    }
   ],
   "source": [
    "stacked_barplot(df, \"no_of_emp_class\", \"case_status\")"
   ]
  },
  {
   "cell_type": "markdown",
   "id": "b5ffcdaa",
   "metadata": {},
   "source": [
    "* The rate of cases getting certified is similar for all employee classes."
   ]
  },
  {
   "cell_type": "markdown",
   "id": "100cef72",
   "metadata": {},
   "source": [
    "#### region_of_employment vs case_status"
   ]
  },
  {
   "cell_type": "code",
   "execution_count": 38,
   "id": "567df873",
   "metadata": {},
   "outputs": [
    {
     "name": "stdout",
     "output_type": "stream",
     "text": [
      "case_status           Certified  Denied    All\n",
      "region_of_employment                          \n",
      "All                       17018    8462  25480\n",
      "Northeast                  4526    2669   7195\n",
      "West                       4100    2486   6586\n",
      "South                      4913    2104   7017\n",
      "Midwest                    3253    1054   4307\n",
      "Island                      226     149    375\n",
      "------------------------------------------------------------------------------------------------------------------------\n"
     ]
    },
    {
     "data": {
      "image/png": "[encoded data removed]",
      "text/plain": [
       "<Figure size 720x432 with 1 Axes>"
      ]
     },
     "metadata": {
      "needs_background": "light"
     },
     "output_type": "display_data"
    },
    {
     "data": {
      "application/javascript": [
       "\n",
       "            setTimeout(function() {\n",
       "                var nbb_cell_id = 38;\n",
       "                var nbb_unformatted_code = \"stacked_barplot(df, \\\"region_of_employment\\\", \\\"case_status\\\")\";\n",
       "                var nbb_formatted_code = \"stacked_barplot(df, \\\"region_of_employment\\\", \\\"case_status\\\")\";\n",
       "                var nbb_cells = Jupyter.notebook.get_cells();\n",
       "                for (var i = 0; i < nbb_cells.length; ++i) {\n",
       "                    if (nbb_cells[i].input_prompt_number == nbb_cell_id) {\n",
       "                        if (nbb_cells[i].get_text() == nbb_unformatted_code) {\n",
       "                             nbb_cells[i].set_text(nbb_formatted_code);\n",
       "                        }\n",
       "                        break;\n",
       "                    }\n",
       "                }\n",
       "            }, 500);\n",
       "            "
      ],
      "text/plain": [
       "<IPython.core.display.Javascript object>"
      ]
     },
     "metadata": {},
     "output_type": "display_data"
    }
   ],
   "source": [
    "stacked_barplot(df, \"region_of_employment\", \"case_status\")"
   ]
  },
  {
   "cell_type": "markdown",
   "id": "6e14c415",
   "metadata": {},
   "source": [
    "* Midwest region has higher rate of visas getting certified followed by South region.\n",
    "* All other regions have a similar rate of visa certification of ~60%."
   ]
  },
  {
   "cell_type": "markdown",
   "id": "53ea41cf",
   "metadata": {},
   "source": [
    "#### full_time_position vs case_status"
   ]
  },
  {
   "cell_type": "code",
   "execution_count": 39,
   "id": "90887414",
   "metadata": {},
   "outputs": [
    {
     "name": "stdout",
     "output_type": "stream",
     "text": [
      "case_status         Certified  Denied    All\n",
      "full_time_position                          \n",
      "All                     17018    8462  25480\n",
      "Y                       15163    7610  22773\n",
      "N                        1855     852   2707\n",
      "------------------------------------------------------------------------------------------------------------------------\n"
     ]
    },
    {
     "data": {
      "image/png": "[encoded data removed]",
      "text/plain": [
       "<Figure size 504x432 with 1 Axes>"
      ]
     },
     "metadata": {
      "needs_background": "light"
     },
     "output_type": "display_data"
    },
    {
     "data": {
      "application/javascript": [
       "\n",
       "            setTimeout(function() {\n",
       "                var nbb_cell_id = 39;\n",
       "                var nbb_unformatted_code = \"stacked_barplot(df, \\\"full_time_position\\\", \\\"case_status\\\")\";\n",
       "                var nbb_formatted_code = \"stacked_barplot(df, \\\"full_time_position\\\", \\\"case_status\\\")\";\n",
       "                var nbb_cells = Jupyter.notebook.get_cells();\n",
       "                for (var i = 0; i < nbb_cells.length; ++i) {\n",
       "                    if (nbb_cells[i].input_prompt_number == nbb_cell_id) {\n",
       "                        if (nbb_cells[i].get_text() == nbb_unformatted_code) {\n",
       "                             nbb_cells[i].set_text(nbb_formatted_code);\n",
       "                        }\n",
       "                        break;\n",
       "                    }\n",
       "                }\n",
       "            }, 500);\n",
       "            "
      ],
      "text/plain": [
       "<IPython.core.display.Javascript object>"
      ]
     },
     "metadata": {},
     "output_type": "display_data"
    }
   ],
   "source": [
    "stacked_barplot(df, \"full_time_position\", \"case_status\")"
   ]
  },
  {
   "cell_type": "markdown",
   "id": "e69cdcfb",
   "metadata": {},
   "source": [
    "* The rate of cases getting certified is similar whether the position is full time or not."
   ]
  },
  {
   "cell_type": "markdown",
   "id": "1a0c74f8",
   "metadata": {},
   "source": [
    "### Multivariate Analysis"
   ]
  },
  {
   "cell_type": "markdown",
   "id": "9cfe3b22",
   "metadata": {},
   "source": [
    "#### unit_of_wage vs prevailing_wage vs case_status"
   ]
  },
  {
   "cell_type": "code",
   "execution_count": 40,
   "id": "b796359a",
   "metadata": {},
   "outputs": [
    {
     "data": {
      "image/png": "[encoded data removed]",
      "text/plain": [
       "<Figure size 720x504 with 1 Axes>"
      ]
     },
     "metadata": {
      "needs_background": "light"
     },
     "output_type": "display_data"
    },
    {
     "data": {
      "application/javascript": [
       "\n",
       "            setTimeout(function() {\n",
       "                var nbb_cell_id = 40;\n",
       "                var nbb_unformatted_code = \"plt.figure(figsize=(10, 7))\\nsns.barplot(data=df, x=\\\"unit_of_wage\\\", y=\\\"prevailing_wage\\\", hue=\\\"case_status\\\")\\nplt.show()\";\n",
       "                var nbb_formatted_code = \"plt.figure(figsize=(10, 7))\\nsns.barplot(data=df, x=\\\"unit_of_wage\\\", y=\\\"prevailing_wage\\\", hue=\\\"case_status\\\")\\nplt.show()\";\n",
       "                var nbb_cells = Jupyter.notebook.get_cells();\n",
       "                for (var i = 0; i < nbb_cells.length; ++i) {\n",
       "                    if (nbb_cells[i].input_prompt_number == nbb_cell_id) {\n",
       "                        if (nbb_cells[i].get_text() == nbb_unformatted_code) {\n",
       "                             nbb_cells[i].set_text(nbb_formatted_code);\n",
       "                        }\n",
       "                        break;\n",
       "                    }\n",
       "                }\n",
       "            }, 500);\n",
       "            "
      ],
      "text/plain": [
       "<IPython.core.display.Javascript object>"
      ]
     },
     "metadata": {},
     "output_type": "display_data"
    }
   ],
   "source": [
    "plt.figure(figsize=(10, 7))\n",
    "sns.barplot(data=df, x=\"unit_of_wage\", y=\"prevailing_wage\", hue=\"case_status\")\n",
    "plt.show()"
   ]
  },
  {
   "cell_type": "markdown",
   "id": "97b72118",
   "metadata": {},
   "source": [
    "* The average prevailing wage for Monthly and Yearly unit of wages is slightly less for certified visas when compared to visas which are denied."
   ]
  },
  {
   "cell_type": "markdown",
   "id": "4674883d",
   "metadata": {},
   "source": [
    "#### region_of_employment vs prevailing_wage vs case_status"
   ]
  },
  {
   "cell_type": "code",
   "execution_count": 41,
   "id": "b9933595",
   "metadata": {},
   "outputs": [
    {
     "data": {
      "image/png": "[encoded data removed]",
      "text/plain": [
       "<Figure size 720x504 with 1 Axes>"
      ]
     },
     "metadata": {
      "needs_background": "light"
     },
     "output_type": "display_data"
    },
    {
     "data": {
      "application/javascript": [
       "\n",
       "            setTimeout(function() {\n",
       "                var nbb_cell_id = 41;\n",
       "                var nbb_unformatted_code = \"plt.figure(figsize=(10, 7))\\nsns.boxplot(data=df, x=\\\"region_of_employment\\\", y=\\\"prevailing_wage\\\", hue=\\\"case_status\\\")\\nplt.show()\";\n",
       "                var nbb_formatted_code = \"plt.figure(figsize=(10, 7))\\nsns.boxplot(data=df, x=\\\"region_of_employment\\\", y=\\\"prevailing_wage\\\", hue=\\\"case_status\\\")\\nplt.show()\";\n",
       "                var nbb_cells = Jupyter.notebook.get_cells();\n",
       "                for (var i = 0; i < nbb_cells.length; ++i) {\n",
       "                    if (nbb_cells[i].input_prompt_number == nbb_cell_id) {\n",
       "                        if (nbb_cells[i].get_text() == nbb_unformatted_code) {\n",
       "                             nbb_cells[i].set_text(nbb_formatted_code);\n",
       "                        }\n",
       "                        break;\n",
       "                    }\n",
       "                }\n",
       "            }, 500);\n",
       "            "
      ],
      "text/plain": [
       "<IPython.core.display.Javascript object>"
      ]
     },
     "metadata": {},
     "output_type": "display_data"
    }
   ],
   "source": [
    "plt.figure(figsize=(10, 7))\n",
    "sns.boxplot(data=df, x=\"region_of_employment\", y=\"prevailing_wage\", hue=\"case_status\")\n",
    "plt.show()"
   ]
  },
  {
   "cell_type": "markdown",
   "id": "833404ae",
   "metadata": {},
   "source": [
    "* The average prevailing wage is more in Midwest and Island regions for certified cases.\n",
    "* If the region is Island and the prevailing wage is more then there is slightly more chance for the visa to get denied."
   ]
  },
  {
   "cell_type": "markdown",
   "id": "d54a5a41",
   "metadata": {},
   "source": [
    "### Outlier Detection"
   ]
  },
  {
   "cell_type": "code",
   "execution_count": 42,
   "id": "2fa1959a",
   "metadata": {},
   "outputs": [
    {
     "data": {
      "image/png": "[encoded data removed]",
      "text/plain": [
       "<Figure size 720x720 with 2 Axes>"
      ]
     },
     "metadata": {
      "needs_background": "light"
     },
     "output_type": "display_data"
    },
    {
     "data": {
      "application/javascript": [
       "\n",
       "            setTimeout(function() {\n",
       "                var nbb_cell_id = 42;\n",
       "                var nbb_unformatted_code = \"# let's plot the boxplots of all continuous variables to check for outliers\\nnumerical_col = df.select_dtypes(include=np.number).columns.tolist()\\nplt.figure(figsize=(10, 10))\\nfor i, variable in enumerate(numerical_col):\\n    plt.subplot(2, 2, i + 1)\\n    plt.boxplot(df[variable], whis=1.5)\\n    plt.tight_layout()\\n    plt.title(variable, fontsize=15)\\n\\nplt.show()\";\n",
       "                var nbb_formatted_code = \"# let's plot the boxplots of all continuous variables to check for outliers\\nnumerical_col = df.select_dtypes(include=np.number).columns.tolist()\\nplt.figure(figsize=(10, 10))\\nfor i, variable in enumerate(numerical_col):\\n    plt.subplot(2, 2, i + 1)\\n    plt.boxplot(df[variable], whis=1.5)\\n    plt.tight_layout()\\n    plt.title(variable, fontsize=15)\\n\\nplt.show()\";\n",
       "                var nbb_cells = Jupyter.notebook.get_cells();\n",
       "                for (var i = 0; i < nbb_cells.length; ++i) {\n",
       "                    if (nbb_cells[i].input_prompt_number == nbb_cell_id) {\n",
       "                        if (nbb_cells[i].get_text() == nbb_unformatted_code) {\n",
       "                             nbb_cells[i].set_text(nbb_formatted_code);\n",
       "                        }\n",
       "                        break;\n",
       "                    }\n",
       "                }\n",
       "            }, 500);\n",
       "            "
      ],
      "text/plain": [
       "<IPython.core.display.Javascript object>"
      ]
     },
     "metadata": {},
     "output_type": "display_data"
    }
   ],
   "source": [
    "# let's plot the boxplots of all continuous variables to check for outliers\n",
    "numerical_col = df.select_dtypes(include=np.number).columns.tolist()\n",
    "plt.figure(figsize=(10, 10))\n",
    "for i, variable in enumerate(numerical_col):\n",
    "    plt.subplot(2, 2, i + 1)\n",
    "    plt.boxplot(df[variable], whis=1.5)\n",
    "    plt.tight_layout()\n",
    "    plt.title(variable, fontsize=15)\n",
    "\n",
    "plt.show()\n"
   ]
  },
  {
   "cell_type": "markdown",
   "id": "bf0a3cec",
   "metadata": {},
   "source": [
    "* There are outliers for the yr_of_estab and prevailing_wage. We will not do outlier treatment for these values as these are proper values and will be important for the model. The prevailing wage has outliers as we have different unit of wages."
   ]
  },
  {
   "cell_type": "markdown",
   "id": "7b8c948a",
   "metadata": {},
   "source": [
    "### <a id='link1'>Summary of EDA</a>\n",
    "**Data Description:**\n",
    "\n",
    "* Dependent variable is \"case_status\" which is representing whether the visa case status is certified or denied.\n",
    "* There are no missing values in the dataset.\n",
    "\n",
    "**Data Cleaning:**\n",
    "\n",
    "* case_id is an ID variable so it is dropped from the data.\n",
    "* no_of_employees column has a highly skewed data and this column is categorized to classes which represent the size of the company. So, we will a create new employee class column no_of_emp_class and drop the column no_of_employees.\n",
    "\n",
    "**Observations from EDA:**\n",
    "\n",
    "* `continent`: The most number of cases(66.2%) are from Asia. Africa, Oceania and South America together have less than 10% cases. \n",
    "* `education_of_employee`: More number of employees have Bachelor's education. 8.6% of the employees have doctorate education.\n",
    "* `has_job_experience`: Humidity is normally distributed with a mean and median equal to 0.63. \n",
    "* `requires_job_training`: 88.4% of the applicants do not require job training.\n",
    "* `no_of_employees`: no_of_employees column has a highly right skewed distribution with a lot of outliers. The data has a wide range of values from -26 to 602069. But, most of the values are less than 1000. We can categorize the number of employees column to classes which represent the size of the company. This will help to create the model without loosing the information.\n",
    "* `no_of_emp_class`: 66.9% of the companies have employees in the range of 1000-10000. 4.6% of the companies have more than 10000 employees.\n",
    "* `yr_of_estab`: yr_of_estab has a highly left skewed distribution with 50% of the cases after 1997.\n",
    "* `region_of_employment`: Northeast, South and West regions each have similar percentage of cases of more 25%. Island region has only 1.5% cases.\n",
    "* `prevailing_wage`: The distribution is slightly right skewed with a spike close to zero. There are many outliers in the data.\n",
    "* `unit_of_wage`: 90.1% of the cases have Hourly unit of wage. Only 0.3% of cases have monthly unit of wage and 1.1% of the cases have Weekly unit of wage.\n",
    "* `full_time_position`: 89.4% of the cases are for full time position.\n",
    "* `case_status`: 66.8% of the cases are Certified.\n",
    "\n",
    "\n",
    "* **case_status with continent**\n",
    "    * Europe has higher rate of visas getting certified followed by Africa and Asia. There are more number of applicants from Asia whereas Oceania has the least number of visa applications. The rate of denial of visas are more for the applicants from South America.\n",
    "* **case_status with education_of_employee**\n",
    "    * Higher the education, more the chance of visa getting certified. The applicants with only high school education are facing more denial of visas. 1912 out of 2192 of visa cases were certified for applicants with Doctorate education. More than 10000 applicants have Bachelor's degree.\n",
    "* **case_status with has_job_experience**\n",
    "    * The rate of visas getting certified is more in the case for applicants with job experience. 14802 applicants are with previous job experience. This comprises more than 50% of the total number of cases\n",
    "* **case_status with requires_job_training**\n",
    "    * The number of visas getting certified is almost similar for employees who need job training and who don't need job training.\n",
    "* **case_status with no_of_emp_class**\n",
    "    * The rate of cases getting certified is similar for all employee classes.\n",
    "* **case_status with region_of_employment**\n",
    "    * Midwest region has higher rate of visas getting certified followed by South region. All other regions have a similar rate of visa certification of ~60%.\n",
    "* **case_status with prevailing_wage**\n",
    "    * The average prevailing_wage for the certified cases is slightly more than that for the denied cases.\n",
    "* **case_status with unit_of_wage**\n",
    "    * The denial rate of cases for applicants with hourly unit of wage is more. Most of the applicants are with Yearly unit of wage and have higher rate of visas getting certified. Monthly and weekly unit of wage have ~60% of visas getting certified.\n",
    "* **case_status with full_time_position**\n",
    "    * The rate of cases getting certified is similar whether the position is full time or not.\n",
    "* **case_status with unit_of_wage and prevailing_wage**\n",
    "    * The average prevailing wage for Monthly and Yearly unit of wages is slightly less for certified visas when compared to visas which are denied.\n",
    "* **case_status with continent and prevailing_wage**\n",
    "    * The average prevailing wage for certified cases is more for all continents except Europe."
   ]
  },
  {
   "cell_type": "markdown",
   "id": "c2bdbfe2",
   "metadata": {
    "id": "interested-talent"
   },
   "source": [
    "### Data Preparation for modeling"
   ]
  },
  {
   "cell_type": "code",
   "execution_count": 43,
   "id": "55889e92",
   "metadata": {},
   "outputs": [
    {
     "data": {
      "application/javascript": [
       "\n",
       "            setTimeout(function() {\n",
       "                var nbb_cell_id = 43;\n",
       "                var nbb_unformatted_code = \"df[\\\"case_status\\\"] = df[\\\"case_status\\\"].apply(lambda x: 1 if x == \\\"Certified\\\" else 0) #chnaging the dependent classes to 0 and 1\";\n",
       "                var nbb_formatted_code = \"df[\\\"case_status\\\"] = df[\\\"case_status\\\"].apply(\\n    lambda x: 1 if x == \\\"Certified\\\" else 0\\n)  # chnaging the dependent classes to 0 and 1\";\n",
       "                var nbb_cells = Jupyter.notebook.get_cells();\n",
       "                for (var i = 0; i < nbb_cells.length; ++i) {\n",
       "                    if (nbb_cells[i].input_prompt_number == nbb_cell_id) {\n",
       "                        if (nbb_cells[i].get_text() == nbb_unformatted_code) {\n",
       "                             nbb_cells[i].set_text(nbb_formatted_code);\n",
       "                        }\n",
       "                        break;\n",
       "                    }\n",
       "                }\n",
       "            }, 500);\n",
       "            "
      ],
      "text/plain": [
       "<IPython.core.display.Javascript object>"
      ]
     },
     "metadata": {},
     "output_type": "display_data"
    }
   ],
   "source": [
    "df[\"case_status\"] = df[\"case_status\"].apply(\n",
    "    lambda x: 1 if x == \"Certified\" else 0\n",
    ")  # chnaging the dependent classes to 0 and 1"
   ]
  },
  {
   "cell_type": "code",
   "execution_count": 44,
   "id": "cf6f1f8f",
   "metadata": {},
   "outputs": [
    {
     "data": {
      "application/javascript": [
       "\n",
       "            setTimeout(function() {\n",
       "                var nbb_cell_id = 44;\n",
       "                var nbb_unformatted_code = \"X = df.drop([\\\"case_status\\\"], axis=1)  # drop case_status from the data\\ny = df[\\\"case_status\\\"]\\n\\n\\nX = pd.get_dummies(X, drop_first=True)  ## Create dummies for object variables\\n\\n# Splitting data into train and test sets in the ratio 70:30\\nX_train, X_test, y_train, y_test = train_test_split(\\n    X, y, test_size=0.30, random_state=1\\n)  \";\n",
       "                var nbb_formatted_code = \"X = df.drop([\\\"case_status\\\"], axis=1)  # drop case_status from the data\\ny = df[\\\"case_status\\\"]\\n\\n\\nX = pd.get_dummies(X, drop_first=True)  ## Create dummies for object variables\\n\\n# Splitting data into train and test sets in the ratio 70:30\\nX_train, X_test, y_train, y_test = train_test_split(\\n    X, y, test_size=0.30, random_state=1\\n)\";\n",
       "                var nbb_cells = Jupyter.notebook.get_cells();\n",
       "                for (var i = 0; i < nbb_cells.length; ++i) {\n",
       "                    if (nbb_cells[i].input_prompt_number == nbb_cell_id) {\n",
       "                        if (nbb_cells[i].get_text() == nbb_unformatted_code) {\n",
       "                             nbb_cells[i].set_text(nbb_formatted_code);\n",
       "                        }\n",
       "                        break;\n",
       "                    }\n",
       "                }\n",
       "            }, 500);\n",
       "            "
      ],
      "text/plain": [
       "<IPython.core.display.Javascript object>"
      ]
     },
     "metadata": {},
     "output_type": "display_data"
    }
   ],
   "source": [
    "X = df.drop([\"case_status\"], axis=1)  # drop case_status from the data\n",
    "y = df[\"case_status\"]\n",
    "\n",
    "\n",
    "X = pd.get_dummies(X, drop_first=True)  ## Create dummies for object variables\n",
    "\n",
    "# Splitting data into train and test sets in the ratio 70:30\n",
    "X_train, X_test, y_train, y_test = train_test_split(\n",
    "    X, y, test_size=0.30, random_state=1\n",
    ")"
   ]
  },
  {
   "cell_type": "code",
   "execution_count": 45,
   "id": "67094f68",
   "metadata": {},
   "outputs": [
    {
     "data": {
      "text/plain": [
       "1    0.667896\n",
       "0    0.332104\n",
       "Name: case_status, dtype: float64"
      ]
     },
     "execution_count": 45,
     "metadata": {},
     "output_type": "execute_result"
    },
    {
     "data": {
      "application/javascript": [
       "\n",
       "            setTimeout(function() {\n",
       "                var nbb_cell_id = 45;\n",
       "                var nbb_unformatted_code = \"y.value_counts(1)\";\n",
       "                var nbb_formatted_code = \"y.value_counts(1)\";\n",
       "                var nbb_cells = Jupyter.notebook.get_cells();\n",
       "                for (var i = 0; i < nbb_cells.length; ++i) {\n",
       "                    if (nbb_cells[i].input_prompt_number == nbb_cell_id) {\n",
       "                        if (nbb_cells[i].get_text() == nbb_unformatted_code) {\n",
       "                             nbb_cells[i].set_text(nbb_formatted_code);\n",
       "                        }\n",
       "                        break;\n",
       "                    }\n",
       "                }\n",
       "            }, 500);\n",
       "            "
      ],
      "text/plain": [
       "<IPython.core.display.Javascript object>"
      ]
     },
     "metadata": {},
     "output_type": "display_data"
    }
   ],
   "source": [
    "y.value_counts(1)"
   ]
  },
  {
   "cell_type": "code",
   "execution_count": 46,
   "id": "81dd122f",
   "metadata": {},
   "outputs": [
    {
     "data": {
      "text/plain": [
       "1    0.677917\n",
       "0    0.322083\n",
       "Name: case_status, dtype: float64"
      ]
     },
     "execution_count": 46,
     "metadata": {},
     "output_type": "execute_result"
    },
    {
     "data": {
      "application/javascript": [
       "\n",
       "            setTimeout(function() {\n",
       "                var nbb_cell_id = 46;\n",
       "                var nbb_unformatted_code = \"y_test.value_counts(1)\";\n",
       "                var nbb_formatted_code = \"y_test.value_counts(1)\";\n",
       "                var nbb_cells = Jupyter.notebook.get_cells();\n",
       "                for (var i = 0; i < nbb_cells.length; ++i) {\n",
       "                    if (nbb_cells[i].input_prompt_number == nbb_cell_id) {\n",
       "                        if (nbb_cells[i].get_text() == nbb_unformatted_code) {\n",
       "                             nbb_cells[i].set_text(nbb_formatted_code);\n",
       "                        }\n",
       "                        break;\n",
       "                    }\n",
       "                }\n",
       "            }, 500);\n",
       "            "
      ],
      "text/plain": [
       "<IPython.core.display.Javascript object>"
      ]
     },
     "metadata": {},
     "output_type": "display_data"
    }
   ],
   "source": [
    "y_test.value_counts(1)"
   ]
  },
  {
   "cell_type": "markdown",
   "id": "dfb0442b",
   "metadata": {},
   "source": [
    "### Model evaluation criterion\n",
    "\n",
    "### Model can make wrong predictions as:\n",
    "\n",
    "1. Model predicts that the visa application will get certified but in reality, the visa application should get denied.\n",
    "2. Model predicts that the visa application will not get certified but in reality, the visa application should get certified. \n",
    "\n",
    "### Which case is more important? \n",
    "* Both the cases are important as:\n",
    "\n",
    "* If a visa is certified when it had to be denied a wrong employee will get the job position while US citizens will miss the opportunity to work on that position.\n",
    "\n",
    "* If a visa is denied when it had to be certified the U.S. will lose a suitable human resource that can contribute to the economy. \n",
    "\n",
    "\n",
    "\n",
    "### How to reduce the losses?\n",
    "\n",
    "* `F1 Score` can be used as the metric for evaluation of the model, greater the F1  score higher are the chances of minimizing False Negatives and False Positives. \n",
    "* We will use balanced class weights so that model focuses equally on both classes."
   ]
  },
  {
   "cell_type": "markdown",
   "id": "f24e976d",
   "metadata": {},
   "source": [
    "#### Functions to calculate different metrics and confusion matrix"
   ]
  },
  {
   "cell_type": "code",
   "execution_count": 47,
   "id": "20e6eee1",
   "metadata": {},
   "outputs": [
    {
     "data": {
      "application/javascript": [
       "\n",
       "            setTimeout(function() {\n",
       "                var nbb_cell_id = 47;\n",
       "                var nbb_unformatted_code = \"# defining a function to compute different metrics to check performance of a classification model built using sklearn\\ndef model_performance_classification_sklearn(model, predictors, target):\\n    \\\"\\\"\\\"\\n    Function to compute different metrics to check classification model performance\\n\\n    model: classifier\\n    predictors: independent variables\\n    target: dependent variable\\n    \\\"\\\"\\\"\\n\\n    # predicting using the independent variables\\n    pred = model.predict(predictors)\\n\\n    acc = accuracy_score(target, pred)  # to compute Accuracy\\n    recall = recall_score(target, pred)  # to compute Recall\\n    precision = precision_score(target, pred)  # to compute Precision\\n    f1 = f1_score(target, pred)  # to compute F1-score\\n\\n    # creating a dataframe of metrics\\n    df_perf = pd.DataFrame(\\n        {\\\"Accuracy\\\": acc, \\\"Recall\\\": recall, \\\"Precision\\\": precision, \\\"F1\\\": f1,},\\n        index=[0],\\n    )\\n\\n    return df_perf\";\n",
       "                var nbb_formatted_code = \"# defining a function to compute different metrics to check performance of a classification model built using sklearn\\ndef model_performance_classification_sklearn(model, predictors, target):\\n    \\\"\\\"\\\"\\n    Function to compute different metrics to check classification model performance\\n\\n    model: classifier\\n    predictors: independent variables\\n    target: dependent variable\\n    \\\"\\\"\\\"\\n\\n    # predicting using the independent variables\\n    pred = model.predict(predictors)\\n\\n    acc = accuracy_score(target, pred)  # to compute Accuracy\\n    recall = recall_score(target, pred)  # to compute Recall\\n    precision = precision_score(target, pred)  # to compute Precision\\n    f1 = f1_score(target, pred)  # to compute F1-score\\n\\n    # creating a dataframe of metrics\\n    df_perf = pd.DataFrame(\\n        {\\\"Accuracy\\\": acc, \\\"Recall\\\": recall, \\\"Precision\\\": precision, \\\"F1\\\": f1,},\\n        index=[0],\\n    )\\n\\n    return df_perf\";\n",
       "                var nbb_cells = Jupyter.notebook.get_cells();\n",
       "                for (var i = 0; i < nbb_cells.length; ++i) {\n",
       "                    if (nbb_cells[i].input_prompt_number == nbb_cell_id) {\n",
       "                        if (nbb_cells[i].get_text() == nbb_unformatted_code) {\n",
       "                             nbb_cells[i].set_text(nbb_formatted_code);\n",
       "                        }\n",
       "                        break;\n",
       "                    }\n",
       "                }\n",
       "            }, 500);\n",
       "            "
      ],
      "text/plain": [
       "<IPython.core.display.Javascript object>"
      ]
     },
     "metadata": {},
     "output_type": "display_data"
    }
   ],
   "source": [
    "# defining a function to compute different metrics to check performance of a classification model built using sklearn\n",
    "def model_performance_classification_sklearn(model, predictors, target):\n",
    "    \"\"\"\n",
    "    Function to compute different metrics to check classification model performance\n",
    "\n",
    "    model: classifier\n",
    "    predictors: independent variables\n",
    "    target: dependent variable\n",
    "    \"\"\"\n",
    "\n",
    "    # predicting using the independent variables\n",
    "    pred = model.predict(predictors)\n",
    "\n",
    "    acc = accuracy_score(target, pred)  # to compute Accuracy\n",
    "    recall = recall_score(target, pred)  # to compute Recall\n",
    "    precision = precision_score(target, pred)  # to compute Precision\n",
    "    f1 = f1_score(target, pred)  # to compute F1-score\n",
    "\n",
    "    # creating a dataframe of metrics\n",
    "    df_perf = pd.DataFrame(\n",
    "        {\"Accuracy\": acc, \"Recall\": recall, \"Precision\": precision, \"F1\": f1,},\n",
    "        index=[0],\n",
    "    )\n",
    "\n",
    "    return df_perf"
   ]
  },
  {
   "cell_type": "code",
   "execution_count": 48,
   "id": "d4fccb29",
   "metadata": {},
   "outputs": [
    {
     "data": {
      "application/javascript": [
       "\n",
       "            setTimeout(function() {\n",
       "                var nbb_cell_id = 48;\n",
       "                var nbb_unformatted_code = \"def confusion_matrix_sklearn(model, predictors, target):\\n    \\\"\\\"\\\"\\n    To plot the confusion_matrix with percentages\\n\\n    model: classifier\\n    predictors: independent variables\\n    target: dependent variable\\n    \\\"\\\"\\\"\\n    y_pred = model.predict(predictors)\\n    cm = confusion_matrix(target, y_pred)\\n    labels = np.asarray(\\n        [\\n            [\\\"{0:0.0f}\\\".format(item) + \\\"\\\\n{0:.2%}\\\".format(item / cm.flatten().sum())]\\n            for item in cm.flatten()\\n        ]\\n    ).reshape(2, 2)\\n\\n    plt.figure(figsize=(6, 4))\\n    sns.heatmap(cm, annot=labels, fmt=\\\"\\\")\\n    plt.ylabel(\\\"True label\\\")\\n    plt.xlabel(\\\"Predicted label\\\")\";\n",
       "                var nbb_formatted_code = \"def confusion_matrix_sklearn(model, predictors, target):\\n    \\\"\\\"\\\"\\n    To plot the confusion_matrix with percentages\\n\\n    model: classifier\\n    predictors: independent variables\\n    target: dependent variable\\n    \\\"\\\"\\\"\\n    y_pred = model.predict(predictors)\\n    cm = confusion_matrix(target, y_pred)\\n    labels = np.asarray(\\n        [\\n            [\\\"{0:0.0f}\\\".format(item) + \\\"\\\\n{0:.2%}\\\".format(item / cm.flatten().sum())]\\n            for item in cm.flatten()\\n        ]\\n    ).reshape(2, 2)\\n\\n    plt.figure(figsize=(6, 4))\\n    sns.heatmap(cm, annot=labels, fmt=\\\"\\\")\\n    plt.ylabel(\\\"True label\\\")\\n    plt.xlabel(\\\"Predicted label\\\")\";\n",
       "                var nbb_cells = Jupyter.notebook.get_cells();\n",
       "                for (var i = 0; i < nbb_cells.length; ++i) {\n",
       "                    if (nbb_cells[i].input_prompt_number == nbb_cell_id) {\n",
       "                        if (nbb_cells[i].get_text() == nbb_unformatted_code) {\n",
       "                             nbb_cells[i].set_text(nbb_formatted_code);\n",
       "                        }\n",
       "                        break;\n",
       "                    }\n",
       "                }\n",
       "            }, 500);\n",
       "            "
      ],
      "text/plain": [
       "<IPython.core.display.Javascript object>"
      ]
     },
     "metadata": {},
     "output_type": "display_data"
    }
   ],
   "source": [
    "def confusion_matrix_sklearn(model, predictors, target):\n",
    "    \"\"\"\n",
    "    To plot the confusion_matrix with percentages\n",
    "\n",
    "    model: classifier\n",
    "    predictors: independent variables\n",
    "    target: dependent variable\n",
    "    \"\"\"\n",
    "    y_pred = model.predict(predictors)\n",
    "    cm = confusion_matrix(target, y_pred)\n",
    "    labels = np.asarray(\n",
    "        [\n",
    "            [\"{0:0.0f}\".format(item) + \"\\n{0:.2%}\".format(item / cm.flatten().sum())]\n",
    "            for item in cm.flatten()\n",
    "        ]\n",
    "    ).reshape(2, 2)\n",
    "\n",
    "    plt.figure(figsize=(6, 4))\n",
    "    sns.heatmap(cm, annot=labels, fmt=\"\")\n",
    "    plt.ylabel(\"True label\")\n",
    "    plt.xlabel(\"Predicted label\")"
   ]
  },
  {
   "cell_type": "markdown",
   "id": "domestic-iceland",
   "metadata": {
    "id": "domestic-iceland"
   },
   "source": [
    "## Building bagging and boosting models"
   ]
  },
  {
   "cell_type": "markdown",
   "id": "f90491d5",
   "metadata": {},
   "source": [
    "## Model Building - Bagging"
   ]
  },
  {
   "cell_type": "markdown",
   "id": "818c2db5",
   "metadata": {},
   "source": [
    "### Decision Tree Classifier"
   ]
  },
  {
   "cell_type": "code",
   "execution_count": 49,
   "id": "7badd2ef",
   "metadata": {},
   "outputs": [
    {
     "name": "stdout",
     "output_type": "stream",
     "text": [
      "Training performance:\n",
      "    Accuracy  Recall  Precision   F1\n",
      "0       1.0     1.0        1.0  1.0\n",
      "Testing performance:\n",
      "    Accuracy   Recall  Precision        F1\n",
      "0   0.65921  0.73736   0.754393  0.745779\n"
     ]
    },
    {
     "data": {
      "image/png": "[encoded data removed]",
      "text/plain": [
       "<Figure size 432x288 with 2 Axes>"
      ]
     },
     "metadata": {
      "needs_background": "light"
     },
     "output_type": "display_data"
    },
    {
     "data": {
      "application/javascript": [
       "\n",
       "            setTimeout(function() {\n",
       "                var nbb_cell_id = 49;\n",
       "                var nbb_unformatted_code = \"# Fitting the model\\nd_tree = DecisionTreeClassifier(random_state=1)\\nd_tree.fit(X_train, y_train)\\n\\n# Calculating different metrics\\nd_tree_model_train_perf = model_performance_classification_sklearn(\\n    d_tree, X_train, y_train\\n)\\nprint(\\\"Training performance:\\\\n\\\", d_tree_model_train_perf)\\nd_tree_model_test_perf = model_performance_classification_sklearn(\\n    d_tree, X_test, y_test\\n)\\nprint(\\\"Testing performance:\\\\n\\\", d_tree_model_test_perf)\\n\\n# Creating confusion matrix\\nconfusion_matrix_sklearn(d_tree, X_test, y_test)\";\n",
       "                var nbb_formatted_code = \"# Fitting the model\\nd_tree = DecisionTreeClassifier(random_state=1)\\nd_tree.fit(X_train, y_train)\\n\\n# Calculating different metrics\\nd_tree_model_train_perf = model_performance_classification_sklearn(\\n    d_tree, X_train, y_train\\n)\\nprint(\\\"Training performance:\\\\n\\\", d_tree_model_train_perf)\\nd_tree_model_test_perf = model_performance_classification_sklearn(\\n    d_tree, X_test, y_test\\n)\\nprint(\\\"Testing performance:\\\\n\\\", d_tree_model_test_perf)\\n\\n# Creating confusion matrix\\nconfusion_matrix_sklearn(d_tree, X_test, y_test)\";\n",
       "                var nbb_cells = Jupyter.notebook.get_cells();\n",
       "                for (var i = 0; i < nbb_cells.length; ++i) {\n",
       "                    if (nbb_cells[i].input_prompt_number == nbb_cell_id) {\n",
       "                        if (nbb_cells[i].get_text() == nbb_unformatted_code) {\n",
       "                             nbb_cells[i].set_text(nbb_formatted_code);\n",
       "                        }\n",
       "                        break;\n",
       "                    }\n",
       "                }\n",
       "            }, 500);\n",
       "            "
      ],
      "text/plain": [
       "<IPython.core.display.Javascript object>"
      ]
     },
     "metadata": {},
     "output_type": "display_data"
    }
   ],
   "source": [
    "# Fitting the model\n",
    "d_tree = DecisionTreeClassifier(random_state=1)\n",
    "d_tree.fit(X_train, y_train)\n",
    "\n",
    "# Calculating different metrics\n",
    "d_tree_model_train_perf = model_performance_classification_sklearn(\n",
    "    d_tree, X_train, y_train\n",
    ")\n",
    "print(\"Training performance:\\n\", d_tree_model_train_perf)\n",
    "d_tree_model_test_perf = model_performance_classification_sklearn(\n",
    "    d_tree, X_test, y_test\n",
    ")\n",
    "print(\"Testing performance:\\n\", d_tree_model_test_perf)\n",
    "\n",
    "# Creating confusion matrix\n",
    "confusion_matrix_sklearn(d_tree, X_test, y_test)"
   ]
  },
  {
   "cell_type": "markdown",
   "id": "4df93c63",
   "metadata": {},
   "source": [
    "* Decision tree is working well on the training data but is not able to generalize well on the test data which implies the model is overfitting the data."
   ]
  },
  {
   "cell_type": "markdown",
   "id": "93a83a15",
   "metadata": {},
   "source": [
    "### Bagging Classifier"
   ]
  },
  {
   "cell_type": "code",
   "execution_count": 50,
   "id": "36cfd612",
   "metadata": {},
   "outputs": [
    {
     "name": "stdout",
     "output_type": "stream",
     "text": [
      "Training performance:\n",
      "    Accuracy    Recall  Precision        F1\n",
      "0  0.982003  0.983018   0.989792  0.986393\n",
      "Training performance:\n",
      "    Accuracy    Recall  Precision        F1\n",
      "0  0.690084  0.765342   0.774761  0.770022\n"
     ]
    },
    {
     "data": {
      "image/png": "[encoded data removed]",
      "text/plain": [
       "<Figure size 432x288 with 2 Axes>"
      ]
     },
     "metadata": {
      "needs_background": "light"
     },
     "output_type": "display_data"
    },
    {
     "data": {
      "application/javascript": [
       "\n",
       "            setTimeout(function() {\n",
       "                var nbb_cell_id = 50;\n",
       "                var nbb_unformatted_code = \"# Fitting the model\\nbagging_classifier = BaggingClassifier(random_state=1)\\nbagging_classifier.fit(X_train, y_train)\\n\\n# Calculating different metrics\\nbagging_classifier_model_train_perf = model_performance_classification_sklearn(\\n    bagging_classifier, X_train, y_train\\n)\\nprint(\\\"Training performance:\\\\n\\\", bagging_classifier_model_train_perf)\\nbagging_classifier_model_test_perf = model_performance_classification_sklearn(\\n    bagging_classifier, X_test, y_test\\n)\\nprint(\\\"Training performance:\\\\n\\\", bagging_classifier_model_test_perf)\\n\\n# Creating confusion matrix\\nconfusion_matrix_sklearn(bagging_classifier, X_test, y_test)\";\n",
       "                var nbb_formatted_code = \"# Fitting the model\\nbagging_classifier = BaggingClassifier(random_state=1)\\nbagging_classifier.fit(X_train, y_train)\\n\\n# Calculating different metrics\\nbagging_classifier_model_train_perf = model_performance_classification_sklearn(\\n    bagging_classifier, X_train, y_train\\n)\\nprint(\\\"Training performance:\\\\n\\\", bagging_classifier_model_train_perf)\\nbagging_classifier_model_test_perf = model_performance_classification_sklearn(\\n    bagging_classifier, X_test, y_test\\n)\\nprint(\\\"Training performance:\\\\n\\\", bagging_classifier_model_test_perf)\\n\\n# Creating confusion matrix\\nconfusion_matrix_sklearn(bagging_classifier, X_test, y_test)\";\n",
       "                var nbb_cells = Jupyter.notebook.get_cells();\n",
       "                for (var i = 0; i < nbb_cells.length; ++i) {\n",
       "                    if (nbb_cells[i].input_prompt_number == nbb_cell_id) {\n",
       "                        if (nbb_cells[i].get_text() == nbb_unformatted_code) {\n",
       "                             nbb_cells[i].set_text(nbb_formatted_code);\n",
       "                        }\n",
       "                        break;\n",
       "                    }\n",
       "                }\n",
       "            }, 500);\n",
       "            "
      ],
      "text/plain": [
       "<IPython.core.display.Javascript object>"
      ]
     },
     "metadata": {},
     "output_type": "display_data"
    }
   ],
   "source": [
    "# Fitting the model\n",
    "bagging_classifier = BaggingClassifier(random_state=1)\n",
    "bagging_classifier.fit(X_train, y_train)\n",
    "\n",
    "# Calculating different metrics\n",
    "bagging_classifier_model_train_perf = model_performance_classification_sklearn(\n",
    "    bagging_classifier, X_train, y_train\n",
    ")\n",
    "print(\"Training performance:\\n\", bagging_classifier_model_train_perf)\n",
    "bagging_classifier_model_test_perf = model_performance_classification_sklearn(\n",
    "    bagging_classifier, X_test, y_test\n",
    ")\n",
    "print(\"Training performance:\\n\", bagging_classifier_model_test_perf)\n",
    "\n",
    "# Creating confusion matrix\n",
    "confusion_matrix_sklearn(bagging_classifier, X_test, y_test)"
   ]
  },
  {
   "cell_type": "markdown",
   "id": "c323ce77",
   "metadata": {},
   "source": [
    "* Bagging classifier is working well on the training data but is not able to generalize well on the test data which implies the model is overfitting the data."
   ]
  },
  {
   "cell_type": "markdown",
   "id": "9525886e",
   "metadata": {},
   "source": [
    "### Random Forest Classifier"
   ]
  },
  {
   "cell_type": "code",
   "execution_count": 51,
   "id": "7335a9ec",
   "metadata": {},
   "outputs": [
    {
     "name": "stdout",
     "output_type": "stream",
     "text": [
      "Training performance:\n",
      "    Accuracy  Recall  Precision        F1\n",
      "0  0.999944     1.0   0.999916  0.999958\n",
      "Testing performance:\n",
      "    Accuracy    Recall  Precision       F1\n",
      "0  0.717425  0.823234   0.774229  0.79798\n"
     ]
    },
    {
     "data": {
      "image/png": "[encoded data removed]",
      "text/plain": [
       "<Figure size 432x288 with 2 Axes>"
      ]
     },
     "metadata": {
      "needs_background": "light"
     },
     "output_type": "display_data"
    },
    {
     "data": {
      "application/javascript": [
       "\n",
       "            setTimeout(function() {\n",
       "                var nbb_cell_id = 51;\n",
       "                var nbb_unformatted_code = \"# Fitting the model\\nrf_estimator = RandomForestClassifier(random_state=1)\\nrf_estimator.fit(X_train, y_train)\\n\\n# Calculating different metrics\\nrf_estimator_model_train_perf = model_performance_classification_sklearn(\\n    rf_estimator, X_train, y_train\\n)\\nprint(\\\"Training performance:\\\\n\\\", rf_estimator_model_train_perf)\\nrf_estimator_model_test_perf = model_performance_classification_sklearn(\\n    rf_estimator, X_test, y_test\\n)\\nprint(\\\"Testing performance:\\\\n\\\", rf_estimator_model_test_perf)\\n\\n# Creating confusion matrix\\nconfusion_matrix_sklearn(rf_estimator, X_test, y_test)\";\n",
       "                var nbb_formatted_code = \"# Fitting the model\\nrf_estimator = RandomForestClassifier(random_state=1)\\nrf_estimator.fit(X_train, y_train)\\n\\n# Calculating different metrics\\nrf_estimator_model_train_perf = model_performance_classification_sklearn(\\n    rf_estimator, X_train, y_train\\n)\\nprint(\\\"Training performance:\\\\n\\\", rf_estimator_model_train_perf)\\nrf_estimator_model_test_perf = model_performance_classification_sklearn(\\n    rf_estimator, X_test, y_test\\n)\\nprint(\\\"Testing performance:\\\\n\\\", rf_estimator_model_test_perf)\\n\\n# Creating confusion matrix\\nconfusion_matrix_sklearn(rf_estimator, X_test, y_test)\";\n",
       "                var nbb_cells = Jupyter.notebook.get_cells();\n",
       "                for (var i = 0; i < nbb_cells.length; ++i) {\n",
       "                    if (nbb_cells[i].input_prompt_number == nbb_cell_id) {\n",
       "                        if (nbb_cells[i].get_text() == nbb_unformatted_code) {\n",
       "                             nbb_cells[i].set_text(nbb_formatted_code);\n",
       "                        }\n",
       "                        break;\n",
       "                    }\n",
       "                }\n",
       "            }, 500);\n",
       "            "
      ],
      "text/plain": [
       "<IPython.core.display.Javascript object>"
      ]
     },
     "metadata": {},
     "output_type": "display_data"
    }
   ],
   "source": [
    "# Fitting the model\n",
    "rf_estimator = RandomForestClassifier(random_state=1)\n",
    "rf_estimator.fit(X_train, y_train)\n",
    "\n",
    "# Calculating different metrics\n",
    "rf_estimator_model_train_perf = model_performance_classification_sklearn(\n",
    "    rf_estimator, X_train, y_train\n",
    ")\n",
    "print(\"Training performance:\\n\", rf_estimator_model_train_perf)\n",
    "rf_estimator_model_test_perf = model_performance_classification_sklearn(\n",
    "    rf_estimator, X_test, y_test\n",
    ")\n",
    "print(\"Testing performance:\\n\", rf_estimator_model_test_perf)\n",
    "\n",
    "# Creating confusion matrix\n",
    "confusion_matrix_sklearn(rf_estimator, X_test, y_test)"
   ]
  },
  {
   "cell_type": "markdown",
   "id": "67241568",
   "metadata": {},
   "source": [
    "* Random Forest classifier is working well on the training data but is not able to generalize well on the test data which implies the model is overfitting the data."
   ]
  },
  {
   "cell_type": "markdown",
   "id": "b84b5404",
   "metadata": {},
   "source": [
    "## Model Improvement - Bagging"
   ]
  },
  {
   "cell_type": "markdown",
   "id": "7c944a6c",
   "metadata": {},
   "source": [
    "### Hyperparameter Tuning - Decision Tree"
   ]
  },
  {
   "cell_type": "code",
   "execution_count": 52,
   "id": "0a456f40",
   "metadata": {},
   "outputs": [
    {
     "data": {
      "text/plain": [
       "DecisionTreeClassifier(class_weight='balanced', max_depth=10, max_leaf_nodes=2,\n",
       "                       min_impurity_decrease=0.0001, min_samples_leaf=3,\n",
       "                       random_state=1)"
      ]
     },
     "execution_count": 52,
     "metadata": {},
     "output_type": "execute_result"
    },
    {
     "data": {
      "application/javascript": [
       "\n",
       "            setTimeout(function() {\n",
       "                var nbb_cell_id = 52;\n",
       "                var nbb_unformatted_code = \"# Choose the type of classifier.\\ndtree_estimator = DecisionTreeClassifier(class_weight=\\\"balanced\\\", random_state=1)\\n\\n# Grid of parameters to choose from\\nparameters = {\\n    \\\"max_depth\\\": np.arange(10, 30, 5),\\n    \\\"min_samples_leaf\\\": [3, 5, 7, 10],\\n    \\\"max_leaf_nodes\\\": [2, 3, 5, 7],\\n    \\\"min_impurity_decrease\\\": [0.0001, 0.001, 0.01, 0.1],\\n}\\n\\n# Type of scoring used to compare parameter combinations\\nscorer = make_scorer(f1_score)\\n\\n# Run the grid search\\ngrid_obj = GridSearchCV(dtree_estimator, parameters, scoring=scorer, n_jobs=-1)\\ngrid_obj = grid_obj.fit(X_train, y_train)\\n\\n# Set the clf to the best combination of parameters\\ndtree_estimator = grid_obj.best_estimator_\\n\\n# Fit the best algorithm to the data.\\ndtree_estimator.fit(X_train, y_train)\";\n",
       "                var nbb_formatted_code = \"# Choose the type of classifier.\\ndtree_estimator = DecisionTreeClassifier(class_weight=\\\"balanced\\\", random_state=1)\\n\\n# Grid of parameters to choose from\\nparameters = {\\n    \\\"max_depth\\\": np.arange(10, 30, 5),\\n    \\\"min_samples_leaf\\\": [3, 5, 7, 10],\\n    \\\"max_leaf_nodes\\\": [2, 3, 5, 7],\\n    \\\"min_impurity_decrease\\\": [0.0001, 0.001, 0.01, 0.1],\\n}\\n\\n# Type of scoring used to compare parameter combinations\\nscorer = make_scorer(f1_score)\\n\\n# Run the grid search\\ngrid_obj = GridSearchCV(dtree_estimator, parameters, scoring=scorer, n_jobs=-1)\\ngrid_obj = grid_obj.fit(X_train, y_train)\\n\\n# Set the clf to the best combination of parameters\\ndtree_estimator = grid_obj.best_estimator_\\n\\n# Fit the best algorithm to the data.\\ndtree_estimator.fit(X_train, y_train)\";\n",
       "                var nbb_cells = Jupyter.notebook.get_cells();\n",
       "                for (var i = 0; i < nbb_cells.length; ++i) {\n",
       "                    if (nbb_cells[i].input_prompt_number == nbb_cell_id) {\n",
       "                        if (nbb_cells[i].get_text() == nbb_unformatted_code) {\n",
       "                             nbb_cells[i].set_text(nbb_formatted_code);\n",
       "                        }\n",
       "                        break;\n",
       "                    }\n",
       "                }\n",
       "            }, 500);\n",
       "            "
      ],
      "text/plain": [
       "<IPython.core.display.Javascript object>"
      ]
     },
     "metadata": {},
     "output_type": "display_data"
    }
   ],
   "source": [
    "# Choose the type of classifier.\n",
    "dtree_estimator = DecisionTreeClassifier(class_weight=\"balanced\", random_state=1)\n",
    "\n",
    "# Grid of parameters to choose from\n",
    "parameters = {\n",
    "    \"max_depth\": np.arange(10, 30, 5),\n",
    "    \"min_samples_leaf\": [3, 5, 7, 10],\n",
    "    \"max_leaf_nodes\": [2, 3, 5, 7],\n",
    "    \"min_impurity_decrease\": [0.0001, 0.001, 0.01, 0.1],\n",
    "}\n",
    "\n",
    "# Type of scoring used to compare parameter combinations\n",
    "scorer = make_scorer(f1_score)\n",
    "\n",
    "# Run the grid search\n",
    "grid_obj = GridSearchCV(dtree_estimator, parameters, scoring=scorer, n_jobs=-1)\n",
    "grid_obj = grid_obj.fit(X_train, y_train)\n",
    "\n",
    "# Set the clf to the best combination of parameters\n",
    "dtree_estimator = grid_obj.best_estimator_\n",
    "\n",
    "# Fit the best algorithm to the data.\n",
    "dtree_estimator.fit(X_train, y_train)"
   ]
  },
  {
   "cell_type": "code",
   "execution_count": 53,
   "id": "0a1d537a",
   "metadata": {},
   "outputs": [
    {
     "name": "stdout",
     "output_type": "stream",
     "text": [
      "Training performance:\n",
      "    Accuracy    Recall  Precision        F1\n",
      "0   0.70795  0.931734   0.714758  0.808949\n",
      "Testing performance:\n",
      "    Accuracy    Recall  Precision        F1\n",
      "0  0.717295  0.931301   0.727794  0.817066\n"
     ]
    },
    {
     "data": {
      "image/png": "[encoded data removed]",
      "text/plain": [
       "<Figure size 432x288 with 2 Axes>"
      ]
     },
     "metadata": {
      "needs_background": "light"
     },
     "output_type": "display_data"
    },
    {
     "data": {
      "application/javascript": [
       "\n",
       "            setTimeout(function() {\n",
       "                var nbb_cell_id = 53;\n",
       "                var nbb_unformatted_code = \"# Calculating different metrics\\ndtree_estimator_model_train_perf = model_performance_classification_sklearn(\\n    dtree_estimator, X_train, y_train\\n)\\nprint(\\\"Training performance:\\\\n\\\", dtree_estimator_model_train_perf)\\ndtree_estimator_model_test_perf = model_performance_classification_sklearn(\\n    dtree_estimator, X_test, y_test\\n)\\nprint(\\\"Testing performance:\\\\n\\\", dtree_estimator_model_test_perf)\\n\\n# Creating confusion matrix\\nconfusion_matrix_sklearn(dtree_estimator, X_test, y_test)\";\n",
       "                var nbb_formatted_code = \"# Calculating different metrics\\ndtree_estimator_model_train_perf = model_performance_classification_sklearn(\\n    dtree_estimator, X_train, y_train\\n)\\nprint(\\\"Training performance:\\\\n\\\", dtree_estimator_model_train_perf)\\ndtree_estimator_model_test_perf = model_performance_classification_sklearn(\\n    dtree_estimator, X_test, y_test\\n)\\nprint(\\\"Testing performance:\\\\n\\\", dtree_estimator_model_test_perf)\\n\\n# Creating confusion matrix\\nconfusion_matrix_sklearn(dtree_estimator, X_test, y_test)\";\n",
       "                var nbb_cells = Jupyter.notebook.get_cells();\n",
       "                for (var i = 0; i < nbb_cells.length; ++i) {\n",
       "                    if (nbb_cells[i].input_prompt_number == nbb_cell_id) {\n",
       "                        if (nbb_cells[i].get_text() == nbb_unformatted_code) {\n",
       "                             nbb_cells[i].set_text(nbb_formatted_code);\n",
       "                        }\n",
       "                        break;\n",
       "                    }\n",
       "                }\n",
       "            }, 500);\n",
       "            "
      ],
      "text/plain": [
       "<IPython.core.display.Javascript object>"
      ]
     },
     "metadata": {},
     "output_type": "display_data"
    }
   ],
   "source": [
    "# Calculating different metrics\n",
    "dtree_estimator_model_train_perf = model_performance_classification_sklearn(\n",
    "    dtree_estimator, X_train, y_train\n",
    ")\n",
    "print(\"Training performance:\\n\", dtree_estimator_model_train_perf)\n",
    "dtree_estimator_model_test_perf = model_performance_classification_sklearn(\n",
    "    dtree_estimator, X_test, y_test\n",
    ")\n",
    "print(\"Testing performance:\\n\", dtree_estimator_model_test_perf)\n",
    "\n",
    "# Creating confusion matrix\n",
    "confusion_matrix_sklearn(dtree_estimator, X_test, y_test)"
   ]
  },
  {
   "cell_type": "markdown",
   "id": "85e9c7fb",
   "metadata": {},
   "source": [
    "* The tuned decision tree model is giving a very generalized performance on training and testing dataset.\n",
    "* The tuned decision tree gives F1 score of 81.7%.\n",
    "* As per the confusion matrix, there is a good prediction rate for Certified cases. But, there are more false positive cases."
   ]
  },
  {
   "cell_type": "markdown",
   "id": "36076a7a",
   "metadata": {},
   "source": [
    "### Hyperparameter Tuning - Bagging Classifier"
   ]
  },
  {
   "cell_type": "code",
   "execution_count": 54,
   "id": "ec7f16fc",
   "metadata": {},
   "outputs": [
    {
     "data": {
      "text/plain": [
       "BaggingClassifier(max_features=0.7, max_samples=0.7, n_estimators=90,\n",
       "                  random_state=1)"
      ]
     },
     "execution_count": 54,
     "metadata": {},
     "output_type": "execute_result"
    },
    {
     "data": {
      "application/javascript": [
       "\n",
       "            setTimeout(function() {\n",
       "                var nbb_cell_id = 54;\n",
       "                var nbb_unformatted_code = \"# Choose the type of classifier.\\nbagging_estimator_tuned = BaggingClassifier(random_state=1)\\n\\n# Grid of parameters to choose from\\nparameters = {\\n    \\\"max_samples\\\": [0.7, 0.8, 0.9],\\n    \\\"max_features\\\": [0.7, 0.8, 0.9],\\n    \\\"n_estimators\\\": [30, 40, 50, 90, 100],\\n}\\n\\n# Type of scoring used to compare parameter combinations\\nscorer = make_scorer(f1_score)\\n\\n# Run the grid search\\ngrid_obj = GridSearchCV(bagging_estimator_tuned, parameters, scoring=scorer, cv=5)\\ngrid_obj = grid_obj.fit(X_train, y_train)\\n\\n# Set the clf to the best combination of parameters\\nbagging_estimator_tuned = grid_obj.best_estimator_\\n\\n# Fit the best algorithm to the data.\\nbagging_estimator_tuned.fit(X_train, y_train)\";\n",
       "                var nbb_formatted_code = \"# Choose the type of classifier.\\nbagging_estimator_tuned = BaggingClassifier(random_state=1)\\n\\n# Grid of parameters to choose from\\nparameters = {\\n    \\\"max_samples\\\": [0.7, 0.8, 0.9],\\n    \\\"max_features\\\": [0.7, 0.8, 0.9],\\n    \\\"n_estimators\\\": [30, 40, 50, 90, 100],\\n}\\n\\n# Type of scoring used to compare parameter combinations\\nscorer = make_scorer(f1_score)\\n\\n# Run the grid search\\ngrid_obj = GridSearchCV(bagging_estimator_tuned, parameters, scoring=scorer, cv=5)\\ngrid_obj = grid_obj.fit(X_train, y_train)\\n\\n# Set the clf to the best combination of parameters\\nbagging_estimator_tuned = grid_obj.best_estimator_\\n\\n# Fit the best algorithm to the data.\\nbagging_estimator_tuned.fit(X_train, y_train)\";\n",
       "                var nbb_cells = Jupyter.notebook.get_cells();\n",
       "                for (var i = 0; i < nbb_cells.length; ++i) {\n",
       "                    if (nbb_cells[i].input_prompt_number == nbb_cell_id) {\n",
       "                        if (nbb_cells[i].get_text() == nbb_unformatted_code) {\n",
       "                             nbb_cells[i].set_text(nbb_formatted_code);\n",
       "                        }\n",
       "                        break;\n",
       "                    }\n",
       "                }\n",
       "            }, 500);\n",
       "            "
      ],
      "text/plain": [
       "<IPython.core.display.Javascript object>"
      ]
     },
     "metadata": {},
     "output_type": "display_data"
    }
   ],
   "source": [
    "# Choose the type of classifier.\n",
    "bagging_estimator_tuned = BaggingClassifier(random_state=1)\n",
    "\n",
    "# Grid of parameters to choose from\n",
    "parameters = {\n",
    "    \"max_samples\": [0.7, 0.8, 0.9],\n",
    "    \"max_features\": [0.7, 0.8, 0.9],\n",
    "    \"n_estimators\": [30, 40, 50, 90, 100],\n",
    "}\n",
    "\n",
    "# Type of scoring used to compare parameter combinations\n",
    "scorer = make_scorer(f1_score)\n",
    "\n",
    "# Run the grid search\n",
    "grid_obj = GridSearchCV(bagging_estimator_tuned, parameters, scoring=scorer, cv=5)\n",
    "grid_obj = grid_obj.fit(X_train, y_train)\n",
    "\n",
    "# Set the clf to the best combination of parameters\n",
    "bagging_estimator_tuned = grid_obj.best_estimator_\n",
    "\n",
    "# Fit the best algorithm to the data.\n",
    "bagging_estimator_tuned.fit(X_train, y_train)"
   ]
  },
  {
   "cell_type": "code",
   "execution_count": 55,
   "id": "9389784d",
   "metadata": {},
   "outputs": [
    {
     "name": "stdout",
     "output_type": "stream",
     "text": [
      "Training performance:\n",
      "    Accuracy    Recall  Precision        F1\n",
      "0  0.976284  0.998986   0.966408  0.982427\n",
      "Training performance:\n",
      "    Accuracy    Recall  Precision        F1\n",
      "0  0.730769  0.888653   0.756655  0.817359\n"
     ]
    },
    {
     "data": {
      "image/png": "[encoded data removed]",
      "text/plain": [
       "<Figure size 432x288 with 2 Axes>"
      ]
     },
     "metadata": {
      "needs_background": "light"
     },
     "output_type": "display_data"
    },
    {
     "data": {
      "application/javascript": [
       "\n",
       "            setTimeout(function() {\n",
       "                var nbb_cell_id = 55;\n",
       "                var nbb_unformatted_code = \"# Calculating different metrics\\nbagging_estimator_tuned_model_train_perf = model_performance_classification_sklearn(\\n    bagging_estimator_tuned, X_train, y_train\\n)\\nprint(\\\"Training performance:\\\\n\\\", bagging_estimator_tuned_model_train_perf)\\nbagging_estimator_tuned_model_test_perf = model_performance_classification_sklearn(\\n    bagging_estimator_tuned, X_test, y_test\\n)\\nprint(\\\"Training performance:\\\\n\\\", bagging_estimator_tuned_model_test_perf)\\n\\n# Creating confusion matrix\\nconfusion_matrix_sklearn(bagging_estimator_tuned, X_test, y_test)\";\n",
       "                var nbb_formatted_code = \"# Calculating different metrics\\nbagging_estimator_tuned_model_train_perf = model_performance_classification_sklearn(\\n    bagging_estimator_tuned, X_train, y_train\\n)\\nprint(\\\"Training performance:\\\\n\\\", bagging_estimator_tuned_model_train_perf)\\nbagging_estimator_tuned_model_test_perf = model_performance_classification_sklearn(\\n    bagging_estimator_tuned, X_test, y_test\\n)\\nprint(\\\"Training performance:\\\\n\\\", bagging_estimator_tuned_model_test_perf)\\n\\n# Creating confusion matrix\\nconfusion_matrix_sklearn(bagging_estimator_tuned, X_test, y_test)\";\n",
       "                var nbb_cells = Jupyter.notebook.get_cells();\n",
       "                for (var i = 0; i < nbb_cells.length; ++i) {\n",
       "                    if (nbb_cells[i].input_prompt_number == nbb_cell_id) {\n",
       "                        if (nbb_cells[i].get_text() == nbb_unformatted_code) {\n",
       "                             nbb_cells[i].set_text(nbb_formatted_code);\n",
       "                        }\n",
       "                        break;\n",
       "                    }\n",
       "                }\n",
       "            }, 500);\n",
       "            "
      ],
      "text/plain": [
       "<IPython.core.display.Javascript object>"
      ]
     },
     "metadata": {},
     "output_type": "display_data"
    }
   ],
   "source": [
    "# Calculating different metrics\n",
    "bagging_estimator_tuned_model_train_perf = model_performance_classification_sklearn(\n",
    "    bagging_estimator_tuned, X_train, y_train\n",
    ")\n",
    "print(\"Training performance:\\n\", bagging_estimator_tuned_model_train_perf)\n",
    "bagging_estimator_tuned_model_test_perf = model_performance_classification_sklearn(\n",
    "    bagging_estimator_tuned, X_test, y_test\n",
    ")\n",
    "print(\"Training performance:\\n\", bagging_estimator_tuned_model_test_perf)\n",
    "\n",
    "# Creating confusion matrix\n",
    "confusion_matrix_sklearn(bagging_estimator_tuned, X_test, y_test)"
   ]
  },
  {
   "cell_type": "markdown",
   "id": "6aee0310",
   "metadata": {},
   "source": [
    "* The test performance have been improved after tuning the bagging classifier, but the model is not able to give a generalized performance. \n",
    "* The model is overfitting the training data.\n",
    "* As per the confusion matrix, the model is able to make a good prediction of Certified cases."
   ]
  },
  {
   "cell_type": "markdown",
   "id": "2e81eaf2",
   "metadata": {},
   "source": [
    "### Hyperparameter Tuning - Random Forest Classifier"
   ]
  },
  {
   "cell_type": "code",
   "execution_count": 56,
   "id": "30976ae2",
   "metadata": {},
   "outputs": [
    {
     "data": {
      "text/plain": [
       "RandomForestClassifier(class_weight='balanced', max_depth=5,\n",
       "                       max_features='sqrt', min_samples_split=7,\n",
       "                       n_estimators=10, oob_score=True, random_state=1)"
      ]
     },
     "execution_count": 56,
     "metadata": {},
     "output_type": "execute_result"
    },
    {
     "data": {
      "application/javascript": [
       "\n",
       "            setTimeout(function() {\n",
       "                var nbb_cell_id = 56;\n",
       "                var nbb_unformatted_code = \"# Choose the type of classifier.\\nrf_tuned = RandomForestClassifier(\\n    class_weight=\\\"balanced\\\", random_state=1, oob_score=True, bootstrap=True\\n)\\n\\nparameters = {\\n    \\\"max_depth\\\": list(np.arange(5, 15, 5)),\\n    \\\"max_features\\\": [\\\"sqrt\\\", \\\"log2\\\"],\\n    \\\"min_samples_split\\\": [3, 5, 7],\\n    \\\"n_estimators\\\": np.arange(10, 40, 10),\\n}\\n\\n\\n# Type of scoring used to compare parameter combinations\\nscorer = make_scorer(f1_score)\\n\\n# Run the grid search\\ngrid_obj = GridSearchCV(rf_tuned, parameters, scoring=scorer, cv=5, n_jobs=-1)\\ngrid_obj = grid_obj.fit(X_train, y_train)\\n\\n# Set the clf to the best combination of parameters\\nrf_tuned = grid_obj.best_estimator_\\n\\n# Fit the best algorithm to the data.\\nrf_tuned.fit(X_train, y_train)\";\n",
       "                var nbb_formatted_code = \"# Choose the type of classifier.\\nrf_tuned = RandomForestClassifier(\\n    class_weight=\\\"balanced\\\", random_state=1, oob_score=True, bootstrap=True\\n)\\n\\nparameters = {\\n    \\\"max_depth\\\": list(np.arange(5, 15, 5)),\\n    \\\"max_features\\\": [\\\"sqrt\\\", \\\"log2\\\"],\\n    \\\"min_samples_split\\\": [3, 5, 7],\\n    \\\"n_estimators\\\": np.arange(10, 40, 10),\\n}\\n\\n\\n# Type of scoring used to compare parameter combinations\\nscorer = make_scorer(f1_score)\\n\\n# Run the grid search\\ngrid_obj = GridSearchCV(rf_tuned, parameters, scoring=scorer, cv=5, n_jobs=-1)\\ngrid_obj = grid_obj.fit(X_train, y_train)\\n\\n# Set the clf to the best combination of parameters\\nrf_tuned = grid_obj.best_estimator_\\n\\n# Fit the best algorithm to the data.\\nrf_tuned.fit(X_train, y_train)\";\n",
       "                var nbb_cells = Jupyter.notebook.get_cells();\n",
       "                for (var i = 0; i < nbb_cells.length; ++i) {\n",
       "                    if (nbb_cells[i].input_prompt_number == nbb_cell_id) {\n",
       "                        if (nbb_cells[i].get_text() == nbb_unformatted_code) {\n",
       "                             nbb_cells[i].set_text(nbb_formatted_code);\n",
       "                        }\n",
       "                        break;\n",
       "                    }\n",
       "                }\n",
       "            }, 500);\n",
       "            "
      ],
      "text/plain": [
       "<IPython.core.display.Javascript object>"
      ]
     },
     "metadata": {},
     "output_type": "display_data"
    }
   ],
   "source": [
    "# Choose the type of classifier.\n",
    "rf_tuned = RandomForestClassifier(\n",
    "    class_weight=\"balanced\", random_state=1, oob_score=True, bootstrap=True\n",
    ")\n",
    "\n",
    "parameters = {\n",
    "    \"max_depth\": list(np.arange(5, 15, 5)),\n",
    "    \"max_features\": [\"sqrt\", \"log2\"],\n",
    "    \"min_samples_split\": [3, 5, 7],\n",
    "    \"n_estimators\": np.arange(10, 40, 10),\n",
    "}\n",
    "\n",
    "\n",
    "# Type of scoring used to compare parameter combinations\n",
    "scorer = make_scorer(f1_score)\n",
    "\n",
    "# Run the grid search\n",
    "grid_obj = GridSearchCV(rf_tuned, parameters, scoring=scorer, cv=5, n_jobs=-1)\n",
    "grid_obj = grid_obj.fit(X_train, y_train)\n",
    "\n",
    "# Set the clf to the best combination of parameters\n",
    "rf_tuned = grid_obj.best_estimator_\n",
    "\n",
    "# Fit the best algorithm to the data.\n",
    "rf_tuned.fit(X_train, y_train)"
   ]
  },
  {
   "cell_type": "code",
   "execution_count": 57,
   "id": "9b1a290a",
   "metadata": {},
   "outputs": [
    {
     "name": "stdout",
     "output_type": "stream",
     "text": [
      "Training performance:\n",
      "    Accuracy    Recall  Precision        F1\n",
      "0    0.7232  0.772981   0.802614  0.787519\n",
      "Testing performance:\n",
      "    Accuracy    Recall  Precision        F1\n",
      "0  0.720434  0.770745   0.808011  0.788938\n"
     ]
    },
    {
     "data": {
      "image/png": "[encoded data removed]",
      "text/plain": [
       "<Figure size 432x288 with 2 Axes>"
      ]
     },
     "metadata": {
      "needs_background": "light"
     },
     "output_type": "display_data"
    },
    {
     "data": {
      "application/javascript": [
       "\n",
       "            setTimeout(function() {\n",
       "                var nbb_cell_id = 57;\n",
       "                var nbb_unformatted_code = \"# Calculating different metrics\\nrf_tuned_model_train_perf = model_performance_classification_sklearn(\\n    rf_tuned, X_train, y_train\\n)\\nprint(\\\"Training performance:\\\\n\\\", rf_tuned_model_train_perf)\\nrf_tuned_model_test_perf = model_performance_classification_sklearn(\\n    rf_tuned, X_test, y_test\\n)\\nprint(\\\"Testing performance:\\\\n\\\", rf_tuned_model_test_perf)\\n\\n# Creating confusion matrix\\nconfusion_matrix_sklearn(rf_tuned, X_test, y_test)\";\n",
       "                var nbb_formatted_code = \"# Calculating different metrics\\nrf_tuned_model_train_perf = model_performance_classification_sklearn(\\n    rf_tuned, X_train, y_train\\n)\\nprint(\\\"Training performance:\\\\n\\\", rf_tuned_model_train_perf)\\nrf_tuned_model_test_perf = model_performance_classification_sklearn(\\n    rf_tuned, X_test, y_test\\n)\\nprint(\\\"Testing performance:\\\\n\\\", rf_tuned_model_test_perf)\\n\\n# Creating confusion matrix\\nconfusion_matrix_sklearn(rf_tuned, X_test, y_test)\";\n",
       "                var nbb_cells = Jupyter.notebook.get_cells();\n",
       "                for (var i = 0; i < nbb_cells.length; ++i) {\n",
       "                    if (nbb_cells[i].input_prompt_number == nbb_cell_id) {\n",
       "                        if (nbb_cells[i].get_text() == nbb_unformatted_code) {\n",
       "                             nbb_cells[i].set_text(nbb_formatted_code);\n",
       "                        }\n",
       "                        break;\n",
       "                    }\n",
       "                }\n",
       "            }, 500);\n",
       "            "
      ],
      "text/plain": [
       "<IPython.core.display.Javascript object>"
      ]
     },
     "metadata": {},
     "output_type": "display_data"
    }
   ],
   "source": [
    "# Calculating different metrics\n",
    "rf_tuned_model_train_perf = model_performance_classification_sklearn(\n",
    "    rf_tuned, X_train, y_train\n",
    ")\n",
    "print(\"Training performance:\\n\", rf_tuned_model_train_perf)\n",
    "rf_tuned_model_test_perf = model_performance_classification_sklearn(\n",
    "    rf_tuned, X_test, y_test\n",
    ")\n",
    "print(\"Testing performance:\\n\", rf_tuned_model_test_perf)\n",
    "\n",
    "# Creating confusion matrix\n",
    "confusion_matrix_sklearn(rf_tuned, X_test, y_test)"
   ]
  },
  {
   "cell_type": "markdown",
   "id": "ce38a1b0",
   "metadata": {},
   "source": [
    "* The tuned random forest is giving a generalized performance on training and testing data.\n",
    "* This model is giving an F1 score of 78.8% which is slightly less than the tuned decision tree model."
   ]
  },
  {
   "cell_type": "markdown",
   "id": "f9138579",
   "metadata": {},
   "source": [
    "## Model Building - Boosting"
   ]
  },
  {
   "cell_type": "markdown",
   "id": "abdcd477",
   "metadata": {},
   "source": [
    "### AdaBoost Classifier"
   ]
  },
  {
   "cell_type": "code",
   "execution_count": 58,
   "id": "dd752af3",
   "metadata": {},
   "outputs": [
    {
     "name": "stdout",
     "output_type": "stream",
     "text": [
      "Training performance:\n",
      "    Accuracy    Recall  Precision        F1\n",
      "0  0.736488  0.885012   0.758289  0.816764\n",
      "Testing performance:\n",
      "    Accuracy    Recall  Precision        F1\n",
      "0  0.739273  0.885565   0.766238  0.821592\n"
     ]
    },
    {
     "data": {
      "image/png": "[encoded data removed]",
      "text/plain": [
       "<Figure size 432x288 with 2 Axes>"
      ]
     },
     "metadata": {
      "needs_background": "light"
     },
     "output_type": "display_data"
    },
    {
     "data": {
      "application/javascript": [
       "\n",
       "            setTimeout(function() {\n",
       "                var nbb_cell_id = 58;\n",
       "                var nbb_unformatted_code = \"# Fitting the model\\nab_classifier = AdaBoostClassifier(random_state=1)\\nab_classifier.fit(X_train, y_train)\\n\\n# Calculating different metrics\\nab_classifier_model_train_perf = model_performance_classification_sklearn(\\n    ab_classifier, X_train, y_train\\n)\\nprint(\\\"Training performance:\\\\n\\\", ab_classifier_model_train_perf)\\nab_classifier_model_test_perf = model_performance_classification_sklearn(\\n    ab_classifier, X_test, y_test\\n)\\nprint(\\\"Testing performance:\\\\n\\\", ab_classifier_model_test_perf)\\n\\n# Creating confusion matrix\\nconfusion_matrix_sklearn(ab_classifier, X_test, y_test)\";\n",
       "                var nbb_formatted_code = \"# Fitting the model\\nab_classifier = AdaBoostClassifier(random_state=1)\\nab_classifier.fit(X_train, y_train)\\n\\n# Calculating different metrics\\nab_classifier_model_train_perf = model_performance_classification_sklearn(\\n    ab_classifier, X_train, y_train\\n)\\nprint(\\\"Training performance:\\\\n\\\", ab_classifier_model_train_perf)\\nab_classifier_model_test_perf = model_performance_classification_sklearn(\\n    ab_classifier, X_test, y_test\\n)\\nprint(\\\"Testing performance:\\\\n\\\", ab_classifier_model_test_perf)\\n\\n# Creating confusion matrix\\nconfusion_matrix_sklearn(ab_classifier, X_test, y_test)\";\n",
       "                var nbb_cells = Jupyter.notebook.get_cells();\n",
       "                for (var i = 0; i < nbb_cells.length; ++i) {\n",
       "                    if (nbb_cells[i].input_prompt_number == nbb_cell_id) {\n",
       "                        if (nbb_cells[i].get_text() == nbb_unformatted_code) {\n",
       "                             nbb_cells[i].set_text(nbb_formatted_code);\n",
       "                        }\n",
       "                        break;\n",
       "                    }\n",
       "                }\n",
       "            }, 500);\n",
       "            "
      ],
      "text/plain": [
       "<IPython.core.display.Javascript object>"
      ]
     },
     "metadata": {},
     "output_type": "display_data"
    }
   ],
   "source": [
    "# Fitting the model\n",
    "ab_classifier = AdaBoostClassifier(random_state=1)\n",
    "ab_classifier.fit(X_train, y_train)\n",
    "\n",
    "# Calculating different metrics\n",
    "ab_classifier_model_train_perf = model_performance_classification_sklearn(\n",
    "    ab_classifier, X_train, y_train\n",
    ")\n",
    "print(\"Training performance:\\n\", ab_classifier_model_train_perf)\n",
    "ab_classifier_model_test_perf = model_performance_classification_sklearn(\n",
    "    ab_classifier, X_test, y_test\n",
    ")\n",
    "print(\"Testing performance:\\n\", ab_classifier_model_test_perf)\n",
    "\n",
    "# Creating confusion matrix\n",
    "confusion_matrix_sklearn(ab_classifier, X_test, y_test)"
   ]
  },
  {
   "cell_type": "markdown",
   "id": "091a8ab3",
   "metadata": {},
   "source": [
    "* AdaBoost classifier is giving a generalized performance on training and testing dataset.\n",
    "* This model gives an F1 score of 82.1% which is slightly more than the tuned decision tree model."
   ]
  },
  {
   "cell_type": "markdown",
   "id": "58815597",
   "metadata": {},
   "source": [
    "### Gradient Boosting Classifier"
   ]
  },
  {
   "cell_type": "code",
   "execution_count": 59,
   "id": "1c4806a6",
   "metadata": {},
   "outputs": [
    {
     "name": "stdout",
     "output_type": "stream",
     "text": [
      "Training performance:\n",
      "    Accuracy    Recall  Precision        F1\n",
      "0  0.755102  0.873268   0.782793  0.825559\n",
      "Testing performance:\n",
      "    Accuracy    Recall  Precision        F1\n",
      "0  0.752486  0.867426   0.788596  0.826135\n"
     ]
    },
    {
     "data": {
      "image/png": "[encoded data removed]",
      "text/plain": [
       "<Figure size 432x288 with 2 Axes>"
      ]
     },
     "metadata": {
      "needs_background": "light"
     },
     "output_type": "display_data"
    },
    {
     "data": {
      "application/javascript": [
       "\n",
       "            setTimeout(function() {\n",
       "                var nbb_cell_id = 59;\n",
       "                var nbb_unformatted_code = \"# Fitting the model\\ngb_classifier = GradientBoostingClassifier(random_state=1)\\ngb_classifier.fit(X_train, y_train)\\n\\n# Calculating different metrics\\ngb_classifier_model_train_perf = model_performance_classification_sklearn(\\n    gb_classifier, X_train, y_train\\n)\\nprint(\\\"Training performance:\\\\n\\\", gb_classifier_model_train_perf)\\ngb_classifier_model_test_perf = model_performance_classification_sklearn(\\n    gb_classifier, X_test, y_test\\n)\\nprint(\\\"Testing performance:\\\\n\\\", gb_classifier_model_test_perf)\\n\\n# Creating confusion matrix\\nconfusion_matrix_sklearn(gb_classifier, X_test, y_test)\";\n",
       "                var nbb_formatted_code = \"# Fitting the model\\ngb_classifier = GradientBoostingClassifier(random_state=1)\\ngb_classifier.fit(X_train, y_train)\\n\\n# Calculating different metrics\\ngb_classifier_model_train_perf = model_performance_classification_sklearn(\\n    gb_classifier, X_train, y_train\\n)\\nprint(\\\"Training performance:\\\\n\\\", gb_classifier_model_train_perf)\\ngb_classifier_model_test_perf = model_performance_classification_sklearn(\\n    gb_classifier, X_test, y_test\\n)\\nprint(\\\"Testing performance:\\\\n\\\", gb_classifier_model_test_perf)\\n\\n# Creating confusion matrix\\nconfusion_matrix_sklearn(gb_classifier, X_test, y_test)\";\n",
       "                var nbb_cells = Jupyter.notebook.get_cells();\n",
       "                for (var i = 0; i < nbb_cells.length; ++i) {\n",
       "                    if (nbb_cells[i].input_prompt_number == nbb_cell_id) {\n",
       "                        if (nbb_cells[i].get_text() == nbb_unformatted_code) {\n",
       "                             nbb_cells[i].set_text(nbb_formatted_code);\n",
       "                        }\n",
       "                        break;\n",
       "                    }\n",
       "                }\n",
       "            }, 500);\n",
       "            "
      ],
      "text/plain": [
       "<IPython.core.display.Javascript object>"
      ]
     },
     "metadata": {},
     "output_type": "display_data"
    }
   ],
   "source": [
    "# Fitting the model\n",
    "gb_classifier = GradientBoostingClassifier(random_state=1)\n",
    "gb_classifier.fit(X_train, y_train)\n",
    "\n",
    "# Calculating different metrics\n",
    "gb_classifier_model_train_perf = model_performance_classification_sklearn(\n",
    "    gb_classifier, X_train, y_train\n",
    ")\n",
    "print(\"Training performance:\\n\", gb_classifier_model_train_perf)\n",
    "gb_classifier_model_test_perf = model_performance_classification_sklearn(\n",
    "    gb_classifier, X_test, y_test\n",
    ")\n",
    "print(\"Testing performance:\\n\", gb_classifier_model_test_perf)\n",
    "\n",
    "# Creating confusion matrix\n",
    "confusion_matrix_sklearn(gb_classifier, X_test, y_test)"
   ]
  },
  {
   "cell_type": "markdown",
   "id": "0869a49e",
   "metadata": {},
   "source": [
    "* Gradient Boosting Classifier is giving a generalized performance on training and testing dataset.\n",
    "* This model gives an F1 score of 82.6% which is slightly more than the AdaBoost Classifier."
   ]
  },
  {
   "cell_type": "markdown",
   "id": "c9ed786b",
   "metadata": {},
   "source": [
    "### XGBoost Classifier"
   ]
  },
  {
   "cell_type": "code",
   "execution_count": 60,
   "id": "b33b7a58",
   "metadata": {},
   "outputs": [
    {
     "name": "stdout",
     "output_type": "stream",
     "text": [
      "Training performance:\n",
      "    Accuracy    Recall  Precision        F1\n",
      "0  0.821092  0.919905   0.829183  0.872191\n",
      "Testing performance:\n",
      "    Accuracy    Recall  Precision        F1\n",
      "0  0.735871  0.851602   0.779269  0.813831\n"
     ]
    },
    {
     "data": {
      "image/png": "[encoded data removed]",
      "text/plain": [
       "<Figure size 432x288 with 2 Axes>"
      ]
     },
     "metadata": {
      "needs_background": "light"
     },
     "output_type": "display_data"
    },
    {
     "data": {
      "application/javascript": [
       "\n",
       "            setTimeout(function() {\n",
       "                var nbb_cell_id = 60;\n",
       "                var nbb_unformatted_code = \"# Fitting the model\\nxgb_classifier = XGBClassifier(random_state=1, eval_metric=\\\"logloss\\\")\\nxgb_classifier.fit(X_train, y_train)\\n\\n# Calculating different metrics\\nxgb_classifier_model_train_perf = model_performance_classification_sklearn(\\n    xgb_classifier, X_train, y_train\\n)\\nprint(\\\"Training performance:\\\\n\\\", xgb_classifier_model_train_perf)\\nxgb_classifier_model_test_perf = model_performance_classification_sklearn(\\n    xgb_classifier, X_test, y_test\\n)\\nprint(\\\"Testing performance:\\\\n\\\", xgb_classifier_model_test_perf)\\n\\n# Creating confusion matrix\\nconfusion_matrix_sklearn(xgb_classifier, X_test, y_test)\";\n",
       "                var nbb_formatted_code = \"# Fitting the model\\nxgb_classifier = XGBClassifier(random_state=1, eval_metric=\\\"logloss\\\")\\nxgb_classifier.fit(X_train, y_train)\\n\\n# Calculating different metrics\\nxgb_classifier_model_train_perf = model_performance_classification_sklearn(\\n    xgb_classifier, X_train, y_train\\n)\\nprint(\\\"Training performance:\\\\n\\\", xgb_classifier_model_train_perf)\\nxgb_classifier_model_test_perf = model_performance_classification_sklearn(\\n    xgb_classifier, X_test, y_test\\n)\\nprint(\\\"Testing performance:\\\\n\\\", xgb_classifier_model_test_perf)\\n\\n# Creating confusion matrix\\nconfusion_matrix_sklearn(xgb_classifier, X_test, y_test)\";\n",
       "                var nbb_cells = Jupyter.notebook.get_cells();\n",
       "                for (var i = 0; i < nbb_cells.length; ++i) {\n",
       "                    if (nbb_cells[i].input_prompt_number == nbb_cell_id) {\n",
       "                        if (nbb_cells[i].get_text() == nbb_unformatted_code) {\n",
       "                             nbb_cells[i].set_text(nbb_formatted_code);\n",
       "                        }\n",
       "                        break;\n",
       "                    }\n",
       "                }\n",
       "            }, 500);\n",
       "            "
      ],
      "text/plain": [
       "<IPython.core.display.Javascript object>"
      ]
     },
     "metadata": {},
     "output_type": "display_data"
    }
   ],
   "source": [
    "# Fitting the model\n",
    "xgb_classifier = XGBClassifier(random_state=1, eval_metric=\"logloss\")\n",
    "xgb_classifier.fit(X_train, y_train)\n",
    "\n",
    "# Calculating different metrics\n",
    "xgb_classifier_model_train_perf = model_performance_classification_sklearn(\n",
    "    xgb_classifier, X_train, y_train\n",
    ")\n",
    "print(\"Training performance:\\n\", xgb_classifier_model_train_perf)\n",
    "xgb_classifier_model_test_perf = model_performance_classification_sklearn(\n",
    "    xgb_classifier, X_test, y_test\n",
    ")\n",
    "print(\"Testing performance:\\n\", xgb_classifier_model_test_perf)\n",
    "\n",
    "# Creating confusion matrix\n",
    "confusion_matrix_sklearn(xgb_classifier, X_test, y_test)"
   ]
  },
  {
   "cell_type": "markdown",
   "id": "aa1e04a0",
   "metadata": {},
   "source": [
    "* XGBoost Classifier is not able to provide a very generalized performance on training and test data set.\n",
    "* The model is overfitting the training dataset."
   ]
  },
  {
   "cell_type": "markdown",
   "id": "a9bd42c7",
   "metadata": {},
   "source": [
    "## Model Improvement - Boosting"
   ]
  },
  {
   "cell_type": "markdown",
   "id": "9802ca3e",
   "metadata": {},
   "source": [
    "### Hyperparameter Tuning - AdaBoost Classifier"
   ]
  },
  {
   "cell_type": "code",
   "execution_count": 61,
   "id": "4773363a",
   "metadata": {},
   "outputs": [
    {
     "data": {
      "text/plain": [
       "AdaBoostClassifier(base_estimator=DecisionTreeClassifier(class_weight='balanced',\n",
       "                                                         max_depth=1,\n",
       "                                                         random_state=1),\n",
       "                   learning_rate=0.2, random_state=1)"
      ]
     },
     "execution_count": 61,
     "metadata": {},
     "output_type": "execute_result"
    },
    {
     "data": {
      "application/javascript": [
       "\n",
       "            setTimeout(function() {\n",
       "                var nbb_cell_id = 61;\n",
       "                var nbb_unformatted_code = \"# Choose the type of classifier.\\nabc_tuned = AdaBoostClassifier(random_state=1)\\n\\n# Grid of parameters to choose from\\nparameters = {\\n    # Let's try different max_depth for base_estimator\\n    \\\"base_estimator\\\": [\\n        DecisionTreeClassifier(max_depth=1, class_weight=\\\"balanced\\\", random_state=1),\\n        DecisionTreeClassifier(max_depth=2, class_weight=\\\"balanced\\\", random_state=1),\\n        DecisionTreeClassifier(max_depth=3, class_weight=\\\"balanced\\\", random_state=1),\\n    ],\\n    \\\"n_estimators\\\": np.arange(50, 100, 10),\\n    \\\"learning_rate\\\": np.arange(0.1, 1, 0.1),\\n}\\n\\n# Type of scoring used to compare parameter  combinations\\nscorer = make_scorer(f1_score)\\n\\n# Run the grid search\\ngrid_obj = GridSearchCV(abc_tuned, parameters, scoring=scorer, cv=5)\\ngrid_obj = grid_obj.fit(X_train, y_train)\\n\\n# Set the clf to the best combination of parameters\\nabc_tuned = grid_obj.best_estimator_\\n\\n# Fit the best algorithm to the data.\\nabc_tuned.fit(X_train, y_train)\";\n",
       "                var nbb_formatted_code = \"# Choose the type of classifier.\\nabc_tuned = AdaBoostClassifier(random_state=1)\\n\\n# Grid of parameters to choose from\\nparameters = {\\n    # Let's try different max_depth for base_estimator\\n    \\\"base_estimator\\\": [\\n        DecisionTreeClassifier(max_depth=1, class_weight=\\\"balanced\\\", random_state=1),\\n        DecisionTreeClassifier(max_depth=2, class_weight=\\\"balanced\\\", random_state=1),\\n        DecisionTreeClassifier(max_depth=3, class_weight=\\\"balanced\\\", random_state=1),\\n    ],\\n    \\\"n_estimators\\\": np.arange(50, 100, 10),\\n    \\\"learning_rate\\\": np.arange(0.1, 1, 0.1),\\n}\\n\\n# Type of scoring used to compare parameter  combinations\\nscorer = make_scorer(f1_score)\\n\\n# Run the grid search\\ngrid_obj = GridSearchCV(abc_tuned, parameters, scoring=scorer, cv=5)\\ngrid_obj = grid_obj.fit(X_train, y_train)\\n\\n# Set the clf to the best combination of parameters\\nabc_tuned = grid_obj.best_estimator_\\n\\n# Fit the best algorithm to the data.\\nabc_tuned.fit(X_train, y_train)\";\n",
       "                var nbb_cells = Jupyter.notebook.get_cells();\n",
       "                for (var i = 0; i < nbb_cells.length; ++i) {\n",
       "                    if (nbb_cells[i].input_prompt_number == nbb_cell_id) {\n",
       "                        if (nbb_cells[i].get_text() == nbb_unformatted_code) {\n",
       "                             nbb_cells[i].set_text(nbb_formatted_code);\n",
       "                        }\n",
       "                        break;\n",
       "                    }\n",
       "                }\n",
       "            }, 500);\n",
       "            "
      ],
      "text/plain": [
       "<IPython.core.display.Javascript object>"
      ]
     },
     "metadata": {},
     "output_type": "display_data"
    }
   ],
   "source": [
    "# Choose the type of classifier.\n",
    "abc_tuned = AdaBoostClassifier(random_state=1)\n",
    "\n",
    "# Grid of parameters to choose from\n",
    "parameters = {\n",
    "    # Let's try different max_depth for base_estimator\n",
    "    \"base_estimator\": [\n",
    "        DecisionTreeClassifier(max_depth=1, class_weight=\"balanced\", random_state=1),\n",
    "        DecisionTreeClassifier(max_depth=2, class_weight=\"balanced\", random_state=1),\n",
    "        DecisionTreeClassifier(max_depth=3, class_weight=\"balanced\", random_state=1),\n",
    "    ],\n",
    "    \"n_estimators\": np.arange(50, 100, 10),\n",
    "    \"learning_rate\": np.arange(0.1, 1, 0.1),\n",
    "}\n",
    "\n",
    "# Type of scoring used to compare parameter  combinations\n",
    "scorer = make_scorer(f1_score)\n",
    "\n",
    "# Run the grid search\n",
    "grid_obj = GridSearchCV(abc_tuned, parameters, scoring=scorer, cv=5)\n",
    "grid_obj = grid_obj.fit(X_train, y_train)\n",
    "\n",
    "# Set the clf to the best combination of parameters\n",
    "abc_tuned = grid_obj.best_estimator_\n",
    "\n",
    "# Fit the best algorithm to the data.\n",
    "abc_tuned.fit(X_train, y_train)"
   ]
  },
  {
   "cell_type": "code",
   "execution_count": 62,
   "id": "f0737524",
   "metadata": {},
   "outputs": [
    {
     "name": "stdout",
     "output_type": "stream",
     "text": [
      "Training performance:\n",
      "    Accuracy    Recall  Precision        F1\n",
      "0   0.71821  0.780416   0.791924  0.786128\n",
      "Testing performance:\n",
      "    Accuracy    Recall  Precision        F1\n",
      "0  0.718472  0.783674   0.797526  0.790539\n"
     ]
    },
    {
     "data": {
      "image/png": "[encoded data removed]",
      "text/plain": [
       "<Figure size 432x288 with 2 Axes>"
      ]
     },
     "metadata": {
      "needs_background": "light"
     },
     "output_type": "display_data"
    },
    {
     "data": {
      "application/javascript": [
       "\n",
       "            setTimeout(function() {\n",
       "                var nbb_cell_id = 62;\n",
       "                var nbb_unformatted_code = \"# Calculating different metrics\\nabc_tuned_model_train_perf = model_performance_classification_sklearn(\\n    abc_tuned, X_train, y_train\\n)\\nprint(\\\"Training performance:\\\\n\\\", abc_tuned_model_train_perf)\\nabc_tuned_model_test_perf = model_performance_classification_sklearn(\\n    abc_tuned, X_test, y_test\\n)\\nprint(\\\"Testing performance:\\\\n\\\", abc_tuned_model_test_perf)\\n\\n# Creating confusion matrix\\nconfusion_matrix_sklearn(abc_tuned, X_test, y_test)\";\n",
       "                var nbb_formatted_code = \"# Calculating different metrics\\nabc_tuned_model_train_perf = model_performance_classification_sklearn(\\n    abc_tuned, X_train, y_train\\n)\\nprint(\\\"Training performance:\\\\n\\\", abc_tuned_model_train_perf)\\nabc_tuned_model_test_perf = model_performance_classification_sklearn(\\n    abc_tuned, X_test, y_test\\n)\\nprint(\\\"Testing performance:\\\\n\\\", abc_tuned_model_test_perf)\\n\\n# Creating confusion matrix\\nconfusion_matrix_sklearn(abc_tuned, X_test, y_test)\";\n",
       "                var nbb_cells = Jupyter.notebook.get_cells();\n",
       "                for (var i = 0; i < nbb_cells.length; ++i) {\n",
       "                    if (nbb_cells[i].input_prompt_number == nbb_cell_id) {\n",
       "                        if (nbb_cells[i].get_text() == nbb_unformatted_code) {\n",
       "                             nbb_cells[i].set_text(nbb_formatted_code);\n",
       "                        }\n",
       "                        break;\n",
       "                    }\n",
       "                }\n",
       "            }, 500);\n",
       "            "
      ],
      "text/plain": [
       "<IPython.core.display.Javascript object>"
      ]
     },
     "metadata": {},
     "output_type": "display_data"
    }
   ],
   "source": [
    "# Calculating different metrics\n",
    "abc_tuned_model_train_perf = model_performance_classification_sklearn(\n",
    "    abc_tuned, X_train, y_train\n",
    ")\n",
    "print(\"Training performance:\\n\", abc_tuned_model_train_perf)\n",
    "abc_tuned_model_test_perf = model_performance_classification_sklearn(\n",
    "    abc_tuned, X_test, y_test\n",
    ")\n",
    "print(\"Testing performance:\\n\", abc_tuned_model_test_perf)\n",
    "\n",
    "# Creating confusion matrix\n",
    "confusion_matrix_sklearn(abc_tuned, X_test, y_test)"
   ]
  },
  {
   "cell_type": "markdown",
   "id": "7d12cc62",
   "metadata": {},
   "source": [
    "* The tuned AdaBoost model is giving a generalized performance on training and testing dataset.\n",
    "* The values of performance metrics have decreased for the tuned AdaBoost model when compared to the model without hyperparameter tuning."
   ]
  },
  {
   "cell_type": "markdown",
   "id": "fca5cd8a",
   "metadata": {},
   "source": [
    "### Hyperparameter Tuning - Gradient Boosting Classifier"
   ]
  },
  {
   "cell_type": "code",
   "execution_count": 63,
   "id": "963acf3b",
   "metadata": {},
   "outputs": [
    {
     "data": {
      "text/plain": [
       "GradientBoostingClassifier(init=AdaBoostClassifier(random_state=1),\n",
       "                           max_features=0.9, random_state=1, subsample=0.9)"
      ]
     },
     "execution_count": 63,
     "metadata": {},
     "output_type": "execute_result"
    },
    {
     "data": {
      "application/javascript": [
       "\n",
       "            setTimeout(function() {\n",
       "                var nbb_cell_id = 63;\n",
       "                var nbb_unformatted_code = \"# Choose the type of classifier.\\ngbc_tuned = GradientBoostingClassifier(\\n    init=AdaBoostClassifier(random_state=1), random_state=1\\n)\\n\\n# Grid of parameters to choose from\\nparameters = {\\n    \\\"n_estimators\\\": [100, 150, 200, 250],\\n    \\\"subsample\\\": [0.8, 0.9, 1],\\n    \\\"max_features\\\": [0.7, 0.8, 0.9, 1],\\n    \\\"learning_rate\\\": np.arange(0.1, 0.4, 0.1),\\n}\\n\\n# Type of scoring used to compare parameter combinations\\nscorer = make_scorer(f1_score)\\n\\n# Run the grid search\\ngrid_obj = GridSearchCV(gbc_tuned, parameters, scoring=scorer, cv=5)\\ngrid_obj = grid_obj.fit(X_train, y_train)\\n\\n# Set the clf to the best combination of parameters\\ngbc_tuned = grid_obj.best_estimator_\\n\\n# Fit the best algorithm to the data.\\ngbc_tuned.fit(X_train, y_train)\";\n",
       "                var nbb_formatted_code = \"# Choose the type of classifier.\\ngbc_tuned = GradientBoostingClassifier(\\n    init=AdaBoostClassifier(random_state=1), random_state=1\\n)\\n\\n# Grid of parameters to choose from\\nparameters = {\\n    \\\"n_estimators\\\": [100, 150, 200, 250],\\n    \\\"subsample\\\": [0.8, 0.9, 1],\\n    \\\"max_features\\\": [0.7, 0.8, 0.9, 1],\\n    \\\"learning_rate\\\": np.arange(0.1, 0.4, 0.1),\\n}\\n\\n# Type of scoring used to compare parameter combinations\\nscorer = make_scorer(f1_score)\\n\\n# Run the grid search\\ngrid_obj = GridSearchCV(gbc_tuned, parameters, scoring=scorer, cv=5)\\ngrid_obj = grid_obj.fit(X_train, y_train)\\n\\n# Set the clf to the best combination of parameters\\ngbc_tuned = grid_obj.best_estimator_\\n\\n# Fit the best algorithm to the data.\\ngbc_tuned.fit(X_train, y_train)\";\n",
       "                var nbb_cells = Jupyter.notebook.get_cells();\n",
       "                for (var i = 0; i < nbb_cells.length; ++i) {\n",
       "                    if (nbb_cells[i].input_prompt_number == nbb_cell_id) {\n",
       "                        if (nbb_cells[i].get_text() == nbb_unformatted_code) {\n",
       "                             nbb_cells[i].set_text(nbb_formatted_code);\n",
       "                        }\n",
       "                        break;\n",
       "                    }\n",
       "                }\n",
       "            }, 500);\n",
       "            "
      ],
      "text/plain": [
       "<IPython.core.display.Javascript object>"
      ]
     },
     "metadata": {},
     "output_type": "display_data"
    }
   ],
   "source": [
    "# Choose the type of classifier.\n",
    "gbc_tuned = GradientBoostingClassifier(\n",
    "    init=AdaBoostClassifier(random_state=1), random_state=1\n",
    ")\n",
    "\n",
    "# Grid of parameters to choose from\n",
    "parameters = {\n",
    "    \"n_estimators\": [100, 150, 200, 250],\n",
    "    \"subsample\": [0.8, 0.9, 1],\n",
    "    \"max_features\": [0.7, 0.8, 0.9, 1],\n",
    "    \"learning_rate\": np.arange(0.1, 0.4, 0.1),\n",
    "}\n",
    "\n",
    "# Type of scoring used to compare parameter combinations\n",
    "scorer = make_scorer(f1_score)\n",
    "\n",
    "# Run the grid search\n",
    "grid_obj = GridSearchCV(gbc_tuned, parameters, scoring=scorer, cv=5)\n",
    "grid_obj = grid_obj.fit(X_train, y_train)\n",
    "\n",
    "# Set the clf to the best combination of parameters\n",
    "gbc_tuned = grid_obj.best_estimator_\n",
    "\n",
    "# Fit the best algorithm to the data.\n",
    "gbc_tuned.fit(X_train, y_train)"
   ]
  },
  {
   "cell_type": "code",
   "execution_count": 64,
   "id": "35e693fe",
   "metadata": {},
   "outputs": [
    {
     "name": "stdout",
     "output_type": "stream",
     "text": [
      "Training performance:\n",
      "    Accuracy    Recall  Precision       F1\n",
      "0  0.753869  0.874028   0.781108  0.82496\n",
      "Testing performance:\n",
      "    Accuracy    Recall  Precision        F1\n",
      "0  0.751047  0.868005   0.786776  0.825397\n"
     ]
    },
    {
     "data": {
      "image/png": "[encoded data removed]",
      "text/plain": [
       "<Figure size 432x288 with 2 Axes>"
      ]
     },
     "metadata": {
      "needs_background": "light"
     },
     "output_type": "display_data"
    },
    {
     "data": {
      "application/javascript": [
       "\n",
       "            setTimeout(function() {\n",
       "                var nbb_cell_id = 64;\n",
       "                var nbb_unformatted_code = \"# Calculating different metrics\\ngbc_tuned_model_train_perf = model_performance_classification_sklearn(\\n    gbc_tuned, X_train, y_train\\n)\\nprint(\\\"Training performance:\\\\n\\\", gbc_tuned_model_train_perf)\\ngbc_tuned_model_test_perf = model_performance_classification_sklearn(\\n    gbc_tuned, X_test, y_test\\n)\\nprint(\\\"Testing performance:\\\\n\\\", gbc_tuned_model_test_perf)\\n\\n# Creating confusion matrix\\nconfusion_matrix_sklearn(gbc_tuned, X_test, y_test)\";\n",
       "                var nbb_formatted_code = \"# Calculating different metrics\\ngbc_tuned_model_train_perf = model_performance_classification_sklearn(\\n    gbc_tuned, X_train, y_train\\n)\\nprint(\\\"Training performance:\\\\n\\\", gbc_tuned_model_train_perf)\\ngbc_tuned_model_test_perf = model_performance_classification_sklearn(\\n    gbc_tuned, X_test, y_test\\n)\\nprint(\\\"Testing performance:\\\\n\\\", gbc_tuned_model_test_perf)\\n\\n# Creating confusion matrix\\nconfusion_matrix_sklearn(gbc_tuned, X_test, y_test)\";\n",
       "                var nbb_cells = Jupyter.notebook.get_cells();\n",
       "                for (var i = 0; i < nbb_cells.length; ++i) {\n",
       "                    if (nbb_cells[i].input_prompt_number == nbb_cell_id) {\n",
       "                        if (nbb_cells[i].get_text() == nbb_unformatted_code) {\n",
       "                             nbb_cells[i].set_text(nbb_formatted_code);\n",
       "                        }\n",
       "                        break;\n",
       "                    }\n",
       "                }\n",
       "            }, 500);\n",
       "            "
      ],
      "text/plain": [
       "<IPython.core.display.Javascript object>"
      ]
     },
     "metadata": {},
     "output_type": "display_data"
    }
   ],
   "source": [
    "# Calculating different metrics\n",
    "gbc_tuned_model_train_perf = model_performance_classification_sklearn(\n",
    "    gbc_tuned, X_train, y_train\n",
    ")\n",
    "print(\"Training performance:\\n\", gbc_tuned_model_train_perf)\n",
    "gbc_tuned_model_test_perf = model_performance_classification_sklearn(\n",
    "    gbc_tuned, X_test, y_test\n",
    ")\n",
    "print(\"Testing performance:\\n\", gbc_tuned_model_test_perf)\n",
    "\n",
    "# Creating confusion matrix\n",
    "confusion_matrix_sklearn(gbc_tuned, X_test, y_test)"
   ]
  },
  {
   "cell_type": "markdown",
   "id": "a9864601",
   "metadata": {},
   "source": [
    "* The tuned Gradient Boosting Classifier is giving a very genralized performance on training and testing dataset.\n",
    "* Gradient Boosting Classifier without hyperparameter tuning has a slightly higher performance than this model."
   ]
  },
  {
   "cell_type": "markdown",
   "id": "9bd82c54",
   "metadata": {},
   "source": [
    "### Hyperparameter Tuning - XGBoost Classifier"
   ]
  },
  {
   "cell_type": "code",
   "execution_count": 65,
   "id": "bdb60973",
   "metadata": {},
   "outputs": [
    {
     "data": {
      "text/plain": [
       "XGBClassifier(base_score=0.5, booster='gbtree', colsample_bylevel=1,\n",
       "              colsample_bynode=1, colsample_bytree=0.7,\n",
       "              enable_categorical=False, eval_metric='logloss', gamma=3,\n",
       "              gpu_id=-1, importance_type=None, interaction_constraints='',\n",
       "              learning_rate=0.1, max_delta_step=0, max_depth=6,\n",
       "              min_child_weight=1, missing=nan, monotone_constraints='()',\n",
       "              n_estimators=30, n_jobs=4, num_parallel_tree=1, predictor='auto',\n",
       "              random_state=1, reg_alpha=0, reg_lambda=1, scale_pos_weight=1,\n",
       "              subsample=0.7, tree_method='exact', validate_parameters=1,\n",
       "              verbosity=None)"
      ]
     },
     "execution_count": 65,
     "metadata": {},
     "output_type": "execute_result"
    },
    {
     "data": {
      "application/javascript": [
       "\n",
       "            setTimeout(function() {\n",
       "                var nbb_cell_id = 65;\n",
       "                var nbb_unformatted_code = \"# Choose the type of classifier.\\nxgb_tuned = XGBClassifier(random_state=1, eval_metric=\\\"logloss\\\")\\n\\n# Grid of parameters to choose from\\nparameters = {\\n    \\\"n_estimators\\\": [30, 50, 100],\\n    \\\"scale_pos_weight\\\": [1, 2, 5],\\n    \\\"subsample\\\": [0.7, 0.9, 1],\\n    \\\"gamma\\\": [1, 3, 5],\\n    \\\"learning_rate\\\": [0.05, 0.1, 0.2],\\n    \\\"colsample_bytree\\\": [0.7, 0.9, 1],\\n    \\\"colsample_bylevel\\\": [0.5, 0.7, 1],\\n}\\n\\n# Type of scoring used to compare parameter combinations\\nscorer = make_scorer(f1_score)\\n\\n# Run the grid search\\ngrid_obj = GridSearchCV(xgb_tuned, parameters, scoring=scorer, cv=5)\\ngrid_obj = grid_obj.fit(X_train, y_train)\\n\\n# Set the clf to the best combination of parameters\\nxgb_tuned = grid_obj.best_estimator_\\n\\n# Fit the best algorithm to the data.\\nxgb_tuned.fit(X_train, y_train)\";\n",
       "                var nbb_formatted_code = \"# Choose the type of classifier.\\nxgb_tuned = XGBClassifier(random_state=1, eval_metric=\\\"logloss\\\")\\n\\n# Grid of parameters to choose from\\nparameters = {\\n    \\\"n_estimators\\\": [30, 50, 100],\\n    \\\"scale_pos_weight\\\": [1, 2, 5],\\n    \\\"subsample\\\": [0.7, 0.9, 1],\\n    \\\"gamma\\\": [1, 3, 5],\\n    \\\"learning_rate\\\": [0.05, 0.1, 0.2],\\n    \\\"colsample_bytree\\\": [0.7, 0.9, 1],\\n    \\\"colsample_bylevel\\\": [0.5, 0.7, 1],\\n}\\n\\n# Type of scoring used to compare parameter combinations\\nscorer = make_scorer(f1_score)\\n\\n# Run the grid search\\ngrid_obj = GridSearchCV(xgb_tuned, parameters, scoring=scorer, cv=5)\\ngrid_obj = grid_obj.fit(X_train, y_train)\\n\\n# Set the clf to the best combination of parameters\\nxgb_tuned = grid_obj.best_estimator_\\n\\n# Fit the best algorithm to the data.\\nxgb_tuned.fit(X_train, y_train)\";\n",
       "                var nbb_cells = Jupyter.notebook.get_cells();\n",
       "                for (var i = 0; i < nbb_cells.length; ++i) {\n",
       "                    if (nbb_cells[i].input_prompt_number == nbb_cell_id) {\n",
       "                        if (nbb_cells[i].get_text() == nbb_unformatted_code) {\n",
       "                             nbb_cells[i].set_text(nbb_formatted_code);\n",
       "                        }\n",
       "                        break;\n",
       "                    }\n",
       "                }\n",
       "            }, 500);\n",
       "            "
      ],
      "text/plain": [
       "<IPython.core.display.Javascript object>"
      ]
     },
     "metadata": {},
     "output_type": "display_data"
    }
   ],
   "source": [
    "# Choose the type of classifier.\n",
    "xgb_tuned = XGBClassifier(random_state=1, eval_metric=\"logloss\")\n",
    "\n",
    "# Grid of parameters to choose from\n",
    "parameters = {\n",
    "    \"n_estimators\": [30, 50, 100],\n",
    "    \"scale_pos_weight\": [1, 2, 5],\n",
    "    \"subsample\": [0.7, 0.9, 1],\n",
    "    \"gamma\": [1, 3, 5],\n",
    "    \"learning_rate\": [0.05, 0.1, 0.2],\n",
    "    \"colsample_bytree\": [0.7, 0.9, 1],\n",
    "    \"colsample_bylevel\": [0.5, 0.7, 1],\n",
    "}\n",
    "\n",
    "# Type of scoring used to compare parameter combinations\n",
    "scorer = make_scorer(f1_score)\n",
    "\n",
    "# Run the grid search\n",
    "grid_obj = GridSearchCV(xgb_tuned, parameters, scoring=scorer, cv=5)\n",
    "grid_obj = grid_obj.fit(X_train, y_train)\n",
    "\n",
    "# Set the clf to the best combination of parameters\n",
    "xgb_tuned = grid_obj.best_estimator_\n",
    "\n",
    "# Fit the best algorithm to the data.\n",
    "xgb_tuned.fit(X_train, y_train)"
   ]
  },
  {
   "cell_type": "code",
   "execution_count": 66,
   "id": "3ed7899d",
   "metadata": {},
   "outputs": [
    {
     "name": "stdout",
     "output_type": "stream",
     "text": [
      "Training performance:\n",
      "    Accuracy    Recall  Precision        F1\n",
      "0  0.759587  0.882308   0.782951  0.829666\n",
      "Testing performance:\n",
      "    Accuracy    Recall  Precision        F1\n",
      "0  0.750654  0.871285   0.784672  0.825713\n"
     ]
    },
    {
     "data": {
      "image/png": "[encoded data removed]",
      "text/plain": [
       "<Figure size 432x288 with 2 Axes>"
      ]
     },
     "metadata": {
      "needs_background": "light"
     },
     "output_type": "display_data"
    },
    {
     "data": {
      "application/javascript": [
       "\n",
       "            setTimeout(function() {\n",
       "                var nbb_cell_id = 66;\n",
       "                var nbb_unformatted_code = \"# Calculating different metrics\\nxgb_tuned_model_train_perf = model_performance_classification_sklearn(\\n    xgb_tuned, X_train, y_train\\n)\\nprint(\\\"Training performance:\\\\n\\\", xgb_tuned_model_train_perf)\\nxgb_tuned_model_test_perf = model_performance_classification_sklearn(\\n    xgb_tuned, X_test, y_test\\n)\\nprint(\\\"Testing performance:\\\\n\\\", xgb_tuned_model_test_perf)\\n\\n# Creating confusion matrix\\nconfusion_matrix_sklearn(xgb_tuned, X_test, y_test)\";\n",
       "                var nbb_formatted_code = \"# Calculating different metrics\\nxgb_tuned_model_train_perf = model_performance_classification_sklearn(\\n    xgb_tuned, X_train, y_train\\n)\\nprint(\\\"Training performance:\\\\n\\\", xgb_tuned_model_train_perf)\\nxgb_tuned_model_test_perf = model_performance_classification_sklearn(\\n    xgb_tuned, X_test, y_test\\n)\\nprint(\\\"Testing performance:\\\\n\\\", xgb_tuned_model_test_perf)\\n\\n# Creating confusion matrix\\nconfusion_matrix_sklearn(xgb_tuned, X_test, y_test)\";\n",
       "                var nbb_cells = Jupyter.notebook.get_cells();\n",
       "                for (var i = 0; i < nbb_cells.length; ++i) {\n",
       "                    if (nbb_cells[i].input_prompt_number == nbb_cell_id) {\n",
       "                        if (nbb_cells[i].get_text() == nbb_unformatted_code) {\n",
       "                             nbb_cells[i].set_text(nbb_formatted_code);\n",
       "                        }\n",
       "                        break;\n",
       "                    }\n",
       "                }\n",
       "            }, 500);\n",
       "            "
      ],
      "text/plain": [
       "<IPython.core.display.Javascript object>"
      ]
     },
     "metadata": {},
     "output_type": "display_data"
    }
   ],
   "source": [
    "# Calculating different metrics\n",
    "xgb_tuned_model_train_perf = model_performance_classification_sklearn(\n",
    "    xgb_tuned, X_train, y_train\n",
    ")\n",
    "print(\"Training performance:\\n\", xgb_tuned_model_train_perf)\n",
    "xgb_tuned_model_test_perf = model_performance_classification_sklearn(\n",
    "    xgb_tuned, X_test, y_test\n",
    ")\n",
    "print(\"Testing performance:\\n\", xgb_tuned_model_test_perf)\n",
    "\n",
    "# Creating confusion matrix\n",
    "confusion_matrix_sklearn(xgb_tuned, X_test, y_test)"
   ]
  },
  {
   "cell_type": "markdown",
   "id": "1e1eeada",
   "metadata": {},
   "source": [
    "* The tuned XGBoost model is giving a generalized performance on training and testing dataset with a good F1 score of 82.57%."
   ]
  },
  {
   "cell_type": "markdown",
   "id": "609f850b",
   "metadata": {},
   "source": [
    "### Stacking Classifier"
   ]
  },
  {
   "cell_type": "code",
   "execution_count": 67,
   "id": "023773e5",
   "metadata": {},
   "outputs": [
    {
     "data": {
      "text/plain": [
       "StackingClassifier(estimators=[('Decision Tree - Tuned',\n",
       "                                DecisionTreeClassifier(class_weight='balanced',\n",
       "                                                       max_depth=10,\n",
       "                                                       max_leaf_nodes=2,\n",
       "                                                       min_impurity_decrease=0.0001,\n",
       "                                                       min_samples_leaf=3,\n",
       "                                                       random_state=1)),\n",
       "                               ('AdaBoost', AdaBoostClassifier(random_state=1)),\n",
       "                               ('Gradient Boost',\n",
       "                                GradientBoostingClassifier(init=AdaBoostClassifier(random_state=1),\n",
       "                                                           max_features=0.9,\n",
       "                                                           random...\n",
       "                                                 gpu_id=-1,\n",
       "                                                 importance_type=None,\n",
       "                                                 interaction_constraints='',\n",
       "                                                 learning_rate=0.1,\n",
       "                                                 max_delta_step=0, max_depth=6,\n",
       "                                                 min_child_weight=1,\n",
       "                                                 missing=nan,\n",
       "                                                 monotone_constraints='()',\n",
       "                                                 n_estimators=30, n_jobs=4,\n",
       "                                                 num_parallel_tree=1,\n",
       "                                                 predictor='auto',\n",
       "                                                 random_state=1, reg_alpha=0,\n",
       "                                                 reg_lambda=1,\n",
       "                                                 scale_pos_weight=1,\n",
       "                                                 subsample=0.7,\n",
       "                                                 tree_method='exact',\n",
       "                                                 validate_parameters=1,\n",
       "                                                 verbosity=None))"
      ]
     },
     "execution_count": 67,
     "metadata": {},
     "output_type": "execute_result"
    },
    {
     "data": {
      "application/javascript": [
       "\n",
       "            setTimeout(function() {\n",
       "                var nbb_cell_id = 67;\n",
       "                var nbb_unformatted_code = \"estimators = [\\n    (\\\"Decision Tree - Tuned\\\", dtree_estimator),\\n    (\\\"AdaBoost\\\", ab_classifier),\\n    (\\\"Gradient Boost\\\", gbc_tuned),\\n]\\n\\nfinal_estimator = xgb_tuned\\n\\nstacking_classifier = StackingClassifier(\\n    estimators=estimators, final_estimator=final_estimator\\n)\\n\\nstacking_classifier.fit(X_train, y_train)\";\n",
       "                var nbb_formatted_code = \"estimators = [\\n    (\\\"Decision Tree - Tuned\\\", dtree_estimator),\\n    (\\\"AdaBoost\\\", ab_classifier),\\n    (\\\"Gradient Boost\\\", gbc_tuned),\\n]\\n\\nfinal_estimator = xgb_tuned\\n\\nstacking_classifier = StackingClassifier(\\n    estimators=estimators, final_estimator=final_estimator\\n)\\n\\nstacking_classifier.fit(X_train, y_train)\";\n",
       "                var nbb_cells = Jupyter.notebook.get_cells();\n",
       "                for (var i = 0; i < nbb_cells.length; ++i) {\n",
       "                    if (nbb_cells[i].input_prompt_number == nbb_cell_id) {\n",
       "                        if (nbb_cells[i].get_text() == nbb_unformatted_code) {\n",
       "                             nbb_cells[i].set_text(nbb_formatted_code);\n",
       "                        }\n",
       "                        break;\n",
       "                    }\n",
       "                }\n",
       "            }, 500);\n",
       "            "
      ],
      "text/plain": [
       "<IPython.core.display.Javascript object>"
      ]
     },
     "metadata": {},
     "output_type": "display_data"
    }
   ],
   "source": [
    "estimators = [\n",
    "    (\"Decision Tree - Tuned\", dtree_estimator),\n",
    "    (\"AdaBoost\", ab_classifier),\n",
    "    (\"Gradient Boost\", gbc_tuned),\n",
    "]\n",
    "\n",
    "final_estimator = xgb_tuned\n",
    "\n",
    "stacking_classifier = StackingClassifier(\n",
    "    estimators=estimators, final_estimator=final_estimator\n",
    ")\n",
    "\n",
    "stacking_classifier.fit(X_train, y_train)"
   ]
  },
  {
   "cell_type": "code",
   "execution_count": 68,
   "id": "6bd30568",
   "metadata": {},
   "outputs": [
    {
     "name": "stdout",
     "output_type": "stream",
     "text": [
      "Training performance:\n",
      "    Accuracy    Recall  Precision        F1\n",
      "0  0.754878  0.866509   0.786021  0.824305\n",
      "Testing performance:\n",
      "    Accuracy  Recall  Precision        F1\n",
      "0  0.750654  0.8599   0.790632  0.823812\n"
     ]
    },
    {
     "data": {
      "image/png": "[encoded data removed]",
      "text/plain": [
       "<Figure size 432x288 with 2 Axes>"
      ]
     },
     "metadata": {
      "needs_background": "light"
     },
     "output_type": "display_data"
    },
    {
     "data": {
      "application/javascript": [
       "\n",
       "            setTimeout(function() {\n",
       "                var nbb_cell_id = 68;\n",
       "                var nbb_unformatted_code = \"# Calculating different metrics\\nstacking_classifier_model_train_perf = model_performance_classification_sklearn(\\n    stacking_classifier, X_train, y_train\\n)\\nprint(\\\"Training performance:\\\\n\\\", stacking_classifier_model_train_perf)\\nstacking_classifier_model_test_perf = model_performance_classification_sklearn(\\n    stacking_classifier, X_test, y_test\\n)\\nprint(\\\"Testing performance:\\\\n\\\", stacking_classifier_model_test_perf)\\n\\n# Creating confusion matrix\\nconfusion_matrix_sklearn(stacking_classifier, X_test, y_test)\";\n",
       "                var nbb_formatted_code = \"# Calculating different metrics\\nstacking_classifier_model_train_perf = model_performance_classification_sklearn(\\n    stacking_classifier, X_train, y_train\\n)\\nprint(\\\"Training performance:\\\\n\\\", stacking_classifier_model_train_perf)\\nstacking_classifier_model_test_perf = model_performance_classification_sklearn(\\n    stacking_classifier, X_test, y_test\\n)\\nprint(\\\"Testing performance:\\\\n\\\", stacking_classifier_model_test_perf)\\n\\n# Creating confusion matrix\\nconfusion_matrix_sklearn(stacking_classifier, X_test, y_test)\";\n",
       "                var nbb_cells = Jupyter.notebook.get_cells();\n",
       "                for (var i = 0; i < nbb_cells.length; ++i) {\n",
       "                    if (nbb_cells[i].input_prompt_number == nbb_cell_id) {\n",
       "                        if (nbb_cells[i].get_text() == nbb_unformatted_code) {\n",
       "                             nbb_cells[i].set_text(nbb_formatted_code);\n",
       "                        }\n",
       "                        break;\n",
       "                    }\n",
       "                }\n",
       "            }, 500);\n",
       "            "
      ],
      "text/plain": [
       "<IPython.core.display.Javascript object>"
      ]
     },
     "metadata": {},
     "output_type": "display_data"
    }
   ],
   "source": [
    "# Calculating different metrics\n",
    "stacking_classifier_model_train_perf = model_performance_classification_sklearn(\n",
    "    stacking_classifier, X_train, y_train\n",
    ")\n",
    "print(\"Training performance:\\n\", stacking_classifier_model_train_perf)\n",
    "stacking_classifier_model_test_perf = model_performance_classification_sklearn(\n",
    "    stacking_classifier, X_test, y_test\n",
    ")\n",
    "print(\"Testing performance:\\n\", stacking_classifier_model_test_perf)\n",
    "\n",
    "# Creating confusion matrix\n",
    "confusion_matrix_sklearn(stacking_classifier, X_test, y_test)"
   ]
  },
  {
   "cell_type": "markdown",
   "id": "d960fa20",
   "metadata": {
    "id": "banned-difficulty"
   },
   "source": [
    "* Stacking Classifier is giving a genralized performance similar to tuned XGBoost and Gradient Boosting classifier."
   ]
  },
  {
   "cell_type": "markdown",
   "id": "obvious-maine",
   "metadata": {
    "id": "obvious-maine"
   },
   "source": [
    "## Model Performance Comparison and Conclusions"
   ]
  },
  {
   "cell_type": "code",
   "execution_count": 69,
   "id": "everyday-kinase",
   "metadata": {
    "id": "everyday-kinase"
   },
   "outputs": [
    {
     "name": "stdout",
     "output_type": "stream",
     "text": [
      "Training performance comparison:\n"
     ]
    },
    {
     "data": {
      "text/html": [
       "<div>\n",
       "<style scoped>\n",
       "    .dataframe tbody tr th:only-of-type {\n",
       "        vertical-align: middle;\n",
       "    }\n",
       "\n",
       "    .dataframe tbody tr th {\n",
       "        vertical-align: top;\n",
       "    }\n",
       "\n",
       "    .dataframe thead th {\n",
       "        text-align: right;\n",
       "    }\n",
       "</style>\n",
       "<table border=\"1\" class=\"dataframe\">\n",
       "  <thead>\n",
       "    <tr style=\"text-align: right;\">\n",
       "      <th></th>\n",
       "      <th>Decision Tree</th>\n",
       "      <th>Decision Tree Tuned</th>\n",
       "      <th>Random Forest Estimator</th>\n",
       "      <th>Random Forest Tuned</th>\n",
       "      <th>Bagging Classifier</th>\n",
       "      <th>Bagging Estimator Tuned</th>\n",
       "      <th>Adaboost Classifier</th>\n",
       "      <th>Adabosst Classifier Tuned</th>\n",
       "      <th>Gradient Boost Classifier</th>\n",
       "      <th>Gradient Boost Classifier Tuned</th>\n",
       "      <th>XGBoost Classifier</th>\n",
       "      <th>XGBoost Classifier Tuned</th>\n",
       "      <th>Stacking Classifier</th>\n",
       "    </tr>\n",
       "  </thead>\n",
       "  <tbody>\n",
       "    <tr>\n",
       "      <th>Accuracy</th>\n",
       "      <td>1.0</td>\n",
       "      <td>0.707950</td>\n",
       "      <td>0.999944</td>\n",
       "      <td>0.723200</td>\n",
       "      <td>0.982003</td>\n",
       "      <td>0.976284</td>\n",
       "      <td>0.736488</td>\n",
       "      <td>0.718210</td>\n",
       "      <td>0.755102</td>\n",
       "      <td>0.753869</td>\n",
       "      <td>0.821092</td>\n",
       "      <td>0.759587</td>\n",
       "      <td>0.754878</td>\n",
       "    </tr>\n",
       "    <tr>\n",
       "      <th>Recall</th>\n",
       "      <td>1.0</td>\n",
       "      <td>0.931734</td>\n",
       "      <td>1.000000</td>\n",
       "      <td>0.772981</td>\n",
       "      <td>0.983018</td>\n",
       "      <td>0.998986</td>\n",
       "      <td>0.885012</td>\n",
       "      <td>0.780416</td>\n",
       "      <td>0.873268</td>\n",
       "      <td>0.874028</td>\n",
       "      <td>0.919905</td>\n",
       "      <td>0.882308</td>\n",
       "      <td>0.866509</td>\n",
       "    </tr>\n",
       "    <tr>\n",
       "      <th>Precision</th>\n",
       "      <td>1.0</td>\n",
       "      <td>0.714758</td>\n",
       "      <td>0.999916</td>\n",
       "      <td>0.802614</td>\n",
       "      <td>0.989792</td>\n",
       "      <td>0.966408</td>\n",
       "      <td>0.758289</td>\n",
       "      <td>0.791924</td>\n",
       "      <td>0.782793</td>\n",
       "      <td>0.781108</td>\n",
       "      <td>0.829183</td>\n",
       "      <td>0.782951</td>\n",
       "      <td>0.786021</td>\n",
       "    </tr>\n",
       "    <tr>\n",
       "      <th>F1</th>\n",
       "      <td>1.0</td>\n",
       "      <td>0.808949</td>\n",
       "      <td>0.999958</td>\n",
       "      <td>0.787519</td>\n",
       "      <td>0.986393</td>\n",
       "      <td>0.982427</td>\n",
       "      <td>0.816764</td>\n",
       "      <td>0.786128</td>\n",
       "      <td>0.825559</td>\n",
       "      <td>0.824960</td>\n",
       "      <td>0.872191</td>\n",
       "      <td>0.829666</td>\n",
       "      <td>0.824305</td>\n",
       "    </tr>\n",
       "  </tbody>\n",
       "</table>\n",
       "</div>"
      ],
      "text/plain": [
       "           Decision Tree  Decision Tree Tuned  Random Forest Estimator  \\\n",
       "Accuracy             1.0             0.707950                 0.999944   \n",
       "Recall               1.0             0.931734                 1.000000   \n",
       "Precision            1.0             0.714758                 0.999916   \n",
       "F1                   1.0             0.808949                 0.999958   \n",
       "\n",
       "           Random Forest Tuned  Bagging Classifier  Bagging Estimator Tuned  \\\n",
       "Accuracy              0.723200            0.982003                 0.976284   \n",
       "Recall                0.772981            0.983018                 0.998986   \n",
       "Precision             0.802614            0.989792                 0.966408   \n",
       "F1                    0.787519            0.986393                 0.982427   \n",
       "\n",
       "           Adaboost Classifier  Adabosst Classifier Tuned  \\\n",
       "Accuracy              0.736488                   0.718210   \n",
       "Recall                0.885012                   0.780416   \n",
       "Precision             0.758289                   0.791924   \n",
       "F1                    0.816764                   0.786128   \n",
       "\n",
       "           Gradient Boost Classifier  Gradient Boost Classifier Tuned  \\\n",
       "Accuracy                    0.755102                         0.753869   \n",
       "Recall                      0.873268                         0.874028   \n",
       "Precision                   0.782793                         0.781108   \n",
       "F1                          0.825559                         0.824960   \n",
       "\n",
       "           XGBoost Classifier  XGBoost Classifier Tuned  Stacking Classifier  \n",
       "Accuracy             0.821092                  0.759587             0.754878  \n",
       "Recall               0.919905                  0.882308             0.866509  \n",
       "Precision            0.829183                  0.782951             0.786021  \n",
       "F1                   0.872191                  0.829666             0.824305  "
      ]
     },
     "execution_count": 69,
     "metadata": {},
     "output_type": "execute_result"
    },
    {
     "data": {
      "application/javascript": [
       "\n",
       "            setTimeout(function() {\n",
       "                var nbb_cell_id = 69;\n",
       "                var nbb_unformatted_code = \"# training performance comparison\\n\\nmodels_train_comp_df = pd.concat(\\n    [\\n        d_tree_model_train_perf.T,\\n        dtree_estimator_model_train_perf.T,\\n        rf_estimator_model_train_perf.T,\\n        rf_tuned_model_train_perf.T,\\n        bagging_classifier_model_train_perf.T,\\n        bagging_estimator_tuned_model_train_perf.T,\\n        ab_classifier_model_train_perf.T,\\n        abc_tuned_model_train_perf.T,\\n        gb_classifier_model_train_perf.T,\\n        gbc_tuned_model_train_perf.T,\\n        xgb_classifier_model_train_perf.T,\\n        xgb_tuned_model_train_perf.T,\\n        stacking_classifier_model_train_perf.T,\\n    ],\\n    axis=1,\\n)\\nmodels_train_comp_df.columns = [\\n    \\\"Decision Tree\\\",\\n    \\\"Decision Tree Tuned\\\",\\n    \\\"Random Forest Estimator\\\",\\n    \\\"Random Forest Tuned\\\",\\n    \\\"Bagging Classifier\\\",\\n    \\\"Bagging Estimator Tuned\\\",\\n    \\\"Adaboost Classifier\\\",\\n    \\\"Adabosst Classifier Tuned\\\",\\n    \\\"Gradient Boost Classifier\\\",\\n    \\\"Gradient Boost Classifier Tuned\\\",\\n    \\\"XGBoost Classifier\\\",\\n    \\\"XGBoost Classifier Tuned\\\",\\n    \\\"Stacking Classifier\\\",\\n]\\nprint(\\\"Training performance comparison:\\\")\\nmodels_train_comp_df\";\n",
       "                var nbb_formatted_code = \"# training performance comparison\\n\\nmodels_train_comp_df = pd.concat(\\n    [\\n        d_tree_model_train_perf.T,\\n        dtree_estimator_model_train_perf.T,\\n        rf_estimator_model_train_perf.T,\\n        rf_tuned_model_train_perf.T,\\n        bagging_classifier_model_train_perf.T,\\n        bagging_estimator_tuned_model_train_perf.T,\\n        ab_classifier_model_train_perf.T,\\n        abc_tuned_model_train_perf.T,\\n        gb_classifier_model_train_perf.T,\\n        gbc_tuned_model_train_perf.T,\\n        xgb_classifier_model_train_perf.T,\\n        xgb_tuned_model_train_perf.T,\\n        stacking_classifier_model_train_perf.T,\\n    ],\\n    axis=1,\\n)\\nmodels_train_comp_df.columns = [\\n    \\\"Decision Tree\\\",\\n    \\\"Decision Tree Tuned\\\",\\n    \\\"Random Forest Estimator\\\",\\n    \\\"Random Forest Tuned\\\",\\n    \\\"Bagging Classifier\\\",\\n    \\\"Bagging Estimator Tuned\\\",\\n    \\\"Adaboost Classifier\\\",\\n    \\\"Adabosst Classifier Tuned\\\",\\n    \\\"Gradient Boost Classifier\\\",\\n    \\\"Gradient Boost Classifier Tuned\\\",\\n    \\\"XGBoost Classifier\\\",\\n    \\\"XGBoost Classifier Tuned\\\",\\n    \\\"Stacking Classifier\\\",\\n]\\nprint(\\\"Training performance comparison:\\\")\\nmodels_train_comp_df\";\n",
       "                var nbb_cells = Jupyter.notebook.get_cells();\n",
       "                for (var i = 0; i < nbb_cells.length; ++i) {\n",
       "                    if (nbb_cells[i].input_prompt_number == nbb_cell_id) {\n",
       "                        if (nbb_cells[i].get_text() == nbb_unformatted_code) {\n",
       "                             nbb_cells[i].set_text(nbb_formatted_code);\n",
       "                        }\n",
       "                        break;\n",
       "                    }\n",
       "                }\n",
       "            }, 500);\n",
       "            "
      ],
      "text/plain": [
       "<IPython.core.display.Javascript object>"
      ]
     },
     "metadata": {},
     "output_type": "display_data"
    }
   ],
   "source": [
    "# training performance comparison\n",
    "\n",
    "models_train_comp_df = pd.concat(\n",
    "    [\n",
    "        d_tree_model_train_perf.T,\n",
    "        dtree_estimator_model_train_perf.T,\n",
    "        rf_estimator_model_train_perf.T,\n",
    "        rf_tuned_model_train_perf.T,\n",
    "        bagging_classifier_model_train_perf.T,\n",
    "        bagging_estimator_tuned_model_train_perf.T,\n",
    "        ab_classifier_model_train_perf.T,\n",
    "        abc_tuned_model_train_perf.T,\n",
    "        gb_classifier_model_train_perf.T,\n",
    "        gbc_tuned_model_train_perf.T,\n",
    "        xgb_classifier_model_train_perf.T,\n",
    "        xgb_tuned_model_train_perf.T,\n",
    "        stacking_classifier_model_train_perf.T,\n",
    "    ],\n",
    "    axis=1,\n",
    ")\n",
    "models_train_comp_df.columns = [\n",
    "    \"Decision Tree\",\n",
    "    \"Decision Tree Tuned\",\n",
    "    \"Random Forest Estimator\",\n",
    "    \"Random Forest Tuned\",\n",
    "    \"Bagging Classifier\",\n",
    "    \"Bagging Estimator Tuned\",\n",
    "    \"Adaboost Classifier\",\n",
    "    \"Adabosst Classifier Tuned\",\n",
    "    \"Gradient Boost Classifier\",\n",
    "    \"Gradient Boost Classifier Tuned\",\n",
    "    \"XGBoost Classifier\",\n",
    "    \"XGBoost Classifier Tuned\",\n",
    "    \"Stacking Classifier\",\n",
    "]\n",
    "print(\"Training performance comparison:\")\n",
    "models_train_comp_df"
   ]
  },
  {
   "cell_type": "code",
   "execution_count": 70,
   "id": "40e8224c",
   "metadata": {},
   "outputs": [
    {
     "name": "stdout",
     "output_type": "stream",
     "text": [
      "Testing performance comparison:\n"
     ]
    },
    {
     "data": {
      "text/html": [
       "<div>\n",
       "<style scoped>\n",
       "    .dataframe tbody tr th:only-of-type {\n",
       "        vertical-align: middle;\n",
       "    }\n",
       "\n",
       "    .dataframe tbody tr th {\n",
       "        vertical-align: top;\n",
       "    }\n",
       "\n",
       "    .dataframe thead th {\n",
       "        text-align: right;\n",
       "    }\n",
       "</style>\n",
       "<table border=\"1\" class=\"dataframe\">\n",
       "  <thead>\n",
       "    <tr style=\"text-align: right;\">\n",
       "      <th></th>\n",
       "      <th>Decision Tree</th>\n",
       "      <th>Decision Tree Tuned</th>\n",
       "      <th>Random Forest Estimator</th>\n",
       "      <th>Random Forest Tuned</th>\n",
       "      <th>Bagging Classifier</th>\n",
       "      <th>Bagging Estimator Tuned</th>\n",
       "      <th>Adaboost Classifier</th>\n",
       "      <th>Adabosst Classifier Tuned</th>\n",
       "      <th>Gradient Boost Classifier</th>\n",
       "      <th>Gradient Boost Classifier Tuned</th>\n",
       "      <th>XGBoost Classifier</th>\n",
       "      <th>XGBoost Classifier Tuned</th>\n",
       "      <th>Stacking Classifier</th>\n",
       "    </tr>\n",
       "  </thead>\n",
       "  <tbody>\n",
       "    <tr>\n",
       "      <th>Accuracy</th>\n",
       "      <td>0.659210</td>\n",
       "      <td>0.717295</td>\n",
       "      <td>0.717425</td>\n",
       "      <td>0.720434</td>\n",
       "      <td>0.690084</td>\n",
       "      <td>0.730769</td>\n",
       "      <td>0.739273</td>\n",
       "      <td>0.718472</td>\n",
       "      <td>0.752486</td>\n",
       "      <td>0.751047</td>\n",
       "      <td>0.735871</td>\n",
       "      <td>0.750654</td>\n",
       "      <td>0.750654</td>\n",
       "    </tr>\n",
       "    <tr>\n",
       "      <th>Recall</th>\n",
       "      <td>0.737360</td>\n",
       "      <td>0.931301</td>\n",
       "      <td>0.823234</td>\n",
       "      <td>0.770745</td>\n",
       "      <td>0.765342</td>\n",
       "      <td>0.888653</td>\n",
       "      <td>0.885565</td>\n",
       "      <td>0.783674</td>\n",
       "      <td>0.867426</td>\n",
       "      <td>0.868005</td>\n",
       "      <td>0.851602</td>\n",
       "      <td>0.871285</td>\n",
       "      <td>0.859900</td>\n",
       "    </tr>\n",
       "    <tr>\n",
       "      <th>Precision</th>\n",
       "      <td>0.754393</td>\n",
       "      <td>0.727794</td>\n",
       "      <td>0.774229</td>\n",
       "      <td>0.808011</td>\n",
       "      <td>0.774761</td>\n",
       "      <td>0.756655</td>\n",
       "      <td>0.766238</td>\n",
       "      <td>0.797526</td>\n",
       "      <td>0.788596</td>\n",
       "      <td>0.786776</td>\n",
       "      <td>0.779269</td>\n",
       "      <td>0.784672</td>\n",
       "      <td>0.790632</td>\n",
       "    </tr>\n",
       "    <tr>\n",
       "      <th>F1</th>\n",
       "      <td>0.745779</td>\n",
       "      <td>0.817066</td>\n",
       "      <td>0.797980</td>\n",
       "      <td>0.788938</td>\n",
       "      <td>0.770022</td>\n",
       "      <td>0.817359</td>\n",
       "      <td>0.821592</td>\n",
       "      <td>0.790539</td>\n",
       "      <td>0.826135</td>\n",
       "      <td>0.825397</td>\n",
       "      <td>0.813831</td>\n",
       "      <td>0.825713</td>\n",
       "      <td>0.823812</td>\n",
       "    </tr>\n",
       "  </tbody>\n",
       "</table>\n",
       "</div>"
      ],
      "text/plain": [
       "           Decision Tree  Decision Tree Tuned  Random Forest Estimator  \\\n",
       "Accuracy        0.659210             0.717295                 0.717425   \n",
       "Recall          0.737360             0.931301                 0.823234   \n",
       "Precision       0.754393             0.727794                 0.774229   \n",
       "F1              0.745779             0.817066                 0.797980   \n",
       "\n",
       "           Random Forest Tuned  Bagging Classifier  Bagging Estimator Tuned  \\\n",
       "Accuracy              0.720434            0.690084                 0.730769   \n",
       "Recall                0.770745            0.765342                 0.888653   \n",
       "Precision             0.808011            0.774761                 0.756655   \n",
       "F1                    0.788938            0.770022                 0.817359   \n",
       "\n",
       "           Adaboost Classifier  Adabosst Classifier Tuned  \\\n",
       "Accuracy              0.739273                   0.718472   \n",
       "Recall                0.885565                   0.783674   \n",
       "Precision             0.766238                   0.797526   \n",
       "F1                    0.821592                   0.790539   \n",
       "\n",
       "           Gradient Boost Classifier  Gradient Boost Classifier Tuned  \\\n",
       "Accuracy                    0.752486                         0.751047   \n",
       "Recall                      0.867426                         0.868005   \n",
       "Precision                   0.788596                         0.786776   \n",
       "F1                          0.826135                         0.825397   \n",
       "\n",
       "           XGBoost Classifier  XGBoost Classifier Tuned  Stacking Classifier  \n",
       "Accuracy             0.735871                  0.750654             0.750654  \n",
       "Recall               0.851602                  0.871285             0.859900  \n",
       "Precision            0.779269                  0.784672             0.790632  \n",
       "F1                   0.813831                  0.825713             0.823812  "
      ]
     },
     "execution_count": 70,
     "metadata": {},
     "output_type": "execute_result"
    },
    {
     "data": {
      "application/javascript": [
       "\n",
       "            setTimeout(function() {\n",
       "                var nbb_cell_id = 70;\n",
       "                var nbb_unformatted_code = \"# testing performance comparison\\n\\nmodels_test_comp_df = pd.concat(\\n    [\\n        d_tree_model_test_perf.T,\\n        dtree_estimator_model_test_perf.T,\\n        rf_estimator_model_test_perf.T,\\n        rf_tuned_model_test_perf.T,\\n        bagging_classifier_model_test_perf.T,\\n        bagging_estimator_tuned_model_test_perf.T,\\n        ab_classifier_model_test_perf.T,\\n        abc_tuned_model_test_perf.T,\\n        gb_classifier_model_test_perf.T,\\n        gbc_tuned_model_test_perf.T,\\n        xgb_classifier_model_test_perf.T,\\n        xgb_tuned_model_test_perf.T,\\n        stacking_classifier_model_test_perf.T,\\n    ],\\n    axis=1,\\n)\\nmodels_test_comp_df.columns = [\\n    \\\"Decision Tree\\\",\\n    \\\"Decision Tree Tuned\\\",\\n    \\\"Random Forest Estimator\\\",\\n    \\\"Random Forest Tuned\\\",\\n    \\\"Bagging Classifier\\\",\\n    \\\"Bagging Estimator Tuned\\\",\\n    \\\"Adaboost Classifier\\\",\\n    \\\"Adabosst Classifier Tuned\\\",\\n    \\\"Gradient Boost Classifier\\\",\\n    \\\"Gradient Boost Classifier Tuned\\\",\\n    \\\"XGBoost Classifier\\\",\\n    \\\"XGBoost Classifier Tuned\\\",\\n    \\\"Stacking Classifier\\\",\\n]\\nprint(\\\"Testing performance comparison:\\\")\\nmodels_test_comp_df\";\n",
       "                var nbb_formatted_code = \"# testing performance comparison\\n\\nmodels_test_comp_df = pd.concat(\\n    [\\n        d_tree_model_test_perf.T,\\n        dtree_estimator_model_test_perf.T,\\n        rf_estimator_model_test_perf.T,\\n        rf_tuned_model_test_perf.T,\\n        bagging_classifier_model_test_perf.T,\\n        bagging_estimator_tuned_model_test_perf.T,\\n        ab_classifier_model_test_perf.T,\\n        abc_tuned_model_test_perf.T,\\n        gb_classifier_model_test_perf.T,\\n        gbc_tuned_model_test_perf.T,\\n        xgb_classifier_model_test_perf.T,\\n        xgb_tuned_model_test_perf.T,\\n        stacking_classifier_model_test_perf.T,\\n    ],\\n    axis=1,\\n)\\nmodels_test_comp_df.columns = [\\n    \\\"Decision Tree\\\",\\n    \\\"Decision Tree Tuned\\\",\\n    \\\"Random Forest Estimator\\\",\\n    \\\"Random Forest Tuned\\\",\\n    \\\"Bagging Classifier\\\",\\n    \\\"Bagging Estimator Tuned\\\",\\n    \\\"Adaboost Classifier\\\",\\n    \\\"Adabosst Classifier Tuned\\\",\\n    \\\"Gradient Boost Classifier\\\",\\n    \\\"Gradient Boost Classifier Tuned\\\",\\n    \\\"XGBoost Classifier\\\",\\n    \\\"XGBoost Classifier Tuned\\\",\\n    \\\"Stacking Classifier\\\",\\n]\\nprint(\\\"Testing performance comparison:\\\")\\nmodels_test_comp_df\";\n",
       "                var nbb_cells = Jupyter.notebook.get_cells();\n",
       "                for (var i = 0; i < nbb_cells.length; ++i) {\n",
       "                    if (nbb_cells[i].input_prompt_number == nbb_cell_id) {\n",
       "                        if (nbb_cells[i].get_text() == nbb_unformatted_code) {\n",
       "                             nbb_cells[i].set_text(nbb_formatted_code);\n",
       "                        }\n",
       "                        break;\n",
       "                    }\n",
       "                }\n",
       "            }, 500);\n",
       "            "
      ],
      "text/plain": [
       "<IPython.core.display.Javascript object>"
      ]
     },
     "metadata": {},
     "output_type": "display_data"
    }
   ],
   "source": [
    "# testing performance comparison\n",
    "\n",
    "models_test_comp_df = pd.concat(\n",
    "    [\n",
    "        d_tree_model_test_perf.T,\n",
    "        dtree_estimator_model_test_perf.T,\n",
    "        rf_estimator_model_test_perf.T,\n",
    "        rf_tuned_model_test_perf.T,\n",
    "        bagging_classifier_model_test_perf.T,\n",
    "        bagging_estimator_tuned_model_test_perf.T,\n",
    "        ab_classifier_model_test_perf.T,\n",
    "        abc_tuned_model_test_perf.T,\n",
    "        gb_classifier_model_test_perf.T,\n",
    "        gbc_tuned_model_test_perf.T,\n",
    "        xgb_classifier_model_test_perf.T,\n",
    "        xgb_tuned_model_test_perf.T,\n",
    "        stacking_classifier_model_test_perf.T,\n",
    "    ],\n",
    "    axis=1,\n",
    ")\n",
    "models_test_comp_df.columns = [\n",
    "    \"Decision Tree\",\n",
    "    \"Decision Tree Tuned\",\n",
    "    \"Random Forest Estimator\",\n",
    "    \"Random Forest Tuned\",\n",
    "    \"Bagging Classifier\",\n",
    "    \"Bagging Estimator Tuned\",\n",
    "    \"Adaboost Classifier\",\n",
    "    \"Adabosst Classifier Tuned\",\n",
    "    \"Gradient Boost Classifier\",\n",
    "    \"Gradient Boost Classifier Tuned\",\n",
    "    \"XGBoost Classifier\",\n",
    "    \"XGBoost Classifier Tuned\",\n",
    "    \"Stacking Classifier\",\n",
    "]\n",
    "print(\"Testing performance comparison:\")\n",
    "models_test_comp_df"
   ]
  },
  {
   "cell_type": "markdown",
   "id": "bb725460",
   "metadata": {},
   "source": [
    "* The majority of the models are performing well in terms of F1 score.\n",
    "* Gradient Boosting Classifier has the highest F1 score of 82.61%. The tuned XGBoost classifier also gives a similar performance with 82.57% of F1 score."
   ]
  },
  {
   "cell_type": "markdown",
   "id": "adcc6bf3",
   "metadata": {},
   "source": [
    "### Feature importance of Gradient Boost Classifier"
   ]
  },
  {
   "cell_type": "code",
   "execution_count": 71,
   "id": "4716c321",
   "metadata": {},
   "outputs": [
    {
     "data": {
      "image/png": "[encoded data removed]",
      "text/plain": [
       "<Figure size 864x864 with 1 Axes>"
      ]
     },
     "metadata": {
      "needs_background": "light"
     },
     "output_type": "display_data"
    },
    {
     "data": {
      "application/javascript": [
       "\n",
       "            setTimeout(function() {\n",
       "                var nbb_cell_id = 71;\n",
       "                var nbb_unformatted_code = \"feature_names = X_train.columns\\nimportances = gb_classifier.feature_importances_\\nindices = np.argsort(importances)\\n\\nplt.figure(figsize=(12, 12))\\nplt.title(\\\"Feature Importances\\\")\\nplt.barh(range(len(indices)), importances[indices], color=\\\"violet\\\", align=\\\"center\\\")\\nplt.yticks(range(len(indices)), [feature_names[i] for i in indices])\\nplt.xlabel(\\\"Relative Importance\\\")\\nplt.show()\";\n",
       "                var nbb_formatted_code = \"feature_names = X_train.columns\\nimportances = gb_classifier.feature_importances_\\nindices = np.argsort(importances)\\n\\nplt.figure(figsize=(12, 12))\\nplt.title(\\\"Feature Importances\\\")\\nplt.barh(range(len(indices)), importances[indices], color=\\\"violet\\\", align=\\\"center\\\")\\nplt.yticks(range(len(indices)), [feature_names[i] for i in indices])\\nplt.xlabel(\\\"Relative Importance\\\")\\nplt.show()\";\n",
       "                var nbb_cells = Jupyter.notebook.get_cells();\n",
       "                for (var i = 0; i < nbb_cells.length; ++i) {\n",
       "                    if (nbb_cells[i].input_prompt_number == nbb_cell_id) {\n",
       "                        if (nbb_cells[i].get_text() == nbb_unformatted_code) {\n",
       "                             nbb_cells[i].set_text(nbb_formatted_code);\n",
       "                        }\n",
       "                        break;\n",
       "                    }\n",
       "                }\n",
       "            }, 500);\n",
       "            "
      ],
      "text/plain": [
       "<IPython.core.display.Javascript object>"
      ]
     },
     "metadata": {},
     "output_type": "display_data"
    }
   ],
   "source": [
    "feature_names = X_train.columns\n",
    "importances = gb_classifier.feature_importances_\n",
    "indices = np.argsort(importances)\n",
    "\n",
    "plt.figure(figsize=(12, 12))\n",
    "plt.title(\"Feature Importances\")\n",
    "plt.barh(range(len(indices)), importances[indices], color=\"violet\", align=\"center\")\n",
    "plt.yticks(range(len(indices)), [feature_names[i] for i in indices])\n",
    "plt.xlabel(\"Relative Importance\")\n",
    "plt.show()"
   ]
  },
  {
   "cell_type": "markdown",
   "id": "278dd916",
   "metadata": {},
   "source": [
    "* As per the Gradient Boosting classifier, education_of_employee_High School is the most important feature in predicting the visa cases followed by has_job_experience_Y and prevailing_wage. "
   ]
  },
  {
   "cell_type": "markdown",
   "id": "nasty-retailer",
   "metadata": {
    "id": "nasty-retailer"
   },
   "source": [
    "## Actionable Insights and Recommendations"
   ]
  },
  {
   "cell_type": "markdown",
   "id": "8c914fb7",
   "metadata": {
    "id": "amino-prediction"
   },
   "source": [
    "1. The education of the applicant plays an important role in visa getting certified or not. Higher the education more the rate of visa approval. 90% of applicants with Doctorate education are getting the visa certified whereas as more than 60% of denial for applicants with only High School education.\n",
    "\n",
    "2. Another most important factor is the experience of the applicant. An applicant with job experience has more than 70% chances of visa getting certified.\n",
    "\n",
    "3. Europe has higher rate of visas getting certified followed by Africa and Asia. The rate of denial of visas are more for the applicants from South America. The most number of cases(66.2%) are from Asia whereas Africa, Oceania and South America together have less than 10% cases.\n",
    "\n",
    "4. The average prevailing_wage for the certified cases is slightly more than that for the denied cases. The average prevailing wage is more in Midwest and Island regions for certified cases. But, if the region is Island and the prevailing wage is more then there is slightly more chance for the visa to get denied.\n",
    "\n",
    "5. The denial rate of cases for applicants with hourly unit of wage is more. Most of the applicants are with Yearly unit of wage(~90%) and have higher rate of visas getting certified. Monthly and weekly unit of wage have ~60% of visas getting certified. The average prevailing wage for Monthly and Yearly unit of wages is slightly less for certified visas when compared to other unit of wages.\n",
    "\n",
    "6. The number of visas getting certified is almost similar for employees who need job training and who don't need job training. 88.4% of the applicants do not require job training.\n",
    "\n",
    "7. The rate of cases getting certified is similar whether the position is full time or part time. 89.4% of the cases are for full time position.\n",
    "\n",
    "8. The number of employees in a company and the year of establishment of the company has very less impact on the rate which visas are getting certified."
   ]
  },
  {
   "cell_type": "markdown",
   "id": "496146d4",
   "metadata": {},
   "source": [
    "========================================================================================================================"
   ]
  }
 ],
 "metadata": {
  "colab": {
   "collapsed_sections": [],
   "name": "EasyVisa_Project_Template_Notebook.ipynb",
   "provenance": []
  },
  "kernelspec": {
   "display_name": "Python 3",
   "language": "python",
   "name": "python3"
  },
  "language_info": {
   "codemirror_mode": {
    "name": "ipython",
    "version": 3
   },
   "file_extension": ".py",
   "mimetype": "text/x-python",
   "name": "python",
   "nbconvert_exporter": "python",
   "pygments_lexer": "ipython3",
   "version": "3.8.8"
  }
 },
 "nbformat": 4,
 "nbformat_minor": 5
}
