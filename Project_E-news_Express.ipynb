{
 "cells": [
  {
   "cell_type": "markdown",
   "id": "14a15069",
   "metadata": {},
   "source": [
    "# **E-news Express Project**\n",
    "\n",
    "- <a href = #link6>Importing necessary libraries</a>\n",
    "- <a href = #link2>Problem Statement</a>\n",
    "- <a href = #link3>Reading and Understanding Data</a>\n",
    "- <a href = #link4>Exploratory Data Analysis (EDA)</a>\n",
    "- <a href = #link5>Statistical Analysis</a>\n"
   ]
  },
  {
   "cell_type": "markdown",
   "id": "2b6f8f6a",
   "metadata": {},
   "source": [
    "# <a name = 'link2'>Problem Statement</a>\n",
    "\n",
    "#### Description \n",
    "\n",
    "#### Background: \n",
    "\n",
    "An online news portal aims to expand its business by acquiring new subscribers. Every visitor to the website takes certain actions based on their interest. The company plans to analyze these interests and wants to determine whether a new feature will be effective or not. Companies often analyze users' responses to two variants of a product to decide which of the two variants is more effective. This experimental technique is known as a/b testing that is used to determine whether a new feature attracts users based on a chosen metric.\n",
    "\n",
    "The design team of the company has created a new landing page. The task is to decide whether the new landing page is more effective to gather new subscribers. 100 users are selected randomly and divided equally into two groups. The old landing page is served to the first group (control group) and the new landing page is served to the second group (treatment group). Various data about the customers in both groups are collected in 'abtest.csv'. \n",
    "\n",
    "#### Objective:\n",
    "\n",
    "Explore the dataset and extract insights from the data. Perform the statistical analysis to answer the following questions:\n",
    "\n",
    "* Explore the dataset and extract insights using Exploratory Data Analysis.\n",
    "* Do the users spend more time on the new landing page than the old landing page?\n",
    "* Is the conversion rate for the new page greater than the conversion rate for the old page?\n",
    "* Does the converted status depend on the preferred language?\n",
    "* Is the mean time spent on the new page same for the different language users?\n",
    "\n",
    "\n",
    "*Consider a significance level of 0.05 for all tests.\n",
    "\n",
    "#### Data Dictionary:\n",
    "\n",
    "* user_id - This represents the user ID of the person visiting the website.\n",
    "* group - This represents whether the user belongs to the first group (control) or the second group (treatment).\n",
    "* landing_page - This represents whether the landing page is new or old.\n",
    "* time_spent_on_the_page - This represents the time (in minutes) spent by the user on the landing page.\n",
    "* converted - This represents whether the user gets converted to a subscriber of the news portal or not.\n",
    "* language_preferred - This represents the language chosen by the user to view the landing page."
   ]
  },
  {
   "cell_type": "markdown",
   "id": "b2c12a77",
   "metadata": {},
   "source": [
    "# <a name = 'link6'>Importing necessary libraries</a>"
   ]
  },
  {
   "cell_type": "code",
   "execution_count": 1,
   "id": "fe9a6f70",
   "metadata": {},
   "outputs": [],
   "source": [
    "# import the important packages\n",
    "import pandas as pd  # library used for data manipulation and analysis\n",
    "import numpy as np  # library used for working with arrays\n",
    "import matplotlib.pyplot as plt  # library for plots and visualizations\n",
    "import seaborn as sns  # library for visualizations\n",
    "\n",
    "%matplotlib inline\n",
    "\n",
    "import scipy.stats as stats  # this library contains a large number of probability distributions as well as a growing library of statistical functions"
   ]
  },
  {
   "cell_type": "markdown",
   "id": "7507f2bf",
   "metadata": {},
   "source": [
    "# <a name = 'link3'>Reading and Understanding Data</a>"
   ]
  },
  {
   "cell_type": "code",
   "execution_count": 2,
   "id": "b63fb610",
   "metadata": {},
   "outputs": [
    {
     "data": {
      "text/html": [
       "<div>\n",
       "<style scoped>\n",
       "    .dataframe tbody tr th:only-of-type {\n",
       "        vertical-align: middle;\n",
       "    }\n",
       "\n",
       "    .dataframe tbody tr th {\n",
       "        vertical-align: top;\n",
       "    }\n",
       "\n",
       "    .dataframe thead th {\n",
       "        text-align: right;\n",
       "    }\n",
       "</style>\n",
       "<table border=\"1\" class=\"dataframe\">\n",
       "  <thead>\n",
       "    <tr style=\"text-align: right;\">\n",
       "      <th></th>\n",
       "      <th>user_id</th>\n",
       "      <th>group</th>\n",
       "      <th>landing_page</th>\n",
       "      <th>time_spent_on_the_page</th>\n",
       "      <th>converted</th>\n",
       "      <th>language_preferred</th>\n",
       "    </tr>\n",
       "  </thead>\n",
       "  <tbody>\n",
       "    <tr>\n",
       "      <th>0</th>\n",
       "      <td>546592</td>\n",
       "      <td>control</td>\n",
       "      <td>old</td>\n",
       "      <td>3.48</td>\n",
       "      <td>no</td>\n",
       "      <td>Spanish</td>\n",
       "    </tr>\n",
       "    <tr>\n",
       "      <th>1</th>\n",
       "      <td>546468</td>\n",
       "      <td>treatment</td>\n",
       "      <td>new</td>\n",
       "      <td>7.13</td>\n",
       "      <td>yes</td>\n",
       "      <td>English</td>\n",
       "    </tr>\n",
       "    <tr>\n",
       "      <th>2</th>\n",
       "      <td>546462</td>\n",
       "      <td>treatment</td>\n",
       "      <td>new</td>\n",
       "      <td>4.40</td>\n",
       "      <td>no</td>\n",
       "      <td>Spanish</td>\n",
       "    </tr>\n",
       "    <tr>\n",
       "      <th>3</th>\n",
       "      <td>546567</td>\n",
       "      <td>control</td>\n",
       "      <td>old</td>\n",
       "      <td>3.02</td>\n",
       "      <td>no</td>\n",
       "      <td>French</td>\n",
       "    </tr>\n",
       "    <tr>\n",
       "      <th>4</th>\n",
       "      <td>546459</td>\n",
       "      <td>treatment</td>\n",
       "      <td>new</td>\n",
       "      <td>4.75</td>\n",
       "      <td>yes</td>\n",
       "      <td>Spanish</td>\n",
       "    </tr>\n",
       "  </tbody>\n",
       "</table>\n",
       "</div>"
      ],
      "text/plain": [
       "   user_id      group landing_page  time_spent_on_the_page converted  \\\n",
       "0   546592    control          old                    3.48        no   \n",
       "1   546468  treatment          new                    7.13       yes   \n",
       "2   546462  treatment          new                    4.40        no   \n",
       "3   546567    control          old                    3.02        no   \n",
       "4   546459  treatment          new                    4.75       yes   \n",
       "\n",
       "  language_preferred  \n",
       "0            Spanish  \n",
       "1            English  \n",
       "2            Spanish  \n",
       "3             French  \n",
       "4            Spanish  "
      ]
     },
     "execution_count": 2,
     "metadata": {},
     "output_type": "execute_result"
    }
   ],
   "source": [
    "df = pd.read_csv('abtest.csv') \n",
    "# first five rows of the dataset\n",
    "df.head()"
   ]
  },
  {
   "cell_type": "markdown",
   "id": "265dcb7e",
   "metadata": {},
   "source": [
    "#### Observations:\n",
    "* The data consists of 6 columns and the data in each row is related to a user"
   ]
  },
  {
   "cell_type": "markdown",
   "id": "9e713e7a",
   "metadata": {},
   "source": [
    "### Understand the shape of the data"
   ]
  },
  {
   "cell_type": "code",
   "execution_count": 3,
   "id": "82027bdf",
   "metadata": {},
   "outputs": [
    {
     "data": {
      "text/plain": [
       "(100, 6)"
      ]
     },
     "execution_count": 3,
     "metadata": {},
     "output_type": "execute_result"
    }
   ],
   "source": [
    "# Find the shape or the number of rows and columns in the dataframe\n",
    "df.shape"
   ]
  },
  {
   "cell_type": "markdown",
   "id": "58746863",
   "metadata": {},
   "source": [
    "#### Observations:\n",
    "* There are 100 rows and 6 columns in this sample of data"
   ]
  },
  {
   "cell_type": "markdown",
   "id": "8404f11b",
   "metadata": {},
   "source": [
    "### Applying info() method "
   ]
  },
  {
   "cell_type": "code",
   "execution_count": 4,
   "id": "f598ce81",
   "metadata": {},
   "outputs": [
    {
     "name": "stdout",
     "output_type": "stream",
     "text": [
      "<class 'pandas.core.frame.DataFrame'>\n",
      "RangeIndex: 100 entries, 0 to 99\n",
      "Data columns (total 6 columns):\n",
      " #   Column                  Non-Null Count  Dtype  \n",
      "---  ------                  --------------  -----  \n",
      " 0   user_id                 100 non-null    int64  \n",
      " 1   group                   100 non-null    object \n",
      " 2   landing_page            100 non-null    object \n",
      " 3   time_spent_on_the_page  100 non-null    float64\n",
      " 4   converted               100 non-null    object \n",
      " 5   language_preferred      100 non-null    object \n",
      "dtypes: float64(1), int64(1), object(4)\n",
      "memory usage: 4.8+ KB\n"
     ]
    }
   ],
   "source": [
    "# information about the columns in the dataset\n",
    "df.info()"
   ]
  },
  {
   "cell_type": "markdown",
   "id": "9a4d0366",
   "metadata": {},
   "source": [
    "### Observations:\n",
    "* There are 4 categorical values, 1 int and 1 float values in the dataframe\n",
    "* All columns have 100 values indicating that there are no null values"
   ]
  },
  {
   "cell_type": "code",
   "execution_count": 5,
   "id": "e77dbee5",
   "metadata": {},
   "outputs": [
    {
     "data": {
      "text/plain": [
       "user_id                   0\n",
       "group                     0\n",
       "landing_page              0\n",
       "time_spent_on_the_page    0\n",
       "converted                 0\n",
       "language_preferred        0\n",
       "dtype: int64"
      ]
     },
     "execution_count": 5,
     "metadata": {},
     "output_type": "execute_result"
    }
   ],
   "source": [
    "# Checking for missing values\n",
    "df.isnull().sum()"
   ]
  },
  {
   "cell_type": "markdown",
   "id": "961729f3",
   "metadata": {},
   "source": [
    "### Observations:\n",
    "* There are no missing values in any columns"
   ]
  },
  {
   "cell_type": "code",
   "execution_count": 6,
   "id": "61d084fc",
   "metadata": {},
   "outputs": [
    {
     "data": {
      "text/html": [
       "<div>\n",
       "<style scoped>\n",
       "    .dataframe tbody tr th:only-of-type {\n",
       "        vertical-align: middle;\n",
       "    }\n",
       "\n",
       "    .dataframe tbody tr th {\n",
       "        vertical-align: top;\n",
       "    }\n",
       "\n",
       "    .dataframe thead th {\n",
       "        text-align: right;\n",
       "    }\n",
       "</style>\n",
       "<table border=\"1\" class=\"dataframe\">\n",
       "  <thead>\n",
       "    <tr style=\"text-align: right;\">\n",
       "      <th></th>\n",
       "      <th>user_id</th>\n",
       "      <th>time_spent_on_the_page</th>\n",
       "    </tr>\n",
       "  </thead>\n",
       "  <tbody>\n",
       "    <tr>\n",
       "      <th>count</th>\n",
       "      <td>100.000000</td>\n",
       "      <td>100.000000</td>\n",
       "    </tr>\n",
       "    <tr>\n",
       "      <th>mean</th>\n",
       "      <td>546517.000000</td>\n",
       "      <td>5.377800</td>\n",
       "    </tr>\n",
       "    <tr>\n",
       "      <th>std</th>\n",
       "      <td>52.295779</td>\n",
       "      <td>2.378166</td>\n",
       "    </tr>\n",
       "    <tr>\n",
       "      <th>min</th>\n",
       "      <td>546443.000000</td>\n",
       "      <td>0.190000</td>\n",
       "    </tr>\n",
       "    <tr>\n",
       "      <th>25%</th>\n",
       "      <td>546467.750000</td>\n",
       "      <td>3.880000</td>\n",
       "    </tr>\n",
       "    <tr>\n",
       "      <th>50%</th>\n",
       "      <td>546492.500000</td>\n",
       "      <td>5.415000</td>\n",
       "    </tr>\n",
       "    <tr>\n",
       "      <th>75%</th>\n",
       "      <td>546567.250000</td>\n",
       "      <td>7.022500</td>\n",
       "    </tr>\n",
       "    <tr>\n",
       "      <th>max</th>\n",
       "      <td>546592.000000</td>\n",
       "      <td>10.710000</td>\n",
       "    </tr>\n",
       "  </tbody>\n",
       "</table>\n",
       "</div>"
      ],
      "text/plain": [
       "             user_id  time_spent_on_the_page\n",
       "count     100.000000              100.000000\n",
       "mean   546517.000000                5.377800\n",
       "std        52.295779                2.378166\n",
       "min    546443.000000                0.190000\n",
       "25%    546467.750000                3.880000\n",
       "50%    546492.500000                5.415000\n",
       "75%    546567.250000                7.022500\n",
       "max    546592.000000               10.710000"
      ]
     },
     "execution_count": 6,
     "metadata": {},
     "output_type": "execute_result"
    }
   ],
   "source": [
    "# summary of the data\n",
    "df.describe()"
   ]
  },
  {
   "cell_type": "markdown",
   "id": "a2aa5c5c",
   "metadata": {},
   "source": [
    "### Observations:\n",
    "* The mean time spent on the page by a user is 5.38.\n",
    "* The mean and median of the time spent on the page is almost same"
   ]
  },
  {
   "cell_type": "markdown",
   "id": "645ecba6",
   "metadata": {},
   "source": [
    "# <a name = 'link4'>Exploratory Data Analysis (EDA)</a>"
   ]
  },
  {
   "cell_type": "markdown",
   "id": "1ea0b101",
   "metadata": {},
   "source": [
    "### 1. Explore the dataset and extract insights using Exploratory Data Analysis."
   ]
  },
  {
   "cell_type": "markdown",
   "id": "bb1b2423",
   "metadata": {},
   "source": [
    "### Univariate Analysis"
   ]
  },
  {
   "cell_type": "code",
   "execution_count": 7,
   "id": "f03b1eda",
   "metadata": {},
   "outputs": [
    {
     "data": {
      "image/png": "[encoded data removed]",
      "text/plain": [
       "<Figure size 432x288 with 1 Axes>"
      ]
     },
     "metadata": {
      "needs_background": "light"
     },
     "output_type": "display_data"
    }
   ],
   "source": [
    "# Univariate analysis on time_spent_on_the_page\n",
    "sns.histplot(df['time_spent_on_the_page'], kde=True, stat=\"density\") # plot the distribution of data using histogram\n",
    "plt.show()"
   ]
  },
  {
   "cell_type": "markdown",
   "id": "33da5c2d",
   "metadata": {},
   "source": [
    "### Observations:\n",
    "* The time spent data is symmetrically distributed \n",
    "* There is no skewness in this plot\n",
    "* The plot shows a normal distribution"
   ]
  },
  {
   "cell_type": "code",
   "execution_count": 8,
   "id": "f0dfc689",
   "metadata": {},
   "outputs": [
    {
     "data": {
      "image/png": "[encoded data removed]",
      "text/plain": [
       "<Figure size 432x288 with 1 Axes>"
      ]
     },
     "metadata": {
      "needs_background": "light"
     },
     "output_type": "display_data"
    }
   ],
   "source": [
    "# Univariate analysis on group\n",
    "sns.countplot(data=df,x='group')\n",
    "plt.show()"
   ]
  },
  {
   "cell_type": "markdown",
   "id": "36477f4a",
   "metadata": {},
   "source": [
    "### Observations:\n",
    "* As mentioned in the problem statement, the sample has 2 groups (control and treatment) with equal number of users(50)"
   ]
  },
  {
   "cell_type": "code",
   "execution_count": 9,
   "id": "2cd497d2",
   "metadata": {},
   "outputs": [
    {
     "data": {
      "image/png": "[encoded data removed]",
      "text/plain": [
       "<Figure size 432x288 with 1 Axes>"
      ]
     },
     "metadata": {
      "needs_background": "light"
     },
     "output_type": "display_data"
    }
   ],
   "source": [
    "# Univariate analysis on landing page\n",
    "sns.countplot(data=df,x='landing_page')\n",
    "plt.show()"
   ]
  },
  {
   "cell_type": "markdown",
   "id": "61d4b4e0",
   "metadata": {},
   "source": [
    "### Observations:\n",
    "* As mentioned in the problem statement, the old and new landing pages are served to equal number of users(50)"
   ]
  },
  {
   "cell_type": "code",
   "execution_count": 10,
   "id": "bf890053",
   "metadata": {},
   "outputs": [
    {
     "data": {
      "image/png": "[encoded data removed]",
      "text/plain": [
       "<Figure size 432x288 with 1 Axes>"
      ]
     },
     "metadata": {
      "needs_background": "light"
     },
     "output_type": "display_data"
    }
   ],
   "source": [
    "# Univariate analysis on landing page\n",
    "sns.countplot(data=df,x='converted')\n",
    "plt.show()"
   ]
  },
  {
   "cell_type": "markdown",
   "id": "b883f41b",
   "metadata": {},
   "source": [
    "### Observations:\n",
    "* There are more users who are getting converted than the users who are not getting converted to new landing page"
   ]
  },
  {
   "cell_type": "code",
   "execution_count": 11,
   "id": "87990fd2",
   "metadata": {},
   "outputs": [
    {
     "data": {
      "image/png": "[encoded data removed]",
      "text/plain": [
       "<Figure size 432x288 with 1 Axes>"
      ]
     },
     "metadata": {
      "needs_background": "light"
     },
     "output_type": "display_data"
    }
   ],
   "source": [
    "# Univariate analysis on language_preferred\n",
    "sns.countplot(data=df,x='language_preferred')\n",
    "plt.show()"
   ]
  },
  {
   "cell_type": "markdown",
   "id": "1f7cbf58",
   "metadata": {},
   "source": [
    "### Observations:\n",
    "* There is no significant change in the number of users for different languages."
   ]
  },
  {
   "cell_type": "markdown",
   "id": "99a42bbd",
   "metadata": {},
   "source": [
    "### Bivariate Analysis"
   ]
  },
  {
   "cell_type": "code",
   "execution_count": 12,
   "id": "650f2fd0",
   "metadata": {},
   "outputs": [
    {
     "data": {
      "image/png": "[encoded data removed]",
      "text/plain": [
       "<Figure size 432x288 with 1 Axes>"
      ]
     },
     "metadata": {
      "needs_background": "light"
     },
     "output_type": "display_data"
    }
   ],
   "source": [
    "# Visual analysis to show the distribution of time spent on the old and new landing page\n",
    "sns.boxplot(data=df,y='time_spent_on_the_page',x='landing_page',showmeans=True)\n",
    "plt.show()"
   ]
  },
  {
   "cell_type": "markdown",
   "id": "7aa25256",
   "metadata": {},
   "source": [
    "### Observations:\n",
    "* The time spent on the new landing page has few outliers. \n",
    "* The mean time spent on the new landing page is more than the mean time spent on the old landing page."
   ]
  },
  {
   "cell_type": "code",
   "execution_count": 13,
   "id": "54904588",
   "metadata": {},
   "outputs": [
    {
     "data": {
      "image/png": "[encoded data removed]",
      "text/plain": [
       "<Figure size 432x288 with 1 Axes>"
      ]
     },
     "metadata": {
      "needs_background": "light"
     },
     "output_type": "display_data"
    }
   ],
   "source": [
    "# Visual analysis to show the distribution of time spent on a page and the conversion rate\n",
    "sns.boxplot(data=df,x='converted',y='time_spent_on_the_page',showmeans=True)\n",
    "plt.show()"
   ]
  },
  {
   "cell_type": "markdown",
   "id": "bbc18392",
   "metadata": {},
   "source": [
    "### Observations:\n",
    "* The users who got converted are spending more time on the landing page.\n",
    "* There are more outliers in the data for those who are converted than those who are not converted."
   ]
  },
  {
   "cell_type": "code",
   "execution_count": 14,
   "id": "c3021639",
   "metadata": {},
   "outputs": [
    {
     "data": {
      "image/png": "[encoded data removed]",
      "text/plain": [
       "<Figure size 432x288 with 1 Axes>"
      ]
     },
     "metadata": {
      "needs_background": "light"
     },
     "output_type": "display_data"
    }
   ],
   "source": [
    "# Visual analysis for the distibution of time spent on the page and language preference\n",
    "sns.boxplot(data=df,x='language_preferred',y='time_spent_on_the_page',showmeans=True)\n",
    "plt.show()"
   ]
  },
  {
   "cell_type": "markdown",
   "id": "c76a1368",
   "metadata": {},
   "source": [
    "### Observations:\n",
    "* There is no significant difference in the mean time spent on a page based on the language preference of users.\n",
    "* The amount of time spent on a page by users with Spanish language preference is less when compared to English and French."
   ]
  },
  {
   "cell_type": "code",
   "execution_count": 15,
   "id": "4aa1bb12",
   "metadata": {},
   "outputs": [
    {
     "data": {
      "image/png": "[encoded data removed]",
      "text/plain": [
       "<Figure size 432x288 with 1 Axes>"
      ]
     },
     "metadata": {
      "needs_background": "light"
     },
     "output_type": "display_data"
    }
   ],
   "source": [
    "# Visual analysis for the distibution of landing page and converted users\n",
    "\n",
    "sns.countplot(data=df,x='landing_page',hue='converted')\n",
    "plt.show()"
   ]
  },
  {
   "cell_type": "markdown",
   "id": "9ee42cb1",
   "metadata": {},
   "source": [
    "### Observations:\n",
    "* The number of users getting converted are less in the case of old landing page.\n",
    "* The number of users getting converted are much higher in the case of new landing page."
   ]
  },
  {
   "cell_type": "code",
   "execution_count": 16,
   "id": "97c607c4",
   "metadata": {},
   "outputs": [
    {
     "data": {
      "image/png": "[encoded data removed]",
      "text/plain": [
       "<Figure size 504x360 with 1 Axes>"
      ]
     },
     "metadata": {
      "needs_background": "light"
     },
     "output_type": "display_data"
    }
   ],
   "source": [
    "# Visual analysis to show the distribution of language preferred and landing page\n",
    "plt.figure(figsize=(7,5))\n",
    "sns.countplot(data=df, x='language_preferred', hue='landing_page')\n",
    "plt.show()"
   ]
  },
  {
   "cell_type": "markdown",
   "id": "a7d6aa23",
   "metadata": {},
   "source": [
    "### Observations:\n",
    "* There are equal number of users for different languages for old and new landing page."
   ]
  },
  {
   "cell_type": "code",
   "execution_count": 17,
   "id": "9b38a1b0",
   "metadata": {},
   "outputs": [
    {
     "data": {
      "image/png": "[encoded data removed]",
      "text/plain": [
       "<Figure size 504x360 with 1 Axes>"
      ]
     },
     "metadata": {
      "needs_background": "light"
     },
     "output_type": "display_data"
    }
   ],
   "source": [
    "# Visual analysis to show the distribution of language preferred and converted\n",
    "plt.figure(figsize=(7,5))\n",
    "sns.countplot(data=df, x='language_preferred', hue='converted')\n",
    "plt.show()"
   ]
  },
  {
   "cell_type": "markdown",
   "id": "da78f121",
   "metadata": {},
   "source": [
    "### Observations:\n",
    "* The users with language preference as English have very high conversion rates.\n",
    "* The number of users getting converted with Spanish language preference are also more.\n",
    "* In the case of French, the number of users getting converted are less."
   ]
  },
  {
   "cell_type": "markdown",
   "id": "368a4dfb",
   "metadata": {},
   "source": [
    "### Multivariate Analysis"
   ]
  },
  {
   "cell_type": "code",
   "execution_count": 18,
   "id": "425713b7",
   "metadata": {},
   "outputs": [
    {
     "data": {
      "image/png": "[encoded data removed]",
      "text/plain": [
       "<Figure size 504x360 with 1 Axes>"
      ]
     },
     "metadata": {
      "needs_background": "light"
     },
     "output_type": "display_data"
    }
   ],
   "source": [
    "# Visual analysis to show the distribution of time spent on a page and language preferred with a hue on landing page\n",
    "plt.figure(figsize=(7,5))\n",
    "sns.boxplot(data=df,y='time_spent_on_the_page',x='language_preferred',showmeans=True,hue='landing_page')\n",
    "plt.show()"
   ]
  },
  {
   "cell_type": "markdown",
   "id": "8dc8bd4e",
   "metadata": {},
   "source": [
    "### Observations:\n",
    "* The mean time spent on the new and old landing pages are not same for all languages.\n",
    "* The mean time spent on the new landing page is more for all languages than the old landing page."
   ]
  },
  {
   "cell_type": "code",
   "execution_count": 19,
   "id": "ec1ea072",
   "metadata": {},
   "outputs": [
    {
     "data": {
      "image/png": "[encoded data removed]",
      "text/plain": [
       "<Figure size 504x360 with 1 Axes>"
      ]
     },
     "metadata": {
      "needs_background": "light"
     },
     "output_type": "display_data"
    }
   ],
   "source": [
    "# Visual analysis to show the distribution of time spent on a page and language preferred with a hue on landing page\n",
    "plt.figure(figsize=(7,5))\n",
    "sns.boxplot(data=df,y='time_spent_on_the_page',x='language_preferred',showmeans=True,hue='converted')\n",
    "plt.show()"
   ]
  },
  {
   "cell_type": "markdown",
   "id": "46578a7a",
   "metadata": {},
   "source": [
    "### Observations:\n",
    "* For all languages, the users who spend more time on the landing page have more conversion rate"
   ]
  },
  {
   "cell_type": "code",
   "execution_count": 20,
   "id": "20e6230c",
   "metadata": {
    "scrolled": true
   },
   "outputs": [
    {
     "data": {
      "image/png": "[encoded data removed]",
      "text/plain": [
       "<Figure size 432x288 with 1 Axes>"
      ]
     },
     "metadata": {
      "needs_background": "light"
     },
     "output_type": "display_data"
    }
   ],
   "source": [
    "# Visual analysis to show the distribution of time spent on a page, the conversion rate and landing page\n",
    "sns.boxplot(data=df,y='time_spent_on_the_page',x='converted',showmeans=True,hue='landing_page')\n",
    "plt.show()"
   ]
  },
  {
   "cell_type": "markdown",
   "id": "d0f2e768",
   "metadata": {},
   "source": [
    "### Observations:\n",
    "* The mean time spent by users on the new landing page is more.\n",
    "* The mean time spent on a page by users who are getting converted is more when compared to users who are not getting converted."
   ]
  },
  {
   "cell_type": "markdown",
   "id": "7438a921",
   "metadata": {},
   "source": [
    "# <a name = 'link5'>Statistical Analysis</a>"
   ]
  },
  {
   "cell_type": "markdown",
   "id": "6b875408",
   "metadata": {},
   "source": [
    "## 2. Do the users spend more time on the new landing page than the old landing page?"
   ]
  },
  {
   "cell_type": "markdown",
   "id": "f54c9d74",
   "metadata": {},
   "source": [
    "### Visual analysis to show the distribution of time spent on the new landing page and the old landing page"
   ]
  },
  {
   "cell_type": "code",
   "execution_count": 21,
   "id": "e5c7687b",
   "metadata": {},
   "outputs": [
    {
     "data": {
      "image/png": "[encoded data removed]",
      "text/plain": [
       "<Figure size 432x288 with 1 Axes>"
      ]
     },
     "metadata": {
      "needs_background": "light"
     },
     "output_type": "display_data"
    }
   ],
   "source": [
    "# Using boxplot to show the distribution of time spent on the old and new landing page\n",
    "sns.boxplot(data=df,y='time_spent_on_the_page',x='landing_page',showmeans=True)\n",
    "plt.show()"
   ]
  },
  {
   "cell_type": "markdown",
   "id": "8d3521e9",
   "metadata": {},
   "source": [
    "### Observations:\n",
    "* The mean time spent on the new landing page is more than the mean time spent on the old landing page"
   ]
  },
  {
   "cell_type": "markdown",
   "id": "07caede9",
   "metadata": {},
   "source": [
    "### Conducting a hypothesis test to determine whether the users spend more time on the new landing page than the old landing page."
   ]
  },
  {
   "cell_type": "markdown",
   "id": "35c86b45",
   "metadata": {},
   "source": [
    "### Step 1: Define null and alternate hypotheses"
   ]
  },
  {
   "cell_type": "markdown",
   "id": "6d935ace",
   "metadata": {},
   "source": [
    "𝐻0: The mean time spent on the new landing page is equal to the mean time spent on the old landing page.\n",
    "\n",
    "𝐻𝑎: The mean time spent on the new landing page is greater than the mean time spent on the old landing page.\n",
    "\n",
    "Let 𝜇1 and 𝜇2 be the mean time spent on the new landing page and the mean time spent on the old landing page.\n",
    "\n",
    "Mathematically, the above formulated hypotheses can be written as:\n",
    "\n",
    "𝐻0:𝜇1=𝜇2\n",
    "\n",
    "𝐻𝑎:𝜇1>𝜇2"
   ]
  },
  {
   "cell_type": "markdown",
   "id": "df77fee2",
   "metadata": {},
   "source": [
    "### Step 2: Select Appropriate test"
   ]
  },
  {
   "cell_type": "markdown",
   "id": "05b69b9c",
   "metadata": {},
   "source": [
    "This is a case of a one-tailed two-sample mean test. The two samples are independent in this case and also the population standard deviations are unknown. To assume if population standard deviation is equal or not, let's check the standard deviation of samples."
   ]
  },
  {
   "cell_type": "code",
   "execution_count": 22,
   "id": "76e75de1",
   "metadata": {},
   "outputs": [
    {
     "name": "stdout",
     "output_type": "stream",
     "text": [
      "The standard deviation of time spent on the new landing page is 1.82\n",
      "The standard deviation of time spent on the old landing page is 2.58\n",
      "The ratio of standard deviation is 0.7054263565891473\n"
     ]
    }
   ],
   "source": [
    "# find the sample standard deviations of time spent for the new landing page and old landing page to verify if it is equal or not\n",
    "print('The standard deviation of time spent on the new landing page is ' + str(round(df[df['landing_page']=='new']['time_spent_on_the_page'].std(), 2)))#sample standard deviation of the time spent on new landing page\n",
    "print('The standard deviation of time spent on the old landing page is ' + str(round(df[df['landing_page']=='old']['time_spent_on_the_page'].std(), 2)))#sample standard deviation of the time spent on old landing page\n",
    "\n",
    "print(f\"The ratio of standard deviation is {round(df[df['landing_page']=='new']['time_spent_on_the_page'].std(), 2)/round(df[df['landing_page']=='old']['time_spent_on_the_page'].std(),2)}\")"
   ]
  },
  {
   "cell_type": "markdown",
   "id": "50cfac8f",
   "metadata": {},
   "source": [
    "As an empirical rule, if the ratio of two sample standard deviations is between 0.7 and 1.4, the population standard deviations may be assumed to be equal. If the ratio is close to the extremes of this range as in this case, we can even consider performing an equality of variance in order to determine if the difference is statistically significant. We can perform a Levene test for confirming the same. \n",
    "\n",
    "##### Levene’s test\n",
    "We will test the null hypothesis\n",
    "\n",
    "𝐻0 : All the population variances are equal\n",
    "\n",
    "against the alternative hypothesis\n",
    "\n",
    "𝐻𝑎 : At least one variance is different from the rest"
   ]
  },
  {
   "cell_type": "code",
   "execution_count": 23,
   "id": "21d26061",
   "metadata": {},
   "outputs": [
    {
     "name": "stdout",
     "output_type": "stream",
     "text": [
      "The p-value is 0.008950671168914445\n"
     ]
    }
   ],
   "source": [
    "# importing the levene function from the stats library\n",
    "from scipy.stats import levene\n",
    "\n",
    "# find the p-value\n",
    "statistic, p_value = levene(df[df['landing_page']=='new']['time_spent_on_the_page'],df[df['landing_page']=='old']['time_spent_on_the_page'])\n",
    "\n",
    "print('The p-value is', p_value)"
   ]
  },
  {
   "cell_type": "markdown",
   "id": "27177567",
   "metadata": {},
   "source": [
    "#### Observations:\n",
    "As the p-value is much less than 0.05, we will reject the null hypothesis. Hence, we do have enough evidence that the variances are different. "
   ]
  },
  {
   "cell_type": "markdown",
   "id": "1883b575",
   "metadata": {},
   "source": [
    "The sample standard deviations are different as per the levenes test and hence the population standard deviations may be assumed to be different. \n",
    "We shall use 2 INDEPENDENT SAMPLES T-test for equality of means and unequal standard deviation in this problem."
   ]
  },
  {
   "cell_type": "markdown",
   "id": "0a394696",
   "metadata": {},
   "source": [
    "### Step 3: Decide the significance level"
   ]
  },
  {
   "cell_type": "markdown",
   "id": "1ca84303",
   "metadata": {},
   "source": [
    "As given in the problem statement, select 𝛼 = 0.05."
   ]
  },
  {
   "cell_type": "markdown",
   "id": "a57d3e5b",
   "metadata": {},
   "source": [
    "### Step 4: Calculate the p-value"
   ]
  },
  {
   "cell_type": "markdown",
   "id": "7c9c6d45",
   "metadata": {},
   "source": [
    "scipy.stats.ttest_ind calculates the t-test on TWO INDEPENDENT samples of observations with equal_var as False since the standard deviation is unknown and assuming it to be unequal. This function returns the test statistic and p-value for a right-tailed t-test with the alternative parameter set to 'greater'."
   ]
  },
  {
   "cell_type": "code",
   "execution_count": 24,
   "id": "b44a0f16",
   "metadata": {},
   "outputs": [
    {
     "name": "stdout",
     "output_type": "stream",
     "text": [
      "The p-value is  0.0001392381225166549\n"
     ]
    }
   ],
   "source": [
    "# finding the p-value using ttest_ind function in stats library\n",
    "\n",
    "test_stat, p_value = stats.ttest_ind(df[df['landing_page']=='new']['time_spent_on_the_page'], df[df['landing_page']=='old']['time_spent_on_the_page'], equal_var = False, alternative = 'greater')\n",
    "print('The p-value is ', p_value)"
   ]
  },
  {
   "cell_type": "markdown",
   "id": "878c5738",
   "metadata": {},
   "source": [
    "### Step 5: Comparing the p-value with 𝛼"
   ]
  },
  {
   "cell_type": "code",
   "execution_count": 25,
   "id": "ff9ebe65",
   "metadata": {},
   "outputs": [
    {
     "name": "stdout",
     "output_type": "stream",
     "text": [
      "As the p-value 0.0001392381225166549 is less than the level of significance, we reject the null hypothesis.\n"
     ]
    }
   ],
   "source": [
    "# print the conclusion based on p-value\n",
    "if p_value < 0.05:\n",
    "    print(f'As the p-value {p_value} is less than the level of significance, we reject the null hypothesis.')\n",
    "else:\n",
    "    print(f'As the p-value {p_value} is greater than the level of significance, we fail to reject the null hypothesis.')"
   ]
  },
  {
   "cell_type": "markdown",
   "id": "ccfd486e",
   "metadata": {},
   "source": [
    "### Step 6: Draw Inference"
   ]
  },
  {
   "cell_type": "markdown",
   "id": "6ce8fc99",
   "metadata": {},
   "source": [
    "As the p_value is less than level of significance (0.05), we reject the null hypothesis. Hence, we do have enough evidence that the mean time spent on the new landing page is greater than the mean time spent on the old landing page."
   ]
  },
  {
   "cell_type": "markdown",
   "id": "f4adf891",
   "metadata": {},
   "source": [
    "## 3. Is the conversion rate (the proportion of users who visit the landing page and get converted) for the new page greater than the conversion rate for the old page?"
   ]
  },
  {
   "cell_type": "markdown",
   "id": "2bb4f3e9",
   "metadata": {},
   "source": [
    "### Visual analysis of conversion rate for old and new landing page"
   ]
  },
  {
   "cell_type": "code",
   "execution_count": 26,
   "id": "2f8f77a8",
   "metadata": {},
   "outputs": [
    {
     "data": {
      "image/png": "[encoded data removed]",
      "text/plain": [
       "<Figure size 432x288 with 1 Axes>"
      ]
     },
     "metadata": {
      "needs_background": "light"
     },
     "output_type": "display_data"
    }
   ],
   "source": [
    "# Using countplot to show the distribution of conversion rate for old and new landing page\n",
    "\n",
    "sns.countplot(data=df,x='landing_page',hue='converted')\n",
    "plt.show()"
   ]
  },
  {
   "cell_type": "markdown",
   "id": "d6128b23",
   "metadata": {},
   "source": [
    "### Observations:\n",
    "* The plot shows that the conversion rate for new landing page is greater than the old landing page"
   ]
  },
  {
   "cell_type": "markdown",
   "id": "7c8183a2",
   "metadata": {},
   "source": [
    "### Conducting a hypothesis test to determine whether the conversion rate for the new page is greater than the conversion rate for the old page."
   ]
  },
  {
   "cell_type": "markdown",
   "id": "33eab992",
   "metadata": {},
   "source": [
    "### Step 1: Define null and alternate hypotheses"
   ]
  },
  {
   "cell_type": "markdown",
   "id": "f0423eba",
   "metadata": {},
   "source": [
    "H0: The proportions of conversion rate for new and old landing page is equal.\n",
    "𝐻𝑎: The proportion of conversion rate for new landing page is greater than the conversion rate for old landing page\n",
    "\n",
    "Let  𝑝1,𝑝2  be the proportions of conversion rate for new and old landing page respectively.\n",
    "\n",
    "Mathematically, the above formulated hypotheses can be written as:\n",
    "\n",
    "𝐻0: 𝑝1=𝑝2 \n",
    "\n",
    "𝐻𝑎: 𝑝1>𝑝2"
   ]
  },
  {
   "cell_type": "markdown",
   "id": "6bd59c78",
   "metadata": {},
   "source": [
    "### Step 2: Select Appropriate test"
   ]
  },
  {
   "cell_type": "markdown",
   "id": "4c1fc87a",
   "metadata": {},
   "source": [
    "The formulated hypotheses are concerned with proportions. A test of proportions can be used to analyse the hypotheses and draw a conclusion.\n",
    "\n",
    "Let's verify if the assumption for 2 proportions z-test staisfies or not: np and n(1-p) >=10"
   ]
  },
  {
   "cell_type": "code",
   "execution_count": 27,
   "id": "1b970b0a",
   "metadata": {},
   "outputs": [
    {
     "name": "stdout",
     "output_type": "stream",
     "text": [
      "Assumption for 2 proportions z-test staisfied: np and n(1-p) >=10\n"
     ]
    }
   ],
   "source": [
    "# find the number of converted users with new landing page\n",
    "n_new = df[df['landing_page']=='new'].converted.value_counts()['yes']\n",
    "\n",
    "# find the number of converted users with old landing page\n",
    "n_old = df[df['landing_page']=='old'].converted.value_counts()['yes']\n",
    "\n",
    "# calculating np and n(1-p) for new and old landing page. number of observations for old and new landing page is 50\n",
    "n1p1=50*(n_new/50)\n",
    "n1minusp1=50*(1-(n_new/50))\n",
    "n2p2=50*(n_old/50)\n",
    "n1minusp2=50*(1-(n_old/50))\n",
    "if n1p1 and n1minusp1 and n2p2 and n1minusp2 >= 10:\n",
    "    print(\"Assumption for 2 proportions z-test staisfied: np and n(1-p) >=10\")"
   ]
  },
  {
   "cell_type": "markdown",
   "id": "0b36fafe",
   "metadata": {},
   "source": [
    "The assumption for 2 proportions test is satisfied. We shall use a Two Proportion Z-test in this problem."
   ]
  },
  {
   "cell_type": "markdown",
   "id": "0f65ade9",
   "metadata": {},
   "source": [
    "### Step 3: Decide the significance level"
   ]
  },
  {
   "cell_type": "markdown",
   "id": "5bba2bd0",
   "metadata": {},
   "source": [
    "As given in the problem statement, select 𝛼 = 0.05."
   ]
  },
  {
   "cell_type": "markdown",
   "id": "b3cdcbfe",
   "metadata": {},
   "source": [
    "### Step 4: Collect and prepare data"
   ]
  },
  {
   "cell_type": "code",
   "execution_count": 28,
   "id": "051a5177",
   "metadata": {},
   "outputs": [],
   "source": [
    "# Sample size is 100 and it is equally divided to 2 groups using old and new landing page\n",
    "n_obs=[50,50] #total number of observations for new and old landing page\n",
    "\n",
    "n_converted=[n_new,n_old] #number of converted users for new and old landing page"
   ]
  },
  {
   "cell_type": "markdown",
   "id": "a4d310b3",
   "metadata": {},
   "source": [
    "### Step 5: Calculate the p-value"
   ]
  },
  {
   "cell_type": "code",
   "execution_count": 29,
   "id": "3392e69f",
   "metadata": {},
   "outputs": [
    {
     "name": "stdout",
     "output_type": "stream",
     "text": [
      "The p-value is 0.008026308204056278\n"
     ]
    }
   ],
   "source": [
    "# import the required package for proportions z-test from statsmodels.stats library\n",
    "from statsmodels.stats.proportion import proportions_ztest\n",
    "\n",
    "# find the p-value using proportion_ztest\n",
    "stat, p_value = proportions_ztest(n_converted, n_obs, alternative = 'larger')\n",
    "\n",
    "# print the p-value\n",
    "print('The p-value is '+ str(p_value))"
   ]
  },
  {
   "cell_type": "markdown",
   "id": "35d5402f",
   "metadata": {},
   "source": [
    "### Step 6: Compare the p-value with $\\alpha$"
   ]
  },
  {
   "cell_type": "code",
   "execution_count": 30,
   "id": "bd28d865",
   "metadata": {},
   "outputs": [
    {
     "name": "stdout",
     "output_type": "stream",
     "text": [
      "As the p-value 0.008026308204056278 is less than the level of significance, we reject the null hypothesis.\n"
     ]
    }
   ],
   "source": [
    "# print the conclusion based on p-value\n",
    "if p_value < 0.05:\n",
    "    print(f'As the p-value {p_value} is less than the level of significance, we reject the null hypothesis.')\n",
    "else:\n",
    "    print(f'As the p-value {p_value} is greater than the level of significance, we fail to reject the null hypothesis.')"
   ]
  },
  {
   "cell_type": "markdown",
   "id": "f48befc7",
   "metadata": {},
   "source": [
    "### Step 7:  Draw inference"
   ]
  },
  {
   "cell_type": "markdown",
   "id": "f869604a",
   "metadata": {},
   "source": [
    "As the p_value is less than 0.05, we reject the null hypothesis. Hence, we do have enough evidence that the conversion rate for new landing page is greater than the conversion rate for old landing page."
   ]
  },
  {
   "cell_type": "markdown",
   "id": "5ba966e2",
   "metadata": {},
   "source": [
    "## 4. Does the converted status depend on the preferred language?"
   ]
  },
  {
   "cell_type": "markdown",
   "id": "99f88d4a",
   "metadata": {},
   "source": [
    "### Visual analysis of language preferred and converted status"
   ]
  },
  {
   "cell_type": "code",
   "execution_count": 31,
   "id": "5b575347",
   "metadata": {},
   "outputs": [
    {
     "data": {
      "image/png": "[encoded data removed]",
      "text/plain": [
       "<Figure size 504x360 with 1 Axes>"
      ]
     },
     "metadata": {
      "needs_background": "light"
     },
     "output_type": "display_data"
    }
   ],
   "source": [
    "# Using countplot to show the distribution of language preferred with a hue on converted status\n",
    "plt.figure(figsize=(7,5))\n",
    "sns.countplot(data=df, x='language_preferred', hue='converted')\n",
    "plt.show()"
   ]
  },
  {
   "cell_type": "markdown",
   "id": "7fa8ab84",
   "metadata": {},
   "source": [
    "### Observations:\n",
    "* The users with language preference as English have very high conversion rates.\n",
    "* The number of users getting converted with Spanish language preference are also more.\n",
    "* In the case of French, the number of users getting converted are less."
   ]
  },
  {
   "cell_type": "markdown",
   "id": "af1dc2d2",
   "metadata": {},
   "source": [
    "### Conducting a hypothesis test to determine whether the converted status depend on the preferred language"
   ]
  },
  {
   "cell_type": "markdown",
   "id": "e26bd860",
   "metadata": {},
   "source": [
    "### Step 1: Define null and alternate hypotheses"
   ]
  },
  {
   "cell_type": "markdown",
   "id": "8851ccc7",
   "metadata": {},
   "source": [
    "We will test the null hypothesis\n",
    "\n",
    "    𝐻0:  Converted status is independent of language preference.\n",
    "\n",
    "against the alternate hypothesis\n",
    "\n",
    "    𝐻𝑎:  Converted status depends on language preference."
   ]
  },
  {
   "cell_type": "markdown",
   "id": "5636c5f4",
   "metadata": {},
   "source": [
    "### Step 2: Select Appropriate test"
   ]
  },
  {
   "cell_type": "markdown",
   "id": "c76d4575",
   "metadata": {},
   "source": [
    "This is a problem of Chi-Square test of independence, concerning the two independent categorical variables, language preference and converted status. All the below assumptions for this test is met.\n",
    "* Categorical variables\n",
    "* Expected value of the number of sample observations in each level of the variable is at least 5\n",
    "* Random sampling from the population"
   ]
  },
  {
   "cell_type": "markdown",
   "id": "df3de18a",
   "metadata": {},
   "source": [
    "### Step 3: Decide the significance level"
   ]
  },
  {
   "cell_type": "markdown",
   "id": "f3c1e45f",
   "metadata": {},
   "source": [
    "As given in the problem statement, select 𝛼 = 0.05."
   ]
  },
  {
   "cell_type": "markdown",
   "id": "b475a19f",
   "metadata": {},
   "source": [
    "### Step 4: Collect and prepare data"
   ]
  },
  {
   "cell_type": "code",
   "execution_count": 32,
   "id": "a0bd0791",
   "metadata": {},
   "outputs": [
    {
     "data": {
      "text/html": [
       "<div>\n",
       "<style scoped>\n",
       "    .dataframe tbody tr th:only-of-type {\n",
       "        vertical-align: middle;\n",
       "    }\n",
       "\n",
       "    .dataframe tbody tr th {\n",
       "        vertical-align: top;\n",
       "    }\n",
       "\n",
       "    .dataframe thead th {\n",
       "        text-align: right;\n",
       "    }\n",
       "</style>\n",
       "<table border=\"1\" class=\"dataframe\">\n",
       "  <thead>\n",
       "    <tr style=\"text-align: right;\">\n",
       "      <th>converted</th>\n",
       "      <th>no</th>\n",
       "      <th>yes</th>\n",
       "    </tr>\n",
       "    <tr>\n",
       "      <th>language_preferred</th>\n",
       "      <th></th>\n",
       "      <th></th>\n",
       "    </tr>\n",
       "  </thead>\n",
       "  <tbody>\n",
       "    <tr>\n",
       "      <th>English</th>\n",
       "      <td>11</td>\n",
       "      <td>21</td>\n",
       "    </tr>\n",
       "    <tr>\n",
       "      <th>French</th>\n",
       "      <td>19</td>\n",
       "      <td>15</td>\n",
       "    </tr>\n",
       "    <tr>\n",
       "      <th>Spanish</th>\n",
       "      <td>16</td>\n",
       "      <td>18</td>\n",
       "    </tr>\n",
       "  </tbody>\n",
       "</table>\n",
       "</div>"
      ],
      "text/plain": [
       "converted           no  yes\n",
       "language_preferred         \n",
       "English             11   21\n",
       "French              19   15\n",
       "Spanish             16   18"
      ]
     },
     "execution_count": 32,
     "metadata": {},
     "output_type": "execute_result"
    }
   ],
   "source": [
    "#preparing the contingency table using crosstab function\n",
    "cont_table= pd.crosstab(df['language_preferred'],df['converted'])\n",
    "cont_table"
   ]
  },
  {
   "cell_type": "markdown",
   "id": "7e38012f",
   "metadata": {},
   "source": [
    "### Step 5: Calculate the p-value"
   ]
  },
  {
   "cell_type": "code",
   "execution_count": 33,
   "id": "f83e4492",
   "metadata": {},
   "outputs": [
    {
     "name": "stdout",
     "output_type": "stream",
     "text": [
      "The p-value is  0.2129888748754345\n"
     ]
    }
   ],
   "source": [
    "# calculating p_value using chi2_contingency function\n",
    "chi, p_value, dof, expected = stats.chi2_contingency(cont_table)\n",
    "print('The p-value is ', p_value)"
   ]
  },
  {
   "cell_type": "markdown",
   "id": "d6946e0b",
   "metadata": {},
   "source": [
    "### Step 6: Compare the p-value with $\\alpha$"
   ]
  },
  {
   "cell_type": "code",
   "execution_count": 34,
   "id": "b34e03ea",
   "metadata": {},
   "outputs": [
    {
     "name": "stdout",
     "output_type": "stream",
     "text": [
      "As the p-value 0.2129888748754345 is greater than the level of significance, we fail to reject the null hypothesis.\n"
     ]
    }
   ],
   "source": [
    "# print the conclusion based on p-value\n",
    "if p_value < 0.05:\n",
    "    print(f'As the p-value {p_value} is less than the level of significance, we reject the null hypothesis.')\n",
    "else:\n",
    "    print(f'As the p-value {p_value} is greater than the level of significance, we fail to reject the null hypothesis.')"
   ]
  },
  {
   "cell_type": "markdown",
   "id": "31539bb1",
   "metadata": {},
   "source": [
    "### Step 7: Draw inference"
   ]
  },
  {
   "cell_type": "markdown",
   "id": "e1e01b55",
   "metadata": {},
   "source": [
    "Since the p-value is greater than the level of significance (0.05), we fail to reject the null hypothesis. Hence, we do not have enough evidence to say that the converted status is dependent on the preferred language."
   ]
  },
  {
   "cell_type": "markdown",
   "id": "f56ba369",
   "metadata": {},
   "source": [
    "## 5. Is the mean time spent on the new page same for the different language users?"
   ]
  },
  {
   "cell_type": "markdown",
   "id": "44a01585",
   "metadata": {},
   "source": [
    "### Visual analysis of the mean time spent on new landing page for different language users"
   ]
  },
  {
   "cell_type": "code",
   "execution_count": 35,
   "id": "a977cbc7",
   "metadata": {},
   "outputs": [
    {
     "data": {
      "image/png": "[encoded data removed]",
      "text/plain": [
       "<Figure size 432x288 with 1 Axes>"
      ]
     },
     "metadata": {
      "needs_background": "light"
     },
     "output_type": "display_data"
    }
   ],
   "source": [
    "#Using boxplot to show the distibution of the mean time spent on the new landing page for different language users\n",
    "sns.boxplot(data=df[df.landing_page=='new'],x='language_preferred',y='time_spent_on_the_page',showmeans=True)\n",
    "plt.show()"
   ]
  },
  {
   "cell_type": "markdown",
   "id": "444b5681",
   "metadata": {},
   "source": [
    "### Observations:\n",
    "* The plot shows that the mean time spent on the new page is different for different language users."
   ]
  },
  {
   "cell_type": "markdown",
   "id": "8340a995",
   "metadata": {},
   "source": [
    "### Conducting a hypothesis test to determine whether the mean time spent on new landing page is same for different language users"
   ]
  },
  {
   "cell_type": "markdown",
   "id": "51e9e676",
   "metadata": {},
   "source": [
    "### Step 1: Define null and alternate hypotheses"
   ]
  },
  {
   "cell_type": "markdown",
   "id": "a1d02120",
   "metadata": {},
   "source": [
    "Let  𝜇1,𝜇2,𝜇3  be the means of time spent on new landing page for English, Spanish and French languages respectively.\n",
    "\n",
    "We will test the null hypothesis\n",
    "\n",
    "    𝐻0: The mean time spent on new landing page is same for all languages\n",
    "    \n",
    "    𝜇1=𝜇2=𝜇3 \n",
    "    \n",
    "    against the alternative hypothesis\n",
    "\n",
    "    𝐻𝑎: Atleast one language has a different mean time spent on the new landing page from the rest."
   ]
  },
  {
   "cell_type": "markdown",
   "id": "eee57aa4",
   "metadata": {},
   "source": [
    "### Step 2: Select Appropriate test"
   ]
  },
  {
   "cell_type": "markdown",
   "id": "ac2b9e15",
   "metadata": {},
   "source": [
    "This is a problem, concerning three population means. One-way ANOVA could be the appropriate test here provided normality and equality of variance assumptions are verified.\n",
    "\n",
    "* For testing of normality, Shapiro-Wilk’s test is applied to the response variable.\n",
    "\n",
    "* For equality of variance, Levene test is applied to the response variable."
   ]
  },
  {
   "cell_type": "markdown",
   "id": "023391b2",
   "metadata": {},
   "source": [
    "#### Shapiro-Wilk’s test\n",
    "\n",
    "We will test the null hypothesis\n",
    "\n",
    "    𝐻0:  The time spent on the new landing page follows a normal distribution\n",
    "\n",
    "    against the alternative hypothesis\n",
    "\n",
    "    𝐻𝑎:  The time spent on the new landing page does not follow normal distribution"
   ]
  },
  {
   "cell_type": "code",
   "execution_count": 36,
   "id": "53ee310a",
   "metadata": {},
   "outputs": [
    {
     "name": "stdout",
     "output_type": "stream",
     "text": [
      "The p-value is 0.8040016293525696\n"
     ]
    }
   ],
   "source": [
    "# Assumption 1: Normality\n",
    "# Using shapiro function for this test\n",
    "\n",
    "# find the p-value\n",
    "w, p_value = stats.shapiro(df[df.landing_page=='new']['time_spent_on_the_page']) \n",
    "print('The p-value is', p_value)"
   ]
  },
  {
   "cell_type": "markdown",
   "id": "67777aeb",
   "metadata": {},
   "source": [
    "#### Observation:\n",
    "Since p-value is greater than 0.05, we fail to reject the null hypothesis. Hence, we do have enough evidence to say that the time spent on the new landing page follows a normal distribution"
   ]
  },
  {
   "cell_type": "markdown",
   "id": "bcac1b0a",
   "metadata": {},
   "source": [
    "#### Levene's Test\n",
    "\n",
    "We will test the null hypothesis\n",
    "\n",
    "    𝐻0 : All the population variances are equal\n",
    "\n",
    "against the alternative hypothesis\n",
    "\n",
    "    𝐻𝑎 : At least one variance is different from the rest"
   ]
  },
  {
   "cell_type": "code",
   "execution_count": 37,
   "id": "0a1fbb86",
   "metadata": {},
   "outputs": [
    {
     "name": "stdout",
     "output_type": "stream",
     "text": [
      "The p-value is 0.46711357711340173\n"
     ]
    }
   ],
   "source": [
    "#Assumption 2: Homogeneity of Variance\n",
    "\n",
    "df_new=df[df['landing_page']=='new'].copy() #create a dataframe of new landing page\n",
    "\n",
    "# Using levene function from scipy.stats library for this test\n",
    "\n",
    "# find the p-value\n",
    "statistic, p_value = stats.levene(df_new[df_new['language_preferred']=='English']['time_spent_on_the_page'],\n",
    "                            df_new[df_new['language_preferred']=='Spanish']['time_spent_on_the_page'],\n",
    "                            df_new[df_new['language_preferred']=='French']['time_spent_on_the_page'])\n",
    "print('The p-value is', p_value)"
   ]
  },
  {
   "cell_type": "markdown",
   "id": "240acfe3",
   "metadata": {},
   "source": [
    "#### Observation:\n",
    "Since the p-value is large than the 5% significance level, we fail to reject the null hypothesis and hence we have enough evidence that the population variances are equal."
   ]
  },
  {
   "cell_type": "markdown",
   "id": "0b309609",
   "metadata": {},
   "source": [
    "### Step 3: Decide the significance level"
   ]
  },
  {
   "cell_type": "markdown",
   "id": "c870e0aa",
   "metadata": {},
   "source": [
    "As given in the problem statement, we select α = 0.05."
   ]
  },
  {
   "cell_type": "markdown",
   "id": "258668bd",
   "metadata": {},
   "source": [
    "### Step 4: Collect and prepare data"
   ]
  },
  {
   "cell_type": "code",
   "execution_count": 38,
   "id": "fa403d53",
   "metadata": {},
   "outputs": [],
   "source": [
    "# Separating the time spent by each language users\n",
    "time_english=df_new[df_new['language_preferred']=='English']['time_spent_on_the_page']\n",
    "time_spanish=df_new[df_new['language_preferred']=='Spanish']['time_spent_on_the_page']\n",
    "time_french=df_new[df_new['language_preferred']=='French']['time_spent_on_the_page']"
   ]
  },
  {
   "cell_type": "markdown",
   "id": "fd624db6",
   "metadata": {},
   "source": [
    "### Step 5: Calculate the p-value"
   ]
  },
  {
   "cell_type": "code",
   "execution_count": 39,
   "id": "a7ffe6cd",
   "metadata": {},
   "outputs": [
    {
     "name": "stdout",
     "output_type": "stream",
     "text": [
      "The p-value is 0.43204138694325955\n"
     ]
    }
   ],
   "source": [
    "# perform one-way anova test using the f_oneway function from scipy.stats library\n",
    "test_stat, p_value = stats.f_oneway(time_english, time_spanish, time_french)\n",
    "print('The p-value is', p_value)"
   ]
  },
  {
   "cell_type": "markdown",
   "id": "5169c7c5",
   "metadata": {},
   "source": [
    "### Step 6: Compare the p-value with  𝛼 "
   ]
  },
  {
   "cell_type": "code",
   "execution_count": 40,
   "id": "3cef4521",
   "metadata": {},
   "outputs": [
    {
     "name": "stdout",
     "output_type": "stream",
     "text": [
      "As the p-value 0.43204138694325955 is greater than the level of significance, we fail to reject the null hypothesis.\n"
     ]
    }
   ],
   "source": [
    "# print the conclusion based on p-value\n",
    "if p_value < 0.05:\n",
    "    print(f'As the p-value {p_value} is less than the level of significance, we reject the null hypothesis.')\n",
    "else:\n",
    "    print(f'As the p-value {p_value} is greater than the level of significance, we fail to reject the null hypothesis.')"
   ]
  },
  {
   "cell_type": "markdown",
   "id": "a728859f",
   "metadata": {},
   "source": [
    "### Step 7: Draw inference"
   ]
  },
  {
   "cell_type": "markdown",
   "id": "ad52f4db",
   "metadata": {},
   "source": [
    "Since the p-value is greater than 0.05, we fail to reject the null hypothesis. Hence, we do have enough evidence to say that the mean time spent on the new page is same for different language users."
   ]
  },
  {
   "cell_type": "markdown",
   "id": "4f2bee45",
   "metadata": {},
   "source": [
    "## The conclusions and business recommendations derived from the analysis.\n",
    "\n",
    "After all the analysis of the data from online news portal E-news Express, below are the conclusions derived:\n",
    "\n",
    "### Conclusions:\n",
    "1. The conversion rate for new landing page is greater than the conversion rate for old landing page.\n",
    "2. The users who got converted are spending more time on the landing page.\n",
    "3. The mean time spent on the new landing page is more than the mean time spent on the old landing page.\n",
    "4. The mean time spent on the new page is same for different language users.\n",
    "5. Though statistically there is not enough evidence to prove that the conversion rate depends on the language preference, the number of users with English language preference have more conversion rate visually.\n",
    "\n",
    "### Recommendations:\n",
    "\n",
    "* Statistically, there is not enough evidence to prove that the conversion rate depends on the language preference. \n",
    "* Visually, the users with language preference as French have very less conversion rate when compared to other language users. \n",
    "* Adding new features in the landing page that attracts French language users may help to increase the subscription rate.\n",
    "\n",
    "\n",
    "### Further Analysis:\n",
    "* Statistical analysis proved that the users who got converted are spending more time on the landing page. \n",
    "* The visual analysis shows that the French language users are spending more time on the landing page, but their conversion rate is less. \n",
    "* A further analysis is needed to identify the factors that is impacting the conversion rate of French language users.\n"
   ]
  },
  {
   "cell_type": "markdown",
   "id": "ce76376e",
   "metadata": {},
   "source": [
    "======================================================================================================================"
   ]
  }
 ],
 "metadata": {
  "kernelspec": {
   "display_name": "Python 3",
   "language": "python",
   "name": "python3"
  },
  "language_info": {
   "codemirror_mode": {
    "name": "ipython",
    "version": 3
   },
   "file_extension": ".py",
   "mimetype": "text/x-python",
   "name": "python",
   "nbconvert_exporter": "python",
   "pygments_lexer": "ipython3",
   "version": "3.8.8"
  }
 },
 "nbformat": 4,
 "nbformat_minor": 5
}
